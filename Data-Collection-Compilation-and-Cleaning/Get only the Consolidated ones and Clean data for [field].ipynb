{
 "cells": [
  {
   "cell_type": "code",
   "execution_count": 1,
   "metadata": {
    "collapsed": true
   },
   "outputs": [],
   "source": [
    "import pandas as pd\n",
    "import numpy as np"
   ]
  },
  {
   "cell_type": "code",
   "execution_count": 2,
   "metadata": {
    "collapsed": true
   },
   "outputs": [],
   "source": [
    "field = 'Liabilities'\n",
    "field_indicator = 'liabilities'"
   ]
  },
  {
   "cell_type": "code",
   "execution_count": 3,
   "metadata": {
    "collapsed": true,
    "scrolled": true
   },
   "outputs": [],
   "source": [
    "df = pd.read_csv('liabilities_with_notes.csv')"
   ]
  },
  {
   "cell_type": "code",
   "execution_count": 4,
   "metadata": {
    "collapsed": true
   },
   "outputs": [],
   "source": [
    "del df['Unnamed: 0']"
   ]
  },
  {
   "cell_type": "code",
   "execution_count": 5,
   "metadata": {
    "collapsed": true
   },
   "outputs": [],
   "source": [
    "df.coreg = df.coreg.fillna('null')"
   ]
  },
  {
   "cell_type": "code",
   "execution_count": 6,
   "metadata": {
    "scrolled": true
   },
   "outputs": [
    {
     "data": {
      "text/plain": [
       "52690"
      ]
     },
     "execution_count": 6,
     "metadata": {},
     "output_type": "execute_result"
    }
   ],
   "source": [
    "len(df)"
   ]
  },
  {
   "cell_type": "code",
   "execution_count": 7,
   "metadata": {},
   "outputs": [
    {
     "data": {
      "text/plain": [
       "52690"
      ]
     },
     "execution_count": 7,
     "metadata": {},
     "output_type": "execute_result"
    }
   ],
   "source": [
    "# Drop duplicates \n",
    "df = df.drop_duplicates(['cik','coreg','period',field])\n",
    "len(df)"
   ]
  },
  {
   "cell_type": "code",
   "execution_count": 8,
   "metadata": {},
   "outputs": [
    {
     "data": {
      "text/plain": [
       "52690"
      ]
     },
     "execution_count": 8,
     "metadata": {},
     "output_type": "execute_result"
    }
   ],
   "source": [
    "# Keeping the non-null values\n",
    "df = df.copy()[df.copy()[field].notnull()]\n",
    "len(df)"
   ]
  },
  {
   "cell_type": "markdown",
   "metadata": {},
   "source": [
    "## Keeping only the consolidated companies (coreg = null)"
   ]
  },
  {
   "cell_type": "code",
   "execution_count": 9,
   "metadata": {
    "collapsed": true,
    "scrolled": true
   },
   "outputs": [],
   "source": [
    "df_consolidated = df.copy()[df.copy().coreg=='null']"
   ]
  },
  {
   "cell_type": "code",
   "execution_count": 10,
   "metadata": {
    "collapsed": true,
    "scrolled": true
   },
   "outputs": [],
   "source": [
    "df_consolidated['cik'] = df_consolidated['cik'].astype('str')\n",
    "df_consolidated['period'] = df_consolidated['period'].astype('str')\n",
    "\n",
    "df_consolidated['cik+period'] = df_consolidated['cik'] + \"_\" + df_consolidated['period']\n",
    "\n",
    "df_consolidated['cik'] = df_consolidated['cik'].astype('int64')\n",
    "df_consolidated['period'] = df_consolidated['period'].astype('float64')"
   ]
  },
  {
   "cell_type": "code",
   "execution_count": 11,
   "metadata": {
    "collapsed": true
   },
   "outputs": [],
   "source": [
    "# List of cik+period pairs of companies that have consolidated(coreg=null) entries\n",
    "df_consolidated_cik_and_period = df_consolidated['cik+period']"
   ]
  },
  {
   "cell_type": "code",
   "execution_count": 12,
   "metadata": {
    "collapsed": true
   },
   "outputs": [],
   "source": [
    "df_not_consolidated = df.copy()[df.copy().coreg!='null']"
   ]
  },
  {
   "cell_type": "code",
   "execution_count": 13,
   "metadata": {
    "collapsed": true,
    "scrolled": true
   },
   "outputs": [],
   "source": [
    "df_not_consolidated['cik'] = df_not_consolidated['cik'].astype('str')\n",
    "df_not_consolidated['period'] = df_not_consolidated['period'].astype('str')\n",
    "\n",
    "df_not_consolidated['cik+period'] = df_not_consolidated['cik'] + \"_\" + df_not_consolidated['period']\n",
    "\n",
    "df_not_consolidated['cik'] = df_not_consolidated['cik'].astype('int64')\n",
    "df_not_consolidated['period'] = df_not_consolidated['period'].astype('float64')"
   ]
  },
  {
   "cell_type": "code",
   "execution_count": 14,
   "metadata": {
    "collapsed": true,
    "scrolled": true
   },
   "outputs": [],
   "source": [
    "# List of companies that don't have consolidated company but only has subsidiaries\n",
    "df_no_consolidated_in_group = df_not_consolidated[~df_not_consolidated.isin(df_consolidated_cik_and_period)]"
   ]
  },
  {
   "cell_type": "code",
   "execution_count": 15,
   "metadata": {
    "collapsed": true
   },
   "outputs": [],
   "source": [
    "# Summed up values into one for companies that don't have consolidated company but only has subsidiaries\n",
    "df_no_consolidated_in_group_sum = \\\n",
    "df_no_consolidated_in_group.groupby(['cik','period']).sum().\\\n",
    "loc[:,[field]].reset_index().\\\n",
    "merge(df_no_consolidated_in_group.loc[:,['adsh', 'adsh+coreg+value','adsh_10k', 'adsh_other',\n",
    " 'adsh_x', 'adsh_y','cik', 'cik+coreg+ddate',\n",
    " 'cik+coreg+period','coreg', 'ddate',\n",
    " 'filed', 'form','fp', 'fy',\n",
    " 'fye','name','period', 'qtrs', 'sic','ein','cik+period']], on=['cik','period'],how='left').drop_duplicates()"
   ]
  },
  {
   "cell_type": "code",
   "execution_count": 16,
   "metadata": {
    "collapsed": true
   },
   "outputs": [],
   "source": [
    "# Fill in coreg of df_no_consolidated_in_group_sum as \"sum\"\n",
    "df_no_consolidated_in_group_sum['coreg'] = 'sum'"
   ]
  },
  {
   "cell_type": "code",
   "execution_count": 17,
   "metadata": {
    "collapsed": true,
    "scrolled": true
   },
   "outputs": [],
   "source": [
    "got_only_consolidated_df =\\\n",
    "df_consolidated.append(df_no_consolidated_in_group_sum)"
   ]
  },
  {
   "cell_type": "code",
   "execution_count": 18,
   "metadata": {
    "collapsed": true
   },
   "outputs": [],
   "source": [
    "# 'cik', 'name', 'coreg', 'sic', 'period', 'fy', 'qtrs', 'ein', field\n",
    "\n",
    "got_only_consolidated_df = got_only_consolidated_df.loc[:,['cik', 'name', 'coreg', 'sic', 'period', 'fy', 'qtrs', 'ein', field]]"
   ]
  },
  {
   "cell_type": "code",
   "execution_count": 19,
   "metadata": {
    "collapsed": true
   },
   "outputs": [],
   "source": [
    "got_only_consolidated_df = got_only_consolidated_df.drop_duplicates(['cik','period',field])"
   ]
  },
  {
   "cell_type": "code",
   "execution_count": 20,
   "metadata": {},
   "outputs": [
    {
     "data": {
      "text/plain": [
       "46855"
      ]
     },
     "execution_count": 20,
     "metadata": {},
     "output_type": "execute_result"
    }
   ],
   "source": [
    "len(got_only_consolidated_df)"
   ]
  },
  {
   "cell_type": "code",
   "execution_count": 21,
   "metadata": {},
   "outputs": [
    {
     "data": {
      "text/plain": [
       "35700"
      ]
     },
     "execution_count": 21,
     "metadata": {},
     "output_type": "execute_result"
    }
   ],
   "source": [
    "# Number of unique cik, period combinations\n",
    "got_only_consolidated_df.groupby(['cik','period']).ngroups"
   ]
  },
  {
   "cell_type": "markdown",
   "metadata": {},
   "source": [
    "## Duplicates(cik, coreg, period)"
   ]
  },
  {
   "cell_type": "code",
   "execution_count": 22,
   "metadata": {
    "collapsed": true
   },
   "outputs": [],
   "source": [
    "# List of duplicates(cik, coreg, period) from the list of consolidated companies\n",
    "got_only_consolidated_df_dup =\\\n",
    "got_only_consolidated_df.copy()[got_only_consolidated_df.copy().duplicated(['cik','period'],keep=False)]"
   ]
  },
  {
   "cell_type": "code",
   "execution_count": 23,
   "metadata": {
    "collapsed": true
   },
   "outputs": [],
   "source": [
    "# List of entities that are not duplicates(cik, coreg, period) from the list of consolidated companies\n",
    "got_only_consolidated_df_not_dup =\\\n",
    "got_only_consolidated_df.copy().drop_duplicates(['cik','period'],keep=False)"
   ]
  },
  {
   "cell_type": "code",
   "execution_count": 24,
   "metadata": {},
   "outputs": [
    {
     "data": {
      "text/plain": [
       "5699"
      ]
     },
     "execution_count": 24,
     "metadata": {},
     "output_type": "execute_result"
    }
   ],
   "source": [
    "# Number of unique cik, coreg, period combinations that have duplicates\n",
    "got_only_consolidated_df_dup.groupby(['cik','period']).ngroups"
   ]
  },
  {
   "cell_type": "code",
   "execution_count": 25,
   "metadata": {
    "collapsed": true
   },
   "outputs": [],
   "source": [
    "got_only_consolidated_df_dup['qtrs_check'] = \\\n",
    "np.where(got_only_consolidated_df_dup.qtrs==4.0,100,-1)"
   ]
  },
  {
   "cell_type": "code",
   "execution_count": 26,
   "metadata": {},
   "outputs": [
    {
     "data": {
      "text/plain": [
       "0"
      ]
     },
     "execution_count": 26,
     "metadata": {},
     "output_type": "execute_result"
    }
   ],
   "source": [
    "#### STATS ####\n",
    "# Number of entities that have just one qtrs=4\n",
    "sum((pd.DataFrame(got_only_consolidated_df_dup.groupby(['cik','period']).qtrs_check.sum()).reset_index().qtrs_check <=100) & \\\n",
    "    (pd.DataFrame(got_only_consolidated_df_dup.groupby(['cik','period']).qtrs_check.sum()).reset_index().qtrs_check >0))"
   ]
  },
  {
   "cell_type": "code",
   "execution_count": 27,
   "metadata": {},
   "outputs": [
    {
     "data": {
      "text/plain": [
       "0"
      ]
     },
     "execution_count": 27,
     "metadata": {},
     "output_type": "execute_result"
    }
   ],
   "source": [
    "#### STATS ####\n",
    "# Number of entities that have multiple qtrs=4\n",
    "sum(pd.DataFrame(got_only_consolidated_df_dup.groupby(['cik','period']).qtrs_check.sum()).reset_index().qtrs_check>100)"
   ]
  },
  {
   "cell_type": "code",
   "execution_count": 28,
   "metadata": {},
   "outputs": [
    {
     "data": {
      "text/plain": [
       "5699"
      ]
     },
     "execution_count": 28,
     "metadata": {},
     "output_type": "execute_result"
    }
   ],
   "source": [
    "#### STATS ####\n",
    "# Number of entities that don't have any qtrs=4 at all\n",
    "sum(pd.DataFrame(got_only_consolidated_df_dup.groupby(['cik','period']).qtrs_check.sum()).reset_index().qtrs_check<0)"
   ]
  },
  {
   "cell_type": "code",
   "execution_count": 29,
   "metadata": {},
   "outputs": [
    {
     "data": {
      "text/plain": [
       "5699"
      ]
     },
     "execution_count": 29,
     "metadata": {},
     "output_type": "execute_result"
    }
   ],
   "source": [
    "#### STATS ####\n",
    "# Number of entities that we have to check manually\n",
    "sum(pd.DataFrame(got_only_consolidated_df_dup.groupby(['cik','period']).qtrs_check.sum()).reset_index().qtrs_check>100) + \\\n",
    "sum(pd.DataFrame(got_only_consolidated_df_dup.groupby(['cik','period']).qtrs_check.sum()).reset_index().qtrs_check<0)"
   ]
  },
  {
   "cell_type": "markdown",
   "metadata": {},
   "source": [
    "## Make data_duplicates & Clean"
   ]
  },
  {
   "cell_type": "code",
   "execution_count": 30,
   "metadata": {
    "collapsed": true
   },
   "outputs": [],
   "source": [
    "# Dataframe that shows for each cik+coreg+period c|ombination how many qtrs=4 it has\n",
    "df_dup_qtrs4_check =\\\n",
    "pd.DataFrame(got_only_consolidated_df_dup.groupby(['cik','coreg','period']).qtrs_check.sum()).reset_index()"
   ]
  },
  {
   "cell_type": "code",
   "execution_count": 31,
   "metadata": {
    "collapsed": true,
    "scrolled": true
   },
   "outputs": [],
   "source": [
    "# 'cik', 'name', 'coreg', 'sic', 'period', 'fy', 'qtrs', 'ein', field\n",
    "\n",
    "# List of entities that don't have any qtrs=4 at all\n",
    "df_dup_no_qtrs4_at_all = \\\n",
    "df_dup_qtrs4_check[df_dup_qtrs4_check.qtrs_check<0].\\\n",
    "merge(got_only_consolidated_df_dup.loc[:,['cik', 'name', 'coreg', 'sic', 'period', 'fy', 'qtrs', 'ein', field]], \n",
    "      on=['cik','period'],how='left')"
   ]
  },
  {
   "cell_type": "code",
   "execution_count": 32,
   "metadata": {
    "collapsed": true
   },
   "outputs": [],
   "source": [
    "# 'cik', 'name', 'coreg', 'sic', 'period', 'fy', 'qtrs', 'ein', field\n",
    "\n",
    "# List of entities that don't have any qtrs=4 at all\n",
    "df_dup_multip_qtrs4= \\\n",
    "df_dup_qtrs4_check[df_dup_qtrs4_check.qtrs_check>100].\\\n",
    "merge(got_only_consolidated_df_dup.loc[:,['cik', 'name','sic', 'period', 'fy', 'qtrs', 'ein', field]], \n",
    "      on=['cik','period'],how='left')"
   ]
  },
  {
   "cell_type": "code",
   "execution_count": 33,
   "metadata": {
    "collapsed": true,
    "scrolled": true
   },
   "outputs": [],
   "source": [
    "# List of entities that we have check manually\n",
    "df_dup_manually_check =\\\n",
    "df_dup_no_qtrs4_at_all.append(df_dup_multip_qtrs4)\n",
    "\n",
    "del df_dup_manually_check['qtrs_check']"
   ]
  },
  {
   "cell_type": "code",
   "execution_count": 34,
   "metadata": {
    "collapsed": true,
    "scrolled": true
   },
   "outputs": [],
   "source": [
    "# Saving duplicate dataframe that we need to manually check as field_duplicates.csv\n",
    "df_dup_manually_check.to_csv(field_indicator+'_duplicates.csv')"
   ]
  },
  {
   "cell_type": "code",
   "execution_count": 35,
   "metadata": {
    "collapsed": true
   },
   "outputs": [],
   "source": [
    "# 'cik', 'name', 'coreg', 'sic', 'period', 'fy', 'qtrs', 'ein', field\n",
    "\n",
    "# List of entities tht only have one qtrs=4\n",
    "df_dup_just_one_qtrs4= \\\n",
    "df_dup_qtrs4_check[(df_dup_qtrs4_check.qtrs_check<=100) & (df_dup_qtrs4_check.qtrs_check>0)].\\\n",
    "merge(got_only_consolidated_df_dup.loc[:,['cik', 'name','sic', 'period', 'fy', 'qtrs', 'ein', field]],\n",
    "      on=['cik','period'],how='left')\n",
    "\n",
    "del df_dup_just_one_qtrs4['qtrs_check']\n",
    "\n",
    "# Keep only the entities tha have qtrs=4\n",
    "df_dup_just_one_qtrs4 = df_dup_just_one_qtrs4.copy()[df_dup_just_one_qtrs4.copy().qtrs==4.0]"
   ]
  },
  {
   "cell_type": "code",
   "execution_count": 36,
   "metadata": {
    "collapsed": true,
    "scrolled": true
   },
   "outputs": [],
   "source": [
    "# Clean Data (Non duplicates + df that has only one qtrs=4)\n",
    "df_clean_data =\\\n",
    "got_only_consolidated_df_not_dup.append(df_dup_just_one_qtrs4)"
   ]
  },
  {
   "cell_type": "code",
   "execution_count": 37,
   "metadata": {},
   "outputs": [
    {
     "data": {
      "text/plain": [
       "(30001, 30001)"
      ]
     },
     "execution_count": 37,
     "metadata": {},
     "output_type": "execute_result"
    }
   ],
   "source": [
    "len(df_clean_data), df_clean_data.groupby(['cik','period']).ngroups"
   ]
  },
  {
   "cell_type": "code",
   "execution_count": 38,
   "metadata": {
    "collapsed": true
   },
   "outputs": [],
   "source": [
    "# Finally drop duplicates that still have the same cik, period and value\n",
    "df_clean_data.drop_duplicates(['cik','period',field],inplace=True)"
   ]
  },
  {
   "cell_type": "code",
   "execution_count": 39,
   "metadata": {
    "scrolled": true
   },
   "outputs": [
    {
     "data": {
      "text/html": [
       "<div>\n",
       "<style>\n",
       "    .dataframe thead tr:only-child th {\n",
       "        text-align: right;\n",
       "    }\n",
       "\n",
       "    .dataframe thead th {\n",
       "        text-align: left;\n",
       "    }\n",
       "\n",
       "    .dataframe tbody tr th {\n",
       "        vertical-align: top;\n",
       "    }\n",
       "</style>\n",
       "<table border=\"1\" class=\"dataframe\">\n",
       "  <thead>\n",
       "    <tr style=\"text-align: right;\">\n",
       "      <th></th>\n",
       "      <th>Liabilities</th>\n",
       "      <th>cik</th>\n",
       "      <th>coreg</th>\n",
       "      <th>ein</th>\n",
       "      <th>fy</th>\n",
       "      <th>name</th>\n",
       "      <th>period</th>\n",
       "      <th>qtrs</th>\n",
       "      <th>sic</th>\n",
       "    </tr>\n",
       "  </thead>\n",
       "  <tbody>\n",
       "  </tbody>\n",
       "</table>\n",
       "</div>"
      ],
      "text/plain": [
       "Empty DataFrame\n",
       "Columns: [Liabilities, cik, coreg, ein, fy, name, period, qtrs, sic]\n",
       "Index: []"
      ]
     },
     "execution_count": 39,
     "metadata": {},
     "output_type": "execute_result"
    }
   ],
   "source": [
    "df_clean_data[df_clean_data.duplicated(['cik','period'],keep=False)]"
   ]
  },
  {
   "cell_type": "code",
   "execution_count": 87,
   "metadata": {
    "collapsed": true
   },
   "outputs": [],
   "source": [
    "# If there are still duplicates even after all this, keep last duplicates that still have the same cik, period and value \n",
    "df_clean_data.drop_duplicates(['cik','period'],keep='last',inplace=True)"
   ]
  },
  {
   "cell_type": "code",
   "execution_count": 88,
   "metadata": {
    "scrolled": true
   },
   "outputs": [
    {
     "data": {
      "text/html": [
       "<div>\n",
       "<style>\n",
       "    .dataframe thead tr:only-child th {\n",
       "        text-align: right;\n",
       "    }\n",
       "\n",
       "    .dataframe thead th {\n",
       "        text-align: left;\n",
       "    }\n",
       "\n",
       "    .dataframe tbody tr th {\n",
       "        vertical-align: top;\n",
       "    }\n",
       "</style>\n",
       "<table border=\"1\" class=\"dataframe\">\n",
       "  <thead>\n",
       "    <tr style=\"text-align: right;\">\n",
       "      <th></th>\n",
       "      <th>ResearchAndDevelopmentExpense</th>\n",
       "      <th>cik</th>\n",
       "      <th>coreg</th>\n",
       "      <th>ein</th>\n",
       "      <th>fy</th>\n",
       "      <th>name</th>\n",
       "      <th>period</th>\n",
       "      <th>qtrs</th>\n",
       "      <th>sic</th>\n",
       "    </tr>\n",
       "  </thead>\n",
       "  <tbody>\n",
       "  </tbody>\n",
       "</table>\n",
       "</div>"
      ],
      "text/plain": [
       "Empty DataFrame\n",
       "Columns: [ResearchAndDevelopmentExpense, cik, coreg, ein, fy, name, period, qtrs, sic]\n",
       "Index: []"
      ]
     },
     "execution_count": 88,
     "metadata": {},
     "output_type": "execute_result"
    }
   ],
   "source": [
    "df_clean_data[df_clean_data.duplicated(['cik','period'],keep=False)]"
   ]
  },
  {
   "cell_type": "code",
   "execution_count": 40,
   "metadata": {
    "collapsed": true
   },
   "outputs": [],
   "source": [
    "# Saving cleaned data as \"field indicator name_clean.csv\"\n",
    "df_clean_data.to_csv(field_indicator+'_clean.csv')"
   ]
  }
 ],
 "metadata": {
  "kernelspec": {
   "display_name": "Python 3",
   "language": "python",
   "name": "python3"
  },
  "language_info": {
   "codemirror_mode": {
    "name": "ipython",
    "version": 3
   },
   "file_extension": ".py",
   "mimetype": "text/x-python",
   "name": "python",
   "nbconvert_exporter": "python",
   "pygments_lexer": "ipython3",
   "version": "3.6.3"
  }
 },
 "nbformat": 4,
 "nbformat_minor": 2
}
