{
 "cells": [
  {
   "cell_type": "code",
   "execution_count": 1,
   "metadata": {
    "collapsed": true
   },
   "outputs": [],
   "source": [
    "# coding: utf-8\n",
    "import pandas as pd\n",
    "import numpy as np"
   ]
  },
  {
   "cell_type": "code",
   "execution_count": 45,
   "metadata": {
    "scrolled": false
   },
   "outputs": [
    {
     "name": "stderr",
     "output_type": "stream",
     "text": [
      "C:\\Users\\josh\\Anaconda3\\lib\\site-packages\\IPython\\core\\interactiveshell.py:2698: DtypeWarning: Columns (12) have mixed types. Specify dtype option on import or set low_memory=False.\n",
      "  interactivity=interactivity, compiler=compiler, result=result)\n",
      "C:\\Users\\josh\\Anaconda3\\lib\\site-packages\\IPython\\core\\interactiveshell.py:2698: DtypeWarning: Columns (9,12) have mixed types. Specify dtype option on import or set low_memory=False.\n",
      "  interactivity=interactivity, compiler=compiler, result=result)\n"
     ]
    }
   ],
   "source": [
    "year = 2013\n",
    "keyword = 'IncomeLossFromContinuingOperationsBeforeIncomeTaxesForeign'\n",
    "\n",
    "# Load data\n",
    "\n",
    "q1_sub = pd.read_csv(str(year)+'q1sub.tsv',sep='\\t', encoding = \"ISO-8859-1\")\n",
    "q1_num = pd.read_csv(str(year)+'q1num.tsv',sep='\\t', encoding = \"ISO-8859-1\")    \n",
    "q2_sub = pd.read_csv(str(year)+'q2sub.tsv',sep='\\t', encoding = \"ISO-8859-1\")\n",
    "q2_num = pd.read_csv(str(year)+'q2num.tsv',sep='\\t', encoding = \"ISO-8859-1\")\n",
    "q3_sub = pd.read_csv(str(year)+'q3sub.tsv',sep='\\t', encoding = \"ISO-8859-1\")\n",
    "q3_num = pd.read_csv(str(year)+'q3num.tsv',sep='\\t', encoding = \"ISO-8859-1\")\n",
    "q4_sub = pd.read_csv(str(year)+'q4sub.tsv',sep='\\t', encoding = \"ISO-8859-1\")\n",
    "q4_num = pd.read_csv(str(year)+'q4num.tsv',sep='\\t', encoding = \"ISO-8859-1\")\n",
    "\n",
    "sub=q1_sub.append(q2_sub).append(q3_sub).append(q4_sub)\n",
    "num=q1_num.append(q2_num).append(q3_num).append(q4_num)\n",
    "\n",
    "\n",
    "# # 2018\n",
    "# q1_sub = pd.read_csv(str(year)+'q1sub.tsv',sep='\\t', encoding = \"ISO-8859-1\")\n",
    "# q1_num = pd.read_csv(str(year)+'q1num.tsv',sep='\\t', encoding = \"ISO-8859-1\")    \n",
    "# sub = q1_sub\n",
    "# num = q1_num"
   ]
  },
  {
   "cell_type": "code",
   "execution_count": 64,
   "metadata": {},
   "outputs": [
    {
     "name": "stderr",
     "output_type": "stream",
     "text": [
      "C:\\Users\\josh\\Anaconda3\\lib\\site-packages\\IPython\\core\\interactiveshell.py:2698: DtypeWarning: Columns (12) have mixed types. Specify dtype option on import or set low_memory=False.\n",
      "  interactivity=interactivity, compiler=compiler, result=result)\n"
     ]
    }
   ],
   "source": [
    "num = pd.read_csv(str(2013)+'q2num.tsv',sep='\\t', encoding = \"ISO-8859-1\")  "
   ]
  },
  {
   "cell_type": "code",
   "execution_count": 67,
   "metadata": {
    "scrolled": true
   },
   "outputs": [
    {
     "data": {
      "text/plain": [
       "['UndistributedEarningsOfForeignSubsidiaries',\n",
       " 'TangibleAssetImpairmentCharges']"
      ]
     },
     "execution_count": 67,
     "metadata": {},
     "output_type": "execute_result"
    }
   ],
   "source": [
    "num[num.adsh=='0000060667-13-000045'][num[num.adsh=='0000060667-13-000045'].value==36000000].tag.tolist()"
   ]
  },
  {
   "cell_type": "code",
   "execution_count": null,
   "metadata": {
    "collapsed": true
   },
   "outputs": [],
   "source": [
    "['IncomeLossFromContinuingOperationsBeforeIncomeTaxesExtraordinaryItemsNoncontrollingInterest'] "
   ]
  },
  {
   "cell_type": "code",
   "execution_count": null,
   "metadata": {
    "collapsed": true
   },
   "outputs": [],
   "source": []
  },
  {
   "cell_type": "code",
   "execution_count": 35,
   "metadata": {},
   "outputs": [
    {
     "data": {
      "text/plain": [
       "3944"
      ]
     },
     "execution_count": 35,
     "metadata": {},
     "output_type": "execute_result"
    }
   ],
   "source": [
    "# Including only the fields that we want\n",
    "num = num[num.tag.isin([keyword])]\n",
    "\n",
    "# Type of records we want\n",
    "sub = sub[sub.form.isin(['10-K'])]\n",
    "sub.adsh.nunique()"
   ]
  },
  {
   "cell_type": "code",
   "execution_count": 36,
   "metadata": {},
   "outputs": [
    {
     "data": {
      "text/plain": [
       "6607"
      ]
     },
     "execution_count": 36,
     "metadata": {},
     "output_type": "execute_result"
    }
   ],
   "source": [
    "## STEP #1:\n",
    "# Get values from NUM file using SUM file matching adsh\n",
    "\n",
    "df = pd.merge(sub,num,on=['adsh'],how='left')\n",
    "df = df.loc[:,['adsh','cik','name','sic','coreg','fye','fy','qtrs','fp','filed','form','period','ddate','nciks','aciks','tag','value']]\n",
    "df.sort_values('cik',inplace=True)\n",
    "len(df)"
   ]
  },
  {
   "cell_type": "code",
   "execution_count": 37,
   "metadata": {},
   "outputs": [
    {
     "data": {
      "text/plain": [
       "3944"
      ]
     },
     "execution_count": 37,
     "metadata": {},
     "output_type": "execute_result"
    }
   ],
   "source": [
    "# Setting unique identifiers for pivoting table\n",
    "df['coreg'] = df['coreg'].fillna('null')\n",
    "df['value'] = df['value'].astype('str')\n",
    "df['adsh+coreg+value'] = df['adsh'] + \"_\"+ df['coreg'] + \"_\" + df['value']\n",
    "# Reset data type numeric for value\n",
    "df['value'] = df['value'].astype('float64')\n",
    "\n",
    "# Make a copy for pivoting table\n",
    "data = df.copy()\n",
    "data.sort_values(['cik','tag','period'],inplace=True)\n",
    "data.adsh.nunique()"
   ]
  },
  {
   "cell_type": "code",
   "execution_count": 38,
   "metadata": {
    "scrolled": true
   },
   "outputs": [
    {
     "data": {
      "text/plain": [
       "3944"
      ]
     },
     "execution_count": 38,
     "metadata": {},
     "output_type": "execute_result"
    }
   ],
   "source": [
    "# Pivoting table\n",
    "fin_data =data.loc[:,['adsh+coreg+value','adsh','cik','name','sic','qtrs','coreg','fy','fp','form','ddate','filed']].\\\n",
    "merge(pd.pivot_table(data,index=data['adsh+coreg+value'],columns='tag',values='value').reset_index(),on='adsh+coreg+value',how='left')\n",
    "\n",
    "# Some statistics and info\n",
    "fin_data.adsh.nunique()"
   ]
  },
  {
   "cell_type": "code",
   "execution_count": 39,
   "metadata": {
    "scrolled": false
   },
   "outputs": [
    {
     "name": "stdout",
     "output_type": "stream",
     "text": [
      "<class 'pandas.core.frame.DataFrame'>\n",
      "Int64Index: 6607 entries, 0 to 6606\n",
      "Data columns (total 13 columns):\n",
      "adsh+coreg+value                                              6607 non-null object\n",
      "adsh                                                          6607 non-null object\n",
      "cik                                                           6607 non-null int64\n",
      "name                                                          6607 non-null object\n",
      "sic                                                           6606 non-null float64\n",
      "qtrs                                                          3980 non-null float64\n",
      "coreg                                                         6607 non-null object\n",
      "fy                                                            6607 non-null int64\n",
      "fp                                                            6607 non-null object\n",
      "form                                                          6607 non-null object\n",
      "ddate                                                         3980 non-null float64\n",
      "filed                                                         6607 non-null int64\n",
      "IncomeLossFromContinuingOperationsBeforeIncomeTaxesForeign    3973 non-null float64\n",
      "dtypes: float64(4), int64(3), object(6)\n",
      "memory usage: 722.6+ KB\n"
     ]
    }
   ],
   "source": [
    "fin_data.info()"
   ]
  },
  {
   "cell_type": "code",
   "execution_count": 40,
   "metadata": {
    "collapsed": true
   },
   "outputs": [],
   "source": [
    "fin_data.to_csv('josh_data_notes_'+str(year)+keyword+'grab_all.csv')"
   ]
  },
  {
   "cell_type": "code",
   "execution_count": null,
   "metadata": {
    "collapsed": true
   },
   "outputs": [],
   "source": []
  },
  {
   "cell_type": "code",
   "execution_count": null,
   "metadata": {
    "collapsed": true
   },
   "outputs": [],
   "source": []
  }
 ],
 "metadata": {
  "kernelspec": {
   "display_name": "Python 3",
   "language": "python",
   "name": "python3"
  },
  "language_info": {
   "codemirror_mode": {
    "name": "ipython",
    "version": 3
   },
   "file_extension": ".py",
   "mimetype": "text/x-python",
   "name": "python",
   "nbconvert_exporter": "python",
   "pygments_lexer": "ipython3",
   "version": "3.6.3"
  }
 },
 "nbformat": 4,
 "nbformat_minor": 2
}
