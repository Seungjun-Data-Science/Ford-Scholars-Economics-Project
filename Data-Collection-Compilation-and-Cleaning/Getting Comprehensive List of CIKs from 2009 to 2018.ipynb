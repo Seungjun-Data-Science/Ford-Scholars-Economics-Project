{
 "cells": [
  {
   "cell_type": "code",
   "execution_count": 1,
   "metadata": {
    "collapsed": true
   },
   "outputs": [],
   "source": [
    "import pandas as pd\n",
    "import numpy as np"
   ]
  },
  {
   "cell_type": "code",
   "execution_count": 2,
   "metadata": {
    "collapsed": true
   },
   "outputs": [],
   "source": [
    "# 2018\n",
    "sub18 = pd.read_csv(str(2018)+'q1sub.csv',encoding = \"ISO-8859-1\")   \n",
    "\n",
    "# 2017\n",
    "year=2017\n",
    "q1_sub17 = pd.read_csv(str(year)+'q1sub.csv',encoding = \"ISO-8859-1\")    \n",
    "q2_sub17 = pd.read_csv(str(year)+'q2sub.csv',encoding = \"ISO-8859-1\")\n",
    "q3_sub17 = pd.read_csv(str(year)+'q3sub.csv',encoding = \"ISO-8859-1\")\n",
    "q4_sub17 = pd.read_csv(str(year)+'q4sub.csv',encoding = \"ISO-8859-1\")\n",
    "sub17 = q1_sub17.append(q2_sub17).append(q3_sub17).append(q4_sub17)\n",
    "\n",
    "# 2016\n",
    "year=2016\n",
    "q1_sub16 = pd.read_csv(str(year)+'q1sub.csv',encoding = \"ISO-8859-1\")    \n",
    "q2_sub16 = pd.read_csv(str(year)+'q2sub.csv',encoding = \"ISO-8859-1\")\n",
    "q3_sub16 = pd.read_csv(str(year)+'q3sub.csv',encoding = \"ISO-8859-1\")\n",
    "q4_sub16 = pd.read_csv(str(year)+'q4sub.csv',encoding = \"ISO-8859-1\")\n",
    "sub16 = q1_sub16.append(q2_sub16).append(q3_sub16).append(q4_sub16)\n",
    "\n",
    "# 2015\n",
    "year=2015\n",
    "q1_sub15 = pd.read_csv(str(year)+'q1sub.csv',encoding = \"ISO-8859-1\")    \n",
    "q2_sub15 = pd.read_csv(str(year)+'q2sub.csv',encoding = \"ISO-8859-1\")\n",
    "q3_sub15 = pd.read_csv(str(year)+'q3sub.csv',encoding = \"ISO-8859-1\")\n",
    "q4_sub15 = pd.read_csv(str(year)+'q4sub.csv',encoding = \"ISO-8859-1\")\n",
    "sub15 = q1_sub17.append(q2_sub15).append(q3_sub15).append(q4_sub15)\n",
    "\n",
    "# 2014\n",
    "year=2014\n",
    "q1_sub14 = pd.read_csv(str(year)+'q1sub.csv',encoding = \"ISO-8859-1\")    \n",
    "q2_sub14 = pd.read_csv(str(year)+'q2sub.csv',encoding = \"ISO-8859-1\")\n",
    "q3_sub14 = pd.read_csv(str(year)+'q3sub.csv',encoding = \"ISO-8859-1\")\n",
    "q4_sub14 = pd.read_csv(str(year)+'q4sub.csv',encoding = \"ISO-8859-1\")\n",
    "sub14 = q1_sub14.append(q2_sub14).append(q3_sub14).append(q4_sub14)\n",
    "\n",
    "# 2013\n",
    "year=2013\n",
    "q1_sub13 = pd.read_csv(str(year)+'q1sub.csv',encoding = \"ISO-8859-1\")    \n",
    "q2_sub13 = pd.read_csv(str(year)+'q2sub.csv',encoding = \"ISO-8859-1\")\n",
    "q3_sub13 = pd.read_csv(str(year)+'q3sub.csv',encoding = \"ISO-8859-1\")\n",
    "q4_sub13 = pd.read_csv(str(year)+'q4sub.csv',encoding = \"ISO-8859-1\")\n",
    "sub13 = q1_sub13.append(q2_sub13).append(q3_sub13).append(q4_sub13)\n",
    "\n",
    "# 2012\n",
    "year=2012\n",
    "q1_sub12 = pd.read_csv(str(year)+'q1sub.csv',encoding = \"ISO-8859-1\")    \n",
    "q2_sub12 = pd.read_csv(str(year)+'q2sub.csv',encoding = \"ISO-8859-1\")\n",
    "q3_sub12 = pd.read_csv(str(year)+'q3sub.csv',encoding = \"ISO-8859-1\")\n",
    "q4_sub12 = pd.read_csv(str(year)+'q4sub.csv',encoding = \"ISO-8859-1\")\n",
    "sub12 = q1_sub12.append(q2_sub12).append(q3_sub12).append(q4_sub12)\n",
    "\n",
    "# 2011\n",
    "year=2011\n",
    "q1_sub11 = pd.read_csv(str(year)+'q1sub.csv',encoding = \"ISO-8859-1\")    \n",
    "q2_sub11 = pd.read_csv(str(year)+'q2sub.csv',encoding = \"ISO-8859-1\")\n",
    "q3_sub11 = pd.read_csv(str(year)+'q3sub.csv',encoding = \"ISO-8859-1\")\n",
    "q4_sub11 = pd.read_csv(str(year)+'q4sub.csv',encoding = \"ISO-8859-1\")\n",
    "sub11 = q1_sub11.append(q2_sub11).append(q3_sub11).append(q4_sub11)\n",
    "\n",
    "# 2010\n",
    "year=2010\n",
    "q1_sub10 = pd.read_csv(str(year)+'q1sub.csv',encoding = \"ISO-8859-1\")    \n",
    "q2_sub10 = pd.read_csv(str(year)+'q2sub.csv',encoding = \"ISO-8859-1\")\n",
    "q3_sub10 = pd.read_csv(str(year)+'q3sub.csv',encoding = \"ISO-8859-1\")\n",
    "q4_sub10 = pd.read_csv(str(year)+'q4sub.csv',encoding = \"ISO-8859-1\")\n",
    "sub10 = q1_sub10.append(q2_sub10).append(q3_sub10).append(q4_sub10)\n",
    "\n",
    "# 2009\n",
    "year=2009   \n",
    "q2_sub09 = pd.read_csv(str(year)+'q2sub.csv',encoding = \"ISO-8859-1\")\n",
    "q3_sub09 = pd.read_csv(str(year)+'q3sub.csv',encoding = \"ISO-8859-1\")\n",
    "q4_sub09 = pd.read_csv(str(year)+'q4sub.csv',encoding = \"ISO-8859-1\")\n",
    "sub09 = q2_sub09.append(q3_sub09).append(q4_sub10)"
   ]
  },
  {
   "cell_type": "code",
   "execution_count": 3,
   "metadata": {
    "collapsed": true
   },
   "outputs": [],
   "source": [
    "sub=\\\n",
    "sub18.append(sub17).append(sub16).append(sub15).append(sub14).append(sub13).append(sub12).append(sub11).append(sub10).append(sub09)"
   ]
  },
  {
   "cell_type": "code",
   "execution_count": 4,
   "metadata": {
    "collapsed": true,
    "scrolled": true
   },
   "outputs": [],
   "source": [
    "sub_cik_lst = pd.DataFrame(sub.cik.unique().tolist())"
   ]
  },
  {
   "cell_type": "code",
   "execution_count": 5,
   "metadata": {
    "collapsed": true
   },
   "outputs": [],
   "source": [
    "sub_cik_lst = sub_cik_lst.rename(columns={0:'cik'})"
   ]
  },
  {
   "cell_type": "code",
   "execution_count": 6,
   "metadata": {
    "scrolled": true
   },
   "outputs": [
    {
     "data": {
      "text/html": [
       "<div>\n",
       "<style>\n",
       "    .dataframe thead tr:only-child th {\n",
       "        text-align: right;\n",
       "    }\n",
       "\n",
       "    .dataframe thead th {\n",
       "        text-align: left;\n",
       "    }\n",
       "\n",
       "    .dataframe tbody tr th {\n",
       "        vertical-align: top;\n",
       "    }\n",
       "</style>\n",
       "<table border=\"1\" class=\"dataframe\">\n",
       "  <thead>\n",
       "    <tr style=\"text-align: right;\">\n",
       "      <th></th>\n",
       "      <th>cik</th>\n",
       "    </tr>\n",
       "  </thead>\n",
       "  <tbody>\n",
       "    <tr>\n",
       "      <th>0</th>\n",
       "      <td>2178</td>\n",
       "    </tr>\n",
       "    <tr>\n",
       "      <th>1</th>\n",
       "      <td>2488</td>\n",
       "    </tr>\n",
       "    <tr>\n",
       "      <th>2</th>\n",
       "      <td>2969</td>\n",
       "    </tr>\n",
       "    <tr>\n",
       "      <th>3</th>\n",
       "      <td>3499</td>\n",
       "    </tr>\n",
       "    <tr>\n",
       "      <th>4</th>\n",
       "      <td>3545</td>\n",
       "    </tr>\n",
       "  </tbody>\n",
       "</table>\n",
       "</div>"
      ],
      "text/plain": [
       "    cik\n",
       "0  2178\n",
       "1  2488\n",
       "2  2969\n",
       "3  3499\n",
       "4  3545"
      ]
     },
     "execution_count": 6,
     "metadata": {},
     "output_type": "execute_result"
    }
   ],
   "source": [
    "sub_cik_lst.head()"
   ]
  },
  {
   "cell_type": "code",
   "execution_count": 9,
   "metadata": {
    "scrolled": true
   },
   "outputs": [
    {
     "data": {
      "text/plain": [
       "11846"
      ]
     },
     "execution_count": 9,
     "metadata": {},
     "output_type": "execute_result"
    }
   ],
   "source": [
    "len(sub_cik_lst)"
   ]
  },
  {
   "cell_type": "code",
   "execution_count": 7,
   "metadata": {
    "collapsed": true
   },
   "outputs": [],
   "source": [
    "# sub_cik_lst.to_csv('all_ciks_from_sub.csv')"
   ]
  }
 ],
 "metadata": {
  "kernelspec": {
   "display_name": "Python 3",
   "language": "python",
   "name": "python3"
  },
  "language_info": {
   "codemirror_mode": {
    "name": "ipython",
    "version": 3
   },
   "file_extension": ".py",
   "mimetype": "text/x-python",
   "name": "python",
   "nbconvert_exporter": "python",
   "pygments_lexer": "ipython3",
   "version": "3.6.6"
  }
 },
 "nbformat": 4,
 "nbformat_minor": 2
}
