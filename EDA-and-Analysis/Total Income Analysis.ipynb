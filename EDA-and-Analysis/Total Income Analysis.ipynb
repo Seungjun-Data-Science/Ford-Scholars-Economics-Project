{
 "cells": [
  {
   "cell_type": "code",
   "execution_count": 67,
   "metadata": {
    "collapsed": true
   },
   "outputs": [],
   "source": [
    "import pandas as pd\n",
    "import numpy as np\n",
    "import matplotlib.pyplot as plt\n",
    "import matplotlib as mp\n",
    "import seaborn as sns\n",
    "%matplotlib inline"
   ]
  },
  {
   "cell_type": "code",
   "execution_count": 68,
   "metadata": {
    "collapsed": true
   },
   "outputs": [],
   "source": [
    "df = pd.read_csv('josh_final_dataset_7.14.csv')"
   ]
  },
  {
   "cell_type": "code",
   "execution_count": 69,
   "metadata": {
    "collapsed": true
   },
   "outputs": [],
   "source": [
    "del df['Unnamed: 0']"
   ]
  },
  {
   "cell_type": "code",
   "execution_count": 70,
   "metadata": {
    "scrolled": true
   },
   "outputs": [
    {
     "name": "stdout",
     "output_type": "stream",
     "text": [
      "<class 'pandas.core.frame.DataFrame'>\n",
      "RangeIndex: 45604 entries, 0 to 45603\n",
      "Data columns (total 30 columns):\n",
      "Assets                                                                                                         39525 non-null float64\n",
      "adsh                                                                                                           39525 non-null object\n",
      "cik                                                                                                            45604 non-null int64\n",
      "coreg                                                                                                          54 non-null object\n",
      "ddate                                                                                                          39525 non-null float64\n",
      "ein                                                                                                            37612 non-null float64\n",
      "fy                                                                                                             45604 non-null float64\n",
      "fye                                                                                                            39525 non-null float64\n",
      "period                                                                                                         39525 non-null float64\n",
      "sic                                                                                                            39382 non-null float64\n",
      "PaymentsToAcquireOtherPropertyPlantAndEquipment                                                                116 non-null float64\n",
      "PropertyPlantAndEquipmentAdditions                                                                             89 non-null float64\n",
      "PropertyPlantAndEquipmentGross                                                                                 12628 non-null float64\n",
      "PropertyPlantAndEquipmentGrossExcludingCapitalLeasedAssets                                                     6 non-null float64\n",
      "PropertyPlantAndEquipmentGrossPeriodIncreaseDecrease                                                           10 non-null float64\n",
      "PropertyPlantAndEquipmentNet                                                                                   20341 non-null float64\n",
      "PropertyPlantAndEquipmentNetExcludingCapitalLeasedAssets                                                       14 non-null float64\n",
      "PropertyPlantAndEquipmentOwnedGross                                                                            2 non-null float64\n",
      "PropertyPlantAndEquipmentOwnedNet                                                                              8 non-null float64\n",
      "UndistributedEarningsOfForeignSubsidiaries                                                                     5457 non-null float64\n",
      "IncomeLossFromContinuingOperationsBeforeIncomeTaxesExtraordinaryItemsNoncontrollingInterest                    10344 non-null float64\n",
      "IncomeLossFromContinuingOperationsBeforeIncomeTaxesForeign                                                     11248 non-null float64\n",
      "IncomeLossFromContinuingOperationsBeforeIncomeTaxesMinorityInterestAndIncomeLossFromEquityMethodInvestments    18452 non-null float64\n",
      "ForeignEarningsRepatriated                                                                                     200 non-null float64\n",
      "IncomeLossFromContinuingOperationsBeforeIncomeTaxesDomestic                                                    4702 non-null float64\n",
      "ResearchAndDevelopmentExpense                                                                                  5948 non-null float64\n",
      "Liabilities                                                                                                    29959 non-null float64\n",
      "NetIncomeLoss                                                                                                  14910 non-null float64\n",
      "GrossProfit                                                                                                    12268 non-null float64\n",
      "ProfitLoss                                                                                                     6081 non-null float64\n",
      "dtypes: float64(27), int64(1), object(2)\n",
      "memory usage: 10.4+ MB\n"
     ]
    }
   ],
   "source": [
    "df.info()"
   ]
  },
  {
   "cell_type": "markdown",
   "metadata": {},
   "source": [
    "## Dividing (Identifying) which companies are foreign and domestic"
   ]
  },
  {
   "cell_type": "code",
   "execution_count": 71,
   "metadata": {
    "collapsed": true
   },
   "outputs": [],
   "source": [
    "df['check1']=np.where(df.IncomeLossFromContinuingOperationsBeforeIncomeTaxesForeign.isnull(),0,1)\n",
    "df['check2']=np.where(df.UndistributedEarningsOfForeignSubsidiaries.isnull(),0,1)\n",
    "df['check3']=np.where(df.ForeignEarningsRepatriated.isnull(),0,1)\n",
    "\n",
    "df['check']=df['check1']+df['check2']+df['check3']"
   ]
  },
  {
   "cell_type": "code",
   "execution_count": 72,
   "metadata": {
    "collapsed": true
   },
   "outputs": [],
   "source": [
    "del df['check1']\n",
    "del df['check2']\n",
    "del df['check3']"
   ]
  },
  {
   "cell_type": "code",
   "execution_count": 73,
   "metadata": {
    "collapsed": true
   },
   "outputs": [],
   "source": [
    "# Giving identifiers to companies as to whether each of them has foreign subsidiary(foreign operation) or not\n",
    "df['Type of Firm'] = np.where(df.check==0,'Domestic','Foreign')"
   ]
  },
  {
   "cell_type": "code",
   "execution_count": 74,
   "metadata": {
    "collapsed": true
   },
   "outputs": [],
   "source": [
    "del df['check']"
   ]
  },
  {
   "cell_type": "markdown",
   "metadata": {},
   "source": [
    "## Limiting data to fixed fy years for accurate analysis + Seeing which Tag has the most number of observations"
   ]
  },
  {
   "cell_type": "markdown",
   "metadata": {},
   "source": [
    "### IncomeLossFromContinuingOperationsBeforeIncomeTaxesExtraordinaryItemsNoncontrollingInterest"
   ]
  },
  {
   "cell_type": "code",
   "execution_count": 75,
   "metadata": {
    "collapsed": true
   },
   "outputs": [],
   "source": [
    "# Data only from fy 2013 to fy 2016\n",
    "df_13_16 = df[(df.fy>=2013) & (df.fy<=2016)]\n",
    "\n",
    "# Drop firms that have at least one missing Asset values from fy 2013-2016\n",
    "df_13_16 = df_13_16.groupby('cik').filter(lambda x: all(pd.notnull(x['Assets'])))\n",
    "\n",
    "# Drop firms that have Asset value of 0\n",
    "df_13_16 = df_13_16.groupby('cik').filter(lambda x: all(x['Assets']!=0.0))\n",
    "\n",
    "# Drop firms that have at least one missing IncomeLossFromContinuingOperationsBeforeIncomeTaxesExtraordinaryItemsNoncontrollingInterest\n",
    "# values from fy 2013-2016\n",
    "df_13_16 = df_13_16.groupby('cik').\\\n",
    "filter(lambda x: all(pd.notnull(x['IncomeLossFromContinuingOperationsBeforeIncomeTaxesExtraordinaryItemsNoncontrollingInterest'])))\n",
    "\n",
    "# Filter only the companies that have data for all fy years 2013 - 2016 (4 assets values per cik group)\n",
    "df_13_16 = df_13_16.groupby('cik').filter(lambda x: x['fy'].nunique()==4)\n",
    "\n",
    "df_13_16_foreign = df_13_16.copy()[df_13_16.copy()['Type of Firm']=='Foreign']\n",
    "df_13_16_domestic = df_13_16.copy()[df_13_16.copy()['Type of Firm']=='Domestic']"
   ]
  },
  {
   "cell_type": "markdown",
   "metadata": {},
   "source": [
    "As we can see below, the problem is there are some firms that was domestic one year and was multinational for another year (inconsistent). We are going to drop those companies and exclude them from the analysis"
   ]
  },
  {
   "cell_type": "code",
   "execution_count": 76,
   "metadata": {},
   "outputs": [
    {
     "name": "stdout",
     "output_type": "stream",
     "text": [
      "Foreign: fy\n",
      "2013.0    158\n",
      "2014.0    158\n",
      "2015.0    162\n",
      "2016.0    160\n",
      "dtype: int64 \n",
      "\n",
      " Domestic: fy\n",
      "2013.0    153\n",
      "2014.0    153\n",
      "2015.0    149\n",
      "2016.0    151\n",
      "dtype: int64\n"
     ]
    }
   ],
   "source": [
    "print(\"Foreign:\",df_13_16_foreign.groupby('fy').size(),\"\\n\\n\",\"Domestic:\", df_13_16_domestic.groupby('fy').size())"
   ]
  },
  {
   "cell_type": "code",
   "execution_count": 77,
   "metadata": {},
   "outputs": [
    {
     "name": "stdout",
     "output_type": "stream",
     "text": [
      "Foreign: fy\n",
      "2013.0    150\n",
      "2014.0    150\n",
      "2015.0    150\n",
      "2016.0    150\n",
      "dtype: int64 \n",
      "\n",
      " Domestic: fy\n",
      "2013.0    143\n",
      "2014.0    143\n",
      "2015.0    143\n",
      "2016.0    143\n",
      "dtype: int64\n"
     ]
    }
   ],
   "source": [
    "df_13_16_foreign = df_13_16_foreign.groupby('cik').filter(lambda x: x['fy'].nunique()==4)\n",
    "df_13_16_domestic = df_13_16_domestic.groupby('cik').filter(lambda x: x['fy'].nunique()==4)\n",
    "\n",
    "# Now we have the same number of multinational firms and domestic firms throughout all years\n",
    "print(\"Foreign:\",df_13_16_foreign.groupby('fy').size(),\"\\n\\n\",\"Domestic:\", df_13_16_domestic.groupby('fy').size())"
   ]
  },
  {
   "cell_type": "code",
   "execution_count": 78,
   "metadata": {
    "collapsed": true
   },
   "outputs": [],
   "source": [
    "# Make a new dataframe df_13_16 with the modified foreign and domestic firms data\n",
    "df_13_16= df_13_16_foreign.append(df_13_16_domestic)"
   ]
  },
  {
   "cell_type": "code",
   "execution_count": 79,
   "metadata": {},
   "outputs": [
    {
     "data": {
      "text/plain": [
       "1172"
      ]
     },
     "execution_count": 79,
     "metadata": {},
     "output_type": "execute_result"
    }
   ],
   "source": [
    "len(df_13_16)"
   ]
  },
  {
   "cell_type": "markdown",
   "metadata": {},
   "source": [
    "### ProfitLoss"
   ]
  },
  {
   "cell_type": "code",
   "execution_count": 80,
   "metadata": {
    "collapsed": true
   },
   "outputs": [],
   "source": [
    "# Data only from fy 2013 to fy 2016\n",
    "df_13_16 = df.copy()[(df.copy().fy>=2013) & (df.copy().fy<=2016)]\n",
    "\n",
    "# Drop firms that have at least one missing Asset values from fy 2013-2016\n",
    "df_13_16 = df_13_16.groupby('cik').filter(lambda x: all(pd.notnull(x['Assets'])))\n",
    "\n",
    "# Drop firms that have Asset value of 0\n",
    "df_13_16 = df_13_16.groupby('cik').filter(lambda x: all(x['Assets']!=0.0))\n",
    "\n",
    "# Drop firms that have at least one missing IncomeLossFromContinuingOperationsBeforeIncomeTaxesExtraordinaryItemsNoncontrollingInterest\n",
    "# values from fy 2013-2016\n",
    "df_13_16 = df_13_16.groupby('cik').\\\n",
    "filter(lambda x: all(pd.notnull(x['ProfitLoss'])))\n",
    "\n",
    "# Filter only the companies that have data for all fy years 2013 - 2016 (4 assets values per cik group)\n",
    "df_13_16 = df_13_16.groupby('cik').filter(lambda x: x['fy'].nunique()==4)\n",
    "\n",
    "df_13_16_foreign = df_13_16.copy()[df_13_16.copy()['Type of Firm']=='Foreign']\n",
    "df_13_16_domestic = df_13_16.copy()[df_13_16.copy()['Type of Firm']=='Domestic']"
   ]
  },
  {
   "cell_type": "markdown",
   "metadata": {},
   "source": [
    "As we can see below, the problem is there are some firms that was domestic one year and was multinational for another year (inconsistent). We are going to drop those companies and exclude them from the analysis"
   ]
  },
  {
   "cell_type": "code",
   "execution_count": 81,
   "metadata": {},
   "outputs": [
    {
     "name": "stdout",
     "output_type": "stream",
     "text": [
      "Foreign: fy\n",
      "2013.0    20\n",
      "2014.0    19\n",
      "2015.0    19\n",
      "2016.0    19\n",
      "dtype: int64 \n",
      "\n",
      " Domestic: fy\n",
      "2013.0    29\n",
      "2014.0    30\n",
      "2015.0    30\n",
      "2016.0    30\n",
      "dtype: int64\n"
     ]
    }
   ],
   "source": [
    "print(\"Foreign:\",df_13_16_foreign.groupby('fy').size(),\"\\n\\n\",\"Domestic:\", df_13_16_domestic.groupby('fy').size())"
   ]
  },
  {
   "cell_type": "code",
   "execution_count": 82,
   "metadata": {},
   "outputs": [
    {
     "name": "stdout",
     "output_type": "stream",
     "text": [
      "Foreign: fy\n",
      "2013.0    19\n",
      "2014.0    19\n",
      "2015.0    19\n",
      "2016.0    19\n",
      "dtype: int64 \n",
      "\n",
      " Domestic: fy\n",
      "2013.0    29\n",
      "2014.0    29\n",
      "2015.0    29\n",
      "2016.0    29\n",
      "dtype: int64\n"
     ]
    }
   ],
   "source": [
    "df_13_16_foreign = df_13_16_foreign.groupby('cik').filter(lambda x: x['fy'].nunique()==4)\n",
    "df_13_16_domestic = df_13_16_domestic.groupby('cik').filter(lambda x: x['fy'].nunique()==4)\n",
    "\n",
    "# Now we have the same number of multinational firms and domestic firms throughout all years\n",
    "print(\"Foreign:\",df_13_16_foreign.groupby('fy').size(),\"\\n\\n\",\"Domestic:\", df_13_16_domestic.groupby('fy').size())"
   ]
  },
  {
   "cell_type": "code",
   "execution_count": 83,
   "metadata": {
    "collapsed": true
   },
   "outputs": [],
   "source": [
    "# Make a new dataframe df_13_16 with the modified foreign and domestic firms data\n",
    "df_13_16= df_13_16_foreign.append(df_13_16_domestic)"
   ]
  },
  {
   "cell_type": "code",
   "execution_count": 84,
   "metadata": {},
   "outputs": [
    {
     "data": {
      "text/plain": [
       "192"
      ]
     },
     "execution_count": 84,
     "metadata": {},
     "output_type": "execute_result"
    }
   ],
   "source": [
    "len(df_13_16)"
   ]
  },
  {
   "cell_type": "markdown",
   "metadata": {},
   "source": [
    "### Net Income Loss"
   ]
  },
  {
   "cell_type": "code",
   "execution_count": 85,
   "metadata": {
    "collapsed": true
   },
   "outputs": [],
   "source": [
    "# Data only from fy 2013 to fy 2016\n",
    "df_13_16 = df.copy()[(df.copy().fy>=2013) & (df.copy().fy<=2016)]\n",
    "\n",
    "# Drop firms that have at least one missing Asset values from fy 2013-2016\n",
    "df_13_16 = df_13_16.groupby('cik').filter(lambda x: all(pd.notnull(x['Assets'])))\n",
    "\n",
    "# Drop firms that have Asset value of 0\n",
    "df_13_16 = df_13_16.groupby('cik').filter(lambda x: all(x['Assets']!=0.0))\n",
    "\n",
    "# Drop firms that have at least one missing IncomeLossFromContinuingOperationsBeforeIncomeTaxesExtraordinaryItemsNoncontrollingInterest\n",
    "# values from fy 2013-2016\n",
    "df_13_16 = df_13_16.groupby('cik').\\\n",
    "filter(lambda x: all(pd.notnull(x['NetIncomeLoss'])))\n",
    "\n",
    "# Filter only the companies that have data for all fy years 2013 - 2016 (4 assets values per cik group)\n",
    "df_13_16 = df_13_16.groupby('cik').filter(lambda x: x['fy'].nunique()==4)\n",
    "\n",
    "df_13_16_foreign = df_13_16.copy()[df_13_16.copy()['Type of Firm']=='Foreign']\n",
    "df_13_16_domestic = df_13_16.copy()[df_13_16.copy()['Type of Firm']=='Domestic']"
   ]
  },
  {
   "cell_type": "markdown",
   "metadata": {},
   "source": [
    "As we can see below, the problem is there are some firms that was domestic one year and was multinational for another year (inconsistent). We are going to drop those companies and exclude them from the analysis"
   ]
  },
  {
   "cell_type": "code",
   "execution_count": 86,
   "metadata": {},
   "outputs": [
    {
     "name": "stdout",
     "output_type": "stream",
     "text": [
      "Foreign: fy\n",
      "2013.0    31\n",
      "2014.0    34\n",
      "2015.0    34\n",
      "2016.0    33\n",
      "dtype: int64 \n",
      "\n",
      " Domestic: fy\n",
      "2013.0    100\n",
      "2014.0     97\n",
      "2015.0     97\n",
      "2016.0     98\n",
      "dtype: int64\n"
     ]
    }
   ],
   "source": [
    "print(\"Foreign:\",df_13_16_foreign.groupby('fy').size(),\"\\n\\n\",\"Domestic:\", df_13_16_domestic.groupby('fy').size())"
   ]
  },
  {
   "cell_type": "code",
   "execution_count": 87,
   "metadata": {},
   "outputs": [
    {
     "name": "stdout",
     "output_type": "stream",
     "text": [
      "Foreign: fy\n",
      "2013.0    30\n",
      "2014.0    30\n",
      "2015.0    30\n",
      "2016.0    30\n",
      "dtype: int64 \n",
      "\n",
      " Domestic: fy\n",
      "2013.0    97\n",
      "2014.0    97\n",
      "2015.0    97\n",
      "2016.0    97\n",
      "dtype: int64\n"
     ]
    }
   ],
   "source": [
    "df_13_16_foreign = df_13_16_foreign.groupby('cik').filter(lambda x: x['fy'].nunique()==4)\n",
    "df_13_16_domestic = df_13_16_domestic.groupby('cik').filter(lambda x: x['fy'].nunique()==4)\n",
    "\n",
    "# Now we have the same number of multinational firms and domestic firms throughout all years\n",
    "print(\"Foreign:\",df_13_16_foreign.groupby('fy').size(),\"\\n\\n\",\"Domestic:\", df_13_16_domestic.groupby('fy').size())"
   ]
  },
  {
   "cell_type": "code",
   "execution_count": 88,
   "metadata": {
    "collapsed": true
   },
   "outputs": [],
   "source": [
    "# Make a new dataframe df_13_16 with the modified foreign and domestic firms data\n",
    "df_13_16= df_13_16_foreign.append(df_13_16_domestic)"
   ]
  },
  {
   "cell_type": "code",
   "execution_count": 89,
   "metadata": {},
   "outputs": [
    {
     "data": {
      "text/plain": [
       "508"
      ]
     },
     "execution_count": 89,
     "metadata": {},
     "output_type": "execute_result"
    }
   ],
   "source": [
    "len(df_13_16)"
   ]
  },
  {
   "cell_type": "markdown",
   "metadata": {},
   "source": [
    "### GrossProfit"
   ]
  },
  {
   "cell_type": "code",
   "execution_count": 90,
   "metadata": {
    "collapsed": true
   },
   "outputs": [],
   "source": [
    "# Data only from fy 2013 to fy 2016\n",
    "df_13_16 = df.copy()[(df.copy().fy>=2013) & (df.copy().fy<=2016)]\n",
    "\n",
    "# Drop firms that have at least one missing Asset values from fy 2013-2016\n",
    "df_13_16 = df_13_16.groupby('cik').filter(lambda x: all(pd.notnull(x['Assets'])))\n",
    "\n",
    "# Drop firms that have Asset value of 0\n",
    "df_13_16 = df_13_16.groupby('cik').filter(lambda x: all(x['Assets']!=0.0))\n",
    "\n",
    "# Drop firms that have at least one missing IncomeLossFromContinuingOperationsBeforeIncomeTaxesExtraordinaryItemsNoncontrollingInterest\n",
    "# values from fy 2013-2016\n",
    "df_13_16 = df_13_16.groupby('cik').\\\n",
    "filter(lambda x: all(pd.notnull(x['GrossProfit'])))\n",
    "\n",
    "# Filter only the companies that have data for all fy years 2013 - 2016 (4 assets values per cik group)\n",
    "df_13_16 = df_13_16.groupby('cik').filter(lambda x: x['fy'].nunique()==4)\n",
    "\n",
    "df_13_16_foreign = df_13_16.copy()[df_13_16.copy()['Type of Firm']=='Foreign']\n",
    "df_13_16_domestic = df_13_16.copy()[df_13_16.copy()['Type of Firm']=='Domestic']"
   ]
  },
  {
   "cell_type": "markdown",
   "metadata": {},
   "source": [
    "As we can see below, the problem is there are some firms that was domestic one year and was multinational for another year (inconsistent). We are going to drop those companies and exclude them from the analysis"
   ]
  },
  {
   "cell_type": "code",
   "execution_count": 91,
   "metadata": {},
   "outputs": [
    {
     "name": "stdout",
     "output_type": "stream",
     "text": [
      "Foreign: fy\n",
      "2013.0    174\n",
      "2014.0    175\n",
      "2015.0    178\n",
      "2016.0    177\n",
      "dtype: int64 \n",
      "\n",
      " Domestic: fy\n",
      "2013.0    121\n",
      "2014.0    120\n",
      "2015.0    117\n",
      "2016.0    118\n",
      "dtype: int64\n"
     ]
    }
   ],
   "source": [
    "print(\"Foreign:\",df_13_16_foreign.groupby('fy').size(),\"\\n\\n\",\"Domestic:\", df_13_16_domestic.groupby('fy').size())"
   ]
  },
  {
   "cell_type": "code",
   "execution_count": 92,
   "metadata": {
    "collapsed": true
   },
   "outputs": [],
   "source": [
    "# Dropping MNCs that have missing UFEs for all years\n",
    "df_13_16_foreign = df_13_16_foreign.groupby('cik').filter(lambda x: all(pd.notnull(x['UndistributedEarningsOfForeignSubsidiaries'])))"
   ]
  },
  {
   "cell_type": "code",
   "execution_count": 93,
   "metadata": {},
   "outputs": [
    {
     "name": "stdout",
     "output_type": "stream",
     "text": [
      "Foreign: fy\n",
      "2013.0    91\n",
      "2014.0    91\n",
      "2015.0    91\n",
      "2016.0    91\n",
      "dtype: int64 \n",
      "\n",
      " Domestic: fy\n",
      "2013.0    114\n",
      "2014.0    114\n",
      "2015.0    114\n",
      "2016.0    114\n",
      "dtype: int64\n"
     ]
    }
   ],
   "source": [
    "df_13_16_foreign = df_13_16_foreign.groupby('cik').filter(lambda x: x['fy'].nunique()==4)\n",
    "df_13_16_domestic = df_13_16_domestic.groupby('cik').filter(lambda x: x['fy'].nunique()==4)\n",
    "\n",
    "# Now we have the same number of multinational firms and domestic firms throughout all years\n",
    "print(\"Foreign:\",df_13_16_foreign.groupby('fy').size(),\"\\n\\n\",\"Domestic:\", df_13_16_domestic.groupby('fy').size())"
   ]
  },
  {
   "cell_type": "code",
   "execution_count": 94,
   "metadata": {
    "collapsed": true
   },
   "outputs": [],
   "source": [
    "# Make a new dataframe df_13_16 with the modified foreign and domestic firms data\n",
    "df_13_16= df_13_16_foreign.append(df_13_16_domestic)"
   ]
  },
  {
   "cell_type": "markdown",
   "metadata": {},
   "source": [
    "##### IncomeLossFromContinuingOperationsBeforeIncomeTaxesExtraordinaryItemsNoncontrollingInterest and GrossProfit have the highest number of observations overall but since GrossProfit has slightly more observations for Multinational Corporations, we will choose \"GrossProfit\" tag as our total income proxy"
   ]
  },
  {
   "cell_type": "markdown",
   "metadata": {},
   "source": [
    "## Giving each company industry classification & Creating [Total Income/Assets]"
   ]
  },
  {
   "cell_type": "code",
   "execution_count": 95,
   "metadata": {
    "collapsed": true
   },
   "outputs": [],
   "source": [
    "industry_count =\\\n",
    "pd.DataFrame([{'Mining and Construction':3551, 'Manufacturing':13162, 'Transportation, Communication, Electric, Gas':2889,\n",
    " 'Wholesale, Retail':3116,'Financial, Insurance, Real Estate':9625, 'Services':6725,'Public Administration':103}],index=['count'])\n",
    "\n",
    "# industry_count.to_csv('industry_count_breakdown.csv')"
   ]
  },
  {
   "cell_type": "code",
   "execution_count": 96,
   "metadata": {
    "scrolled": true
   },
   "outputs": [
    {
     "data": {
      "text/html": [
       "<div>\n",
       "<style>\n",
       "    .dataframe thead tr:only-child th {\n",
       "        text-align: right;\n",
       "    }\n",
       "\n",
       "    .dataframe thead th {\n",
       "        text-align: left;\n",
       "    }\n",
       "\n",
       "    .dataframe tbody tr th {\n",
       "        vertical-align: top;\n",
       "    }\n",
       "</style>\n",
       "<table border=\"1\" class=\"dataframe\">\n",
       "  <thead>\n",
       "    <tr style=\"text-align: right;\">\n",
       "      <th></th>\n",
       "      <th>Financial, Insurance, Real Estate</th>\n",
       "      <th>Manufacturing</th>\n",
       "      <th>Mining and Construction</th>\n",
       "      <th>Public Administration</th>\n",
       "      <th>Services</th>\n",
       "      <th>Transportation, Communication, Electric, Gas</th>\n",
       "      <th>Wholesale, Retail</th>\n",
       "    </tr>\n",
       "  </thead>\n",
       "  <tbody>\n",
       "    <tr>\n",
       "      <th>count</th>\n",
       "      <td>9625</td>\n",
       "      <td>13162</td>\n",
       "      <td>3551</td>\n",
       "      <td>103</td>\n",
       "      <td>6725</td>\n",
       "      <td>2889</td>\n",
       "      <td>3116</td>\n",
       "    </tr>\n",
       "  </tbody>\n",
       "</table>\n",
       "</div>"
      ],
      "text/plain": [
       "       Financial, Insurance, Real Estate  Manufacturing  \\\n",
       "count                               9625          13162   \n",
       "\n",
       "       Mining and Construction  Public Administration  Services  \\\n",
       "count                     3551                    103      6725   \n",
       "\n",
       "       Transportation, Communication, Electric, Gas  Wholesale, Retail  \n",
       "count                                          2889               3116  "
      ]
     },
     "execution_count": 96,
     "metadata": {},
     "output_type": "execute_result"
    }
   ],
   "source": [
    "industry_count"
   ]
  },
  {
   "cell_type": "code",
   "execution_count": 97,
   "metadata": {
    "collapsed": true
   },
   "outputs": [],
   "source": [
    "# bins = pd.IntervalIndex.from_tuples([(1000, 1999), (2000, 3999),(4000,4999),(5000,5999),\n",
    "#                                     (6000,6999),(7000,8999),(9000,9999)],closed='both')\n",
    "\n",
    "df_13_16['industry']=\\\n",
    "pd.cut(df_13_16.sic.tolist(),[1000,1999,3999,4999,5999,6999,8999,9999],include_lowest=True,\n",
    "             labels=['Mining and Construction','Manufacturing','Transportation, Communication, Electric, Gas',\n",
    "               'Wholesale, Retail','Financial, Insurance, Real Estate','Services','Public Administration'])"
   ]
  },
  {
   "cell_type": "code",
   "execution_count": 98,
   "metadata": {
    "collapsed": true
   },
   "outputs": [],
   "source": [
    "# Creating new variable (R&D / Assets)\n",
    "df_13_16['Total_Income_scaled']=\\\n",
    "df_13_16['GrossProfit']/df_13_16['Assets']"
   ]
  },
  {
   "cell_type": "markdown",
   "metadata": {},
   "source": [
    "## Comparison by Industry"
   ]
  },
  {
   "cell_type": "markdown",
   "metadata": {},
   "source": [
    "- Industry1: 'Mining and Construction'\n",
    "- Industry2: 'Manufacturing'\n",
    "- Industry3: 'Transportation, Communication, Electric, Gas'\n",
    "- Industry4: 'Wholesale, Retail'\n",
    "- Industry5: 'Financial, Insurance, Real Estate'\n",
    "- Industry6: 'Services'\n",
    "- Industry7: 'Public Administration'"
   ]
  },
  {
   "cell_type": "code",
   "execution_count": 99,
   "metadata": {
    "collapsed": true
   },
   "outputs": [],
   "source": [
    "# Dividing data into 7 different industries\n",
    "\n",
    "total_income_industry1 = df_13_16.copy()[df_13_16.copy().industry=='Mining and Construction']\n",
    "total_income_industry2 = df_13_16.copy()[df_13_16.copy().industry=='Manufacturing']\n",
    "total_income_industry3 = df_13_16.copy()[df_13_16.copy().industry=='Transportation, Communication, Electric, Gas']\n",
    "total_income_industry4 = df_13_16.copy()[df_13_16.copy().industry=='Wholesale, Retail']\n",
    "total_income_industry5 = df_13_16.copy()[df_13_16.copy().industry=='Financial, Insurance, Real Estate']\n",
    "total_income_industry6 = df_13_16.copy()[df_13_16.copy().industry=='Services']\n",
    "total_income_industry7 = df_13_16.copy()[df_13_16.copy().industry=='Public Administration']"
   ]
  },
  {
   "cell_type": "markdown",
   "metadata": {},
   "source": [
    "### Industry 1: Mining and Construction"
   ]
  },
  {
   "cell_type": "code",
   "execution_count": 100,
   "metadata": {
    "collapsed": true
   },
   "outputs": [],
   "source": [
    "# Count of firms in Mining and Construction\n",
    "total_income_industry1_count =\\\n",
    "pd.DataFrame(total_income_industry1[total_income_industry1['GrossProfit'].notnull()].\\\n",
    "             loc[:,['cik','fy','Type of Firm','GrossProfit']].\\\n",
    "             groupby(['fy','Type of Firm'])['GrossProfit'].count()).reset_index()"
   ]
  },
  {
   "cell_type": "code",
   "execution_count": 101,
   "metadata": {
    "collapsed": true,
    "scrolled": true
   },
   "outputs": [],
   "source": [
    "# Mean of (Total Income / Assets) of firms in Mining and Construction per year\n",
    "total_income_industry1_mean_scaled =\\\n",
    "pd.DataFrame(total_income_industry1[total_income_industry1['Total_Income_scaled'].notnull()].\\\n",
    "             loc[:,['cik','fy','Type of Firm','Total_Income_scaled']].\\\n",
    "             groupby(['fy','Type of Firm'])['Total_Income_scaled'].mean()).reset_index()"
   ]
  },
  {
   "cell_type": "code",
   "execution_count": 102,
   "metadata": {
    "collapsed": true,
    "scrolled": true
   },
   "outputs": [],
   "source": [
    "# Difference of scaled mean between domestic firms and MNCs (Mining and Construction)\n",
    "total_income_industry1_mean_diff = \\\n",
    "total_income_industry1_mean_scaled.groupby('fy')['Total_Income_scaled'].\\\n",
    "apply(lambda x: x.iloc[0] - x.iloc[1])\n",
    "\n",
    "total_income_industry1_mean_diff = pd.DataFrame(total_income_industry1_mean_diff).reset_index()"
   ]
  },
  {
   "cell_type": "markdown",
   "metadata": {},
   "source": [
    "### Industry 2: Manufacturing"
   ]
  },
  {
   "cell_type": "code",
   "execution_count": 103,
   "metadata": {
    "collapsed": true
   },
   "outputs": [],
   "source": [
    "# Count of firms in Manufacturing\n",
    "total_income_industry2_count =\\\n",
    "pd.DataFrame(total_income_industry2[total_income_industry2['GrossProfit'].notnull()].\\\n",
    "             loc[:,['cik','fy','Type of Firm','GrossProfit']].\\\n",
    "             groupby(['fy','Type of Firm'])['GrossProfit'].count()).reset_index()"
   ]
  },
  {
   "cell_type": "code",
   "execution_count": 104,
   "metadata": {
    "collapsed": true,
    "scrolled": true
   },
   "outputs": [],
   "source": [
    "# Mean of (Total Income/ Assets) of firms in Manufacturing per year\n",
    "total_income_industry2_mean_scaled =\\\n",
    "pd.DataFrame(total_income_industry2[total_income_industry2['Total_Income_scaled'].notnull()].\\\n",
    "             loc[:,['cik','fy','Type of Firm','Total_Income_scaled']].\\\n",
    "             groupby(['fy','Type of Firm'])['Total_Income_scaled'].mean()).reset_index()"
   ]
  },
  {
   "cell_type": "code",
   "execution_count": 105,
   "metadata": {
    "collapsed": true,
    "scrolled": true
   },
   "outputs": [],
   "source": [
    "# Difference of scaled mean between domestic firms and MNCs (Manufacturing)\n",
    "total_income_industry2_mean_diff = \\\n",
    "total_income_industry2_mean_scaled.groupby('fy')['Total_Income_scaled'].\\\n",
    "apply(lambda x: x.iloc[1] - x.iloc[0])\n",
    "\n",
    "total_income_industry2_mean_diff = pd.DataFrame(total_income_industry2_mean_diff).reset_index()"
   ]
  },
  {
   "cell_type": "markdown",
   "metadata": {},
   "source": [
    "### Industry 3: Transportation, Communication, Electric, Gas"
   ]
  },
  {
   "cell_type": "code",
   "execution_count": 106,
   "metadata": {
    "collapsed": true
   },
   "outputs": [],
   "source": [
    "# Count of firms in Transportation, Communication, Electric, Gas\n",
    "total_income_industry3_count =\\\n",
    "pd.DataFrame(total_income_industry3[total_income_industry3['GrossProfit'].notnull()].\\\n",
    "             loc[:,['cik','fy','Type of Firm','GrossProfit']].\\\n",
    "             groupby(['fy','Type of Firm'])['GrossProfit'].count()).reset_index()"
   ]
  },
  {
   "cell_type": "code",
   "execution_count": 107,
   "metadata": {
    "collapsed": true,
    "scrolled": true
   },
   "outputs": [],
   "source": [
    "# Mean of (Total Income / Assets) of firms in Transportation, Communication, Electric, Gas\n",
    "total_income_industry3_mean_scaled =\\\n",
    "pd.DataFrame(total_income_industry3[total_income_industry3['Total_Income_scaled'].notnull()].\\\n",
    "             loc[:,['cik','fy','Type of Firm','Total_Income_scaled']].\\\n",
    "             groupby(['fy','Type of Firm'])['Total_Income_scaled'].mean()).reset_index()"
   ]
  },
  {
   "cell_type": "code",
   "execution_count": 109,
   "metadata": {
    "scrolled": true
   },
   "outputs": [
    {
     "ename": "IndexError",
     "evalue": "single positional indexer is out-of-bounds",
     "output_type": "error",
     "traceback": [
      "\u001b[1;31m---------------------------------------------------------------------------\u001b[0m",
      "\u001b[1;31mIndexError\u001b[0m                                Traceback (most recent call last)",
      "\u001b[1;32m<ipython-input-109-ca261d264778>\u001b[0m in \u001b[0;36m<module>\u001b[1;34m()\u001b[0m\n\u001b[0;32m      1\u001b[0m \u001b[1;31m# Difference of scaled mean between domestic firms and MNCs (Transportation, Communication, Electric, Gas)\u001b[0m\u001b[1;33m\u001b[0m\u001b[1;33m\u001b[0m\u001b[0m\n\u001b[1;32m----> 2\u001b[1;33m \u001b[0mtotal_income_industry3_mean_diff\u001b[0m \u001b[1;33m=\u001b[0m \u001b[0mtotal_income_industry3_mean_scaled\u001b[0m\u001b[1;33m.\u001b[0m\u001b[0mgroupby\u001b[0m\u001b[1;33m(\u001b[0m\u001b[1;34m'fy'\u001b[0m\u001b[1;33m)\u001b[0m\u001b[1;33m[\u001b[0m\u001b[1;34m'Total_Income_scaled'\u001b[0m\u001b[1;33m]\u001b[0m\u001b[1;33m.\u001b[0m\u001b[0mapply\u001b[0m\u001b[1;33m(\u001b[0m\u001b[1;32mlambda\u001b[0m \u001b[0mx\u001b[0m\u001b[1;33m:\u001b[0m \u001b[0mx\u001b[0m\u001b[1;33m.\u001b[0m\u001b[0miloc\u001b[0m\u001b[1;33m[\u001b[0m\u001b[1;36m1\u001b[0m\u001b[1;33m]\u001b[0m \u001b[1;33m-\u001b[0m \u001b[0mx\u001b[0m\u001b[1;33m.\u001b[0m\u001b[0miloc\u001b[0m\u001b[1;33m[\u001b[0m\u001b[1;36m0\u001b[0m\u001b[1;33m]\u001b[0m\u001b[1;33m)\u001b[0m\u001b[1;33m\u001b[0m\u001b[0m\n\u001b[0m\u001b[0;32m      3\u001b[0m \u001b[1;33m\u001b[0m\u001b[0m\n\u001b[0;32m      4\u001b[0m \u001b[0mtotal_income_industry3_mean_diff\u001b[0m \u001b[1;33m=\u001b[0m \u001b[0mpd\u001b[0m\u001b[1;33m.\u001b[0m\u001b[0mDataFrame\u001b[0m\u001b[1;33m(\u001b[0m\u001b[0mtotal_income_industry3_mean_diff\u001b[0m\u001b[1;33m)\u001b[0m\u001b[1;33m.\u001b[0m\u001b[0mreset_index\u001b[0m\u001b[1;33m(\u001b[0m\u001b[1;33m)\u001b[0m\u001b[1;33m\u001b[0m\u001b[0m\n",
      "\u001b[1;32m~\\Anaconda3\\lib\\site-packages\\pandas\\core\\groupby.py\u001b[0m in \u001b[0;36mapply\u001b[1;34m(self, func, *args, **kwargs)\u001b[0m\n\u001b[0;32m    714\u001b[0m         \u001b[1;31m# ignore SettingWithCopy here in case the user mutates\u001b[0m\u001b[1;33m\u001b[0m\u001b[1;33m\u001b[0m\u001b[0m\n\u001b[0;32m    715\u001b[0m         \u001b[1;32mwith\u001b[0m \u001b[0moption_context\u001b[0m\u001b[1;33m(\u001b[0m\u001b[1;34m'mode.chained_assignment'\u001b[0m\u001b[1;33m,\u001b[0m \u001b[1;32mNone\u001b[0m\u001b[1;33m)\u001b[0m\u001b[1;33m:\u001b[0m\u001b[1;33m\u001b[0m\u001b[0m\n\u001b[1;32m--> 716\u001b[1;33m             \u001b[1;32mreturn\u001b[0m \u001b[0mself\u001b[0m\u001b[1;33m.\u001b[0m\u001b[0m_python_apply_general\u001b[0m\u001b[1;33m(\u001b[0m\u001b[0mf\u001b[0m\u001b[1;33m)\u001b[0m\u001b[1;33m\u001b[0m\u001b[0m\n\u001b[0m\u001b[0;32m    717\u001b[0m \u001b[1;33m\u001b[0m\u001b[0m\n\u001b[0;32m    718\u001b[0m     \u001b[1;32mdef\u001b[0m \u001b[0m_python_apply_general\u001b[0m\u001b[1;33m(\u001b[0m\u001b[0mself\u001b[0m\u001b[1;33m,\u001b[0m \u001b[0mf\u001b[0m\u001b[1;33m)\u001b[0m\u001b[1;33m:\u001b[0m\u001b[1;33m\u001b[0m\u001b[0m\n",
      "\u001b[1;32m~\\Anaconda3\\lib\\site-packages\\pandas\\core\\groupby.py\u001b[0m in \u001b[0;36m_python_apply_general\u001b[1;34m(self, f)\u001b[0m\n\u001b[0;32m    718\u001b[0m     \u001b[1;32mdef\u001b[0m \u001b[0m_python_apply_general\u001b[0m\u001b[1;33m(\u001b[0m\u001b[0mself\u001b[0m\u001b[1;33m,\u001b[0m \u001b[0mf\u001b[0m\u001b[1;33m)\u001b[0m\u001b[1;33m:\u001b[0m\u001b[1;33m\u001b[0m\u001b[0m\n\u001b[0;32m    719\u001b[0m         keys, values, mutated = self.grouper.apply(f, self._selected_obj,\n\u001b[1;32m--> 720\u001b[1;33m                                                    self.axis)\n\u001b[0m\u001b[0;32m    721\u001b[0m \u001b[1;33m\u001b[0m\u001b[0m\n\u001b[0;32m    722\u001b[0m         return self._wrap_applied_output(\n",
      "\u001b[1;32m~\\Anaconda3\\lib\\site-packages\\pandas\\core\\groupby.py\u001b[0m in \u001b[0;36mapply\u001b[1;34m(self, f, data, axis)\u001b[0m\n\u001b[0;32m   1800\u001b[0m             \u001b[1;31m# group might be modified\u001b[0m\u001b[1;33m\u001b[0m\u001b[1;33m\u001b[0m\u001b[0m\n\u001b[0;32m   1801\u001b[0m             \u001b[0mgroup_axes\u001b[0m \u001b[1;33m=\u001b[0m \u001b[0m_get_axes\u001b[0m\u001b[1;33m(\u001b[0m\u001b[0mgroup\u001b[0m\u001b[1;33m)\u001b[0m\u001b[1;33m\u001b[0m\u001b[0m\n\u001b[1;32m-> 1802\u001b[1;33m             \u001b[0mres\u001b[0m \u001b[1;33m=\u001b[0m \u001b[0mf\u001b[0m\u001b[1;33m(\u001b[0m\u001b[0mgroup\u001b[0m\u001b[1;33m)\u001b[0m\u001b[1;33m\u001b[0m\u001b[0m\n\u001b[0m\u001b[0;32m   1803\u001b[0m             \u001b[1;32mif\u001b[0m \u001b[1;32mnot\u001b[0m \u001b[0m_is_indexed_like\u001b[0m\u001b[1;33m(\u001b[0m\u001b[0mres\u001b[0m\u001b[1;33m,\u001b[0m \u001b[0mgroup_axes\u001b[0m\u001b[1;33m)\u001b[0m\u001b[1;33m:\u001b[0m\u001b[1;33m\u001b[0m\u001b[0m\n\u001b[0;32m   1804\u001b[0m                 \u001b[0mmutated\u001b[0m \u001b[1;33m=\u001b[0m \u001b[1;32mTrue\u001b[0m\u001b[1;33m\u001b[0m\u001b[0m\n",
      "\u001b[1;32m<ipython-input-109-ca261d264778>\u001b[0m in \u001b[0;36m<lambda>\u001b[1;34m(x)\u001b[0m\n\u001b[0;32m      1\u001b[0m \u001b[1;31m# Difference of scaled mean between domestic firms and MNCs (Transportation, Communication, Electric, Gas)\u001b[0m\u001b[1;33m\u001b[0m\u001b[1;33m\u001b[0m\u001b[0m\n\u001b[1;32m----> 2\u001b[1;33m \u001b[0mtotal_income_industry3_mean_diff\u001b[0m \u001b[1;33m=\u001b[0m \u001b[0mtotal_income_industry3_mean_scaled\u001b[0m\u001b[1;33m.\u001b[0m\u001b[0mgroupby\u001b[0m\u001b[1;33m(\u001b[0m\u001b[1;34m'fy'\u001b[0m\u001b[1;33m)\u001b[0m\u001b[1;33m[\u001b[0m\u001b[1;34m'Total_Income_scaled'\u001b[0m\u001b[1;33m]\u001b[0m\u001b[1;33m.\u001b[0m\u001b[0mapply\u001b[0m\u001b[1;33m(\u001b[0m\u001b[1;32mlambda\u001b[0m \u001b[0mx\u001b[0m\u001b[1;33m:\u001b[0m \u001b[0mx\u001b[0m\u001b[1;33m.\u001b[0m\u001b[0miloc\u001b[0m\u001b[1;33m[\u001b[0m\u001b[1;36m1\u001b[0m\u001b[1;33m]\u001b[0m \u001b[1;33m-\u001b[0m \u001b[0mx\u001b[0m\u001b[1;33m.\u001b[0m\u001b[0miloc\u001b[0m\u001b[1;33m[\u001b[0m\u001b[1;36m0\u001b[0m\u001b[1;33m]\u001b[0m\u001b[1;33m)\u001b[0m\u001b[1;33m\u001b[0m\u001b[0m\n\u001b[0m\u001b[0;32m      3\u001b[0m \u001b[1;33m\u001b[0m\u001b[0m\n\u001b[0;32m      4\u001b[0m \u001b[0mtotal_income_industry3_mean_diff\u001b[0m \u001b[1;33m=\u001b[0m \u001b[0mpd\u001b[0m\u001b[1;33m.\u001b[0m\u001b[0mDataFrame\u001b[0m\u001b[1;33m(\u001b[0m\u001b[0mtotal_income_industry3_mean_diff\u001b[0m\u001b[1;33m)\u001b[0m\u001b[1;33m.\u001b[0m\u001b[0mreset_index\u001b[0m\u001b[1;33m(\u001b[0m\u001b[1;33m)\u001b[0m\u001b[1;33m\u001b[0m\u001b[0m\n",
      "\u001b[1;32m~\\Anaconda3\\lib\\site-packages\\pandas\\core\\indexing.py\u001b[0m in \u001b[0;36m__getitem__\u001b[1;34m(self, key)\u001b[0m\n\u001b[0;32m   1326\u001b[0m         \u001b[1;32melse\u001b[0m\u001b[1;33m:\u001b[0m\u001b[1;33m\u001b[0m\u001b[0m\n\u001b[0;32m   1327\u001b[0m             \u001b[0mkey\u001b[0m \u001b[1;33m=\u001b[0m \u001b[0mcom\u001b[0m\u001b[1;33m.\u001b[0m\u001b[0m_apply_if_callable\u001b[0m\u001b[1;33m(\u001b[0m\u001b[0mkey\u001b[0m\u001b[1;33m,\u001b[0m \u001b[0mself\u001b[0m\u001b[1;33m.\u001b[0m\u001b[0mobj\u001b[0m\u001b[1;33m)\u001b[0m\u001b[1;33m\u001b[0m\u001b[0m\n\u001b[1;32m-> 1328\u001b[1;33m             \u001b[1;32mreturn\u001b[0m \u001b[0mself\u001b[0m\u001b[1;33m.\u001b[0m\u001b[0m_getitem_axis\u001b[0m\u001b[1;33m(\u001b[0m\u001b[0mkey\u001b[0m\u001b[1;33m,\u001b[0m \u001b[0maxis\u001b[0m\u001b[1;33m=\u001b[0m\u001b[1;36m0\u001b[0m\u001b[1;33m)\u001b[0m\u001b[1;33m\u001b[0m\u001b[0m\n\u001b[0m\u001b[0;32m   1329\u001b[0m \u001b[1;33m\u001b[0m\u001b[0m\n\u001b[0;32m   1330\u001b[0m     \u001b[1;32mdef\u001b[0m \u001b[0m_is_scalar_access\u001b[0m\u001b[1;33m(\u001b[0m\u001b[0mself\u001b[0m\u001b[1;33m,\u001b[0m \u001b[0mkey\u001b[0m\u001b[1;33m)\u001b[0m\u001b[1;33m:\u001b[0m\u001b[1;33m\u001b[0m\u001b[0m\n",
      "\u001b[1;32m~\\Anaconda3\\lib\\site-packages\\pandas\\core\\indexing.py\u001b[0m in \u001b[0;36m_getitem_axis\u001b[1;34m(self, key, axis)\u001b[0m\n\u001b[0;32m   1747\u001b[0m \u001b[1;33m\u001b[0m\u001b[0m\n\u001b[0;32m   1748\u001b[0m             \u001b[1;31m# validate the location\u001b[0m\u001b[1;33m\u001b[0m\u001b[1;33m\u001b[0m\u001b[0m\n\u001b[1;32m-> 1749\u001b[1;33m             \u001b[0mself\u001b[0m\u001b[1;33m.\u001b[0m\u001b[0m_is_valid_integer\u001b[0m\u001b[1;33m(\u001b[0m\u001b[0mkey\u001b[0m\u001b[1;33m,\u001b[0m \u001b[0maxis\u001b[0m\u001b[1;33m)\u001b[0m\u001b[1;33m\u001b[0m\u001b[0m\n\u001b[0m\u001b[0;32m   1750\u001b[0m \u001b[1;33m\u001b[0m\u001b[0m\n\u001b[0;32m   1751\u001b[0m             \u001b[1;32mreturn\u001b[0m \u001b[0mself\u001b[0m\u001b[1;33m.\u001b[0m\u001b[0m_get_loc\u001b[0m\u001b[1;33m(\u001b[0m\u001b[0mkey\u001b[0m\u001b[1;33m,\u001b[0m \u001b[0maxis\u001b[0m\u001b[1;33m=\u001b[0m\u001b[0maxis\u001b[0m\u001b[1;33m)\u001b[0m\u001b[1;33m\u001b[0m\u001b[0m\n",
      "\u001b[1;32m~\\Anaconda3\\lib\\site-packages\\pandas\\core\\indexing.py\u001b[0m in \u001b[0;36m_is_valid_integer\u001b[1;34m(self, key, axis)\u001b[0m\n\u001b[0;32m   1636\u001b[0m         \u001b[0ml\u001b[0m \u001b[1;33m=\u001b[0m \u001b[0mlen\u001b[0m\u001b[1;33m(\u001b[0m\u001b[0max\u001b[0m\u001b[1;33m)\u001b[0m\u001b[1;33m\u001b[0m\u001b[0m\n\u001b[0;32m   1637\u001b[0m         \u001b[1;32mif\u001b[0m \u001b[0mkey\u001b[0m \u001b[1;33m>=\u001b[0m \u001b[0ml\u001b[0m \u001b[1;32mor\u001b[0m \u001b[0mkey\u001b[0m \u001b[1;33m<\u001b[0m \u001b[1;33m-\u001b[0m\u001b[0ml\u001b[0m\u001b[1;33m:\u001b[0m\u001b[1;33m\u001b[0m\u001b[0m\n\u001b[1;32m-> 1638\u001b[1;33m             \u001b[1;32mraise\u001b[0m \u001b[0mIndexError\u001b[0m\u001b[1;33m(\u001b[0m\u001b[1;34m\"single positional indexer is out-of-bounds\"\u001b[0m\u001b[1;33m)\u001b[0m\u001b[1;33m\u001b[0m\u001b[0m\n\u001b[0m\u001b[0;32m   1639\u001b[0m         \u001b[1;32mreturn\u001b[0m \u001b[1;32mTrue\u001b[0m\u001b[1;33m\u001b[0m\u001b[0m\n\u001b[0;32m   1640\u001b[0m \u001b[1;33m\u001b[0m\u001b[0m\n",
      "\u001b[1;31mIndexError\u001b[0m: single positional indexer is out-of-bounds"
     ]
    }
   ],
   "source": [
    "# Difference of scaled mean between domestic firms and MNCs (Transportation, Communication, Electric, Gas)\n",
    "total_income_industry3_mean_diff = \\\n",
    "total_income_industry3_mean_scaled.groupby('fy')['Total_Income_scaled'].\\\n",
    "apply(lambda x: x.iloc[1] - x.iloc[0])\n",
    "\n",
    "total_income_industry3_mean_diff = pd.DataFrame(total_income_industry3_mean_diff).reset_index()"
   ]
  },
  {
   "cell_type": "markdown",
   "metadata": {},
   "source": [
    "### Industry 4: Wholesale, Retail"
   ]
  },
  {
   "cell_type": "code",
   "execution_count": null,
   "metadata": {
    "collapsed": true
   },
   "outputs": [],
   "source": [
    "# Count of firms in Wholesale, Retail\n",
    "total_income_industry4_count =\\\n",
    "pd.DataFrame(total_income_industry4[total_income_industry4['GrossProfit'].notnull()].\\\n",
    "             loc[:,['cik','fy','Type of Firm','GrossProfit']].\\\n",
    "             groupby(['fy','Type of Firm'])['GrossProfit'].count()).reset_index()"
   ]
  },
  {
   "cell_type": "code",
   "execution_count": null,
   "metadata": {
    "collapsed": true,
    "scrolled": true
   },
   "outputs": [],
   "source": [
    "# Mean of (Total Income / Assets) of firms in Wholesale, Retail\n",
    "total_income_industry4_mean_scaled =\\\n",
    "pd.DataFrame(total_income_industry4[total_income_industry4['Total_Income_scaled'].notnull()].\\\n",
    "             loc[:,['cik','fy','Type of Firm','Total_Income_scaled']].\\\n",
    "             groupby(['fy','Type of Firm'])['Total_Income_scaled'].mean()).reset_index()"
   ]
  },
  {
   "cell_type": "code",
   "execution_count": null,
   "metadata": {
    "collapsed": true,
    "scrolled": true
   },
   "outputs": [],
   "source": [
    "# Difference of scaled mean between domestic firms and MNCs (Wholesale, Retail)\n",
    "total_income_industry4_mean_diff = \\\n",
    "total_income_industry4_mean_scaled.groupby('fy')['Total_Income_scaled'].\\\n",
    "apply(lambda x: x.iloc[0] - x.iloc[1])\n",
    "\n",
    "total_income_industry4_mean_diff = pd.DataFrame(total_income_industry4_mean_diff).reset_index()"
   ]
  },
  {
   "cell_type": "markdown",
   "metadata": {},
   "source": [
    "### Industry 5: Financial, Insurance, Real Estate"
   ]
  },
  {
   "cell_type": "code",
   "execution_count": null,
   "metadata": {
    "collapsed": true
   },
   "outputs": [],
   "source": [
    "# Count of firms in Financial, Insurance, Real Estate\n",
    "total_income_industry5_count =\\\n",
    "pd.DataFrame(total_income_industry5[total_income_industry5['GrossProfit'].notnull()].\\\n",
    "             loc[:,['cik','fy','Type of Firm','GrossProfit']].\\\n",
    "             groupby(['fy','Type of Firm'])['GrossProfit'].count()).reset_index()"
   ]
  },
  {
   "cell_type": "code",
   "execution_count": null,
   "metadata": {
    "collapsed": true,
    "scrolled": true
   },
   "outputs": [],
   "source": [
    "# Mean of (Total Income / Assets) of firms in Financial, Insurance, Real Estate\n",
    "total_income_industry5_mean_scaled =\\\n",
    "pd.DataFrame(total_income_industry5[total_income_industry5['Total_Income_scaled'].notnull()].\\\n",
    "             loc[:,['cik','fy','Type of Firm','Total_Income_scaled']].\\\n",
    "             groupby(['fy','Type of Firm'])['Total_Income_scaled'].mean()).reset_index()"
   ]
  },
  {
   "cell_type": "code",
   "execution_count": null,
   "metadata": {
    "collapsed": true,
    "scrolled": true
   },
   "outputs": [],
   "source": [
    "# Difference of scaled mean between domestic firms and MNCs (Financial, Insurance, Real Estate)\n",
    "total_income_industry5_mean_diff = \\\n",
    "total_income_industry5_mean_scaled.groupby('fy')['Total_Income_scaled'].\\\n",
    "apply(lambda x: x.iloc[0] - x.iloc[1])\n",
    "\n",
    "total_income_industry5_mean_diff = pd.DataFrame(total_income_industry5_mean_diff).reset_index()"
   ]
  },
  {
   "cell_type": "markdown",
   "metadata": {},
   "source": [
    "### Industry 6: Services"
   ]
  },
  {
   "cell_type": "code",
   "execution_count": null,
   "metadata": {
    "collapsed": true
   },
   "outputs": [],
   "source": [
    "# Count of firms in Services\n",
    "total_income_industry6_count =\\\n",
    "pd.DataFrame(total_income_industry6[total_income_industry6['GrossProfit'].notnull()].\\\n",
    "             loc[:,['cik','fy','Type of Firm','GrossProfit']].\\\n",
    "             groupby(['fy','Type of Firm'])['GrossProfit'].count()).reset_index()"
   ]
  },
  {
   "cell_type": "code",
   "execution_count": null,
   "metadata": {
    "collapsed": true,
    "scrolled": true
   },
   "outputs": [],
   "source": [
    "# Mean of (Total Income / Assets) of firms in Services\n",
    "total_income_industry6_mean_scaled =\\\n",
    "pd.DataFrame(total_income_industry6[total_income_industry6['Total_Income_scaled'].notnull()].\\\n",
    "             loc[:,['cik','fy','Type of Firm','Total_Income_scaled']].\\\n",
    "             groupby(['fy','Type of Firm'])['Total_Income_scaled'].mean()).reset_index()"
   ]
  },
  {
   "cell_type": "code",
   "execution_count": null,
   "metadata": {
    "collapsed": true,
    "scrolled": true
   },
   "outputs": [],
   "source": [
    "# Difference of scaled mean between domestic firms and MNCs (Services)\n",
    "total_income_industry6_mean_diff = \\\n",
    "total_income_industry6_mean_scaled.groupby('fy')['Total_Income_scaled'].\\\n",
    "apply(lambda x: x.iloc[0] - x.iloc[1])\n",
    "\n",
    "total_income_industry6_mean_diff = pd.DataFrame(total_income_industry6_mean_diff).reset_index()"
   ]
  },
  {
   "cell_type": "markdown",
   "metadata": {},
   "source": [
    "### Industry 7: Public Administration"
   ]
  },
  {
   "cell_type": "markdown",
   "metadata": {},
   "source": [
    "No companies classified into this category"
   ]
  },
  {
   "cell_type": "code",
   "execution_count": null,
   "metadata": {
    "collapsed": true
   },
   "outputs": [],
   "source": [
    "# # Count of firms in Public Administration\n",
    "# total_income_industry7_count =\\\n",
    "# pd.DataFrame(total_income_industry7[total_income_industry7['GrossProfit'].notnull()].\\\n",
    "#              loc[:,['cik','fy','Type of Firm','GrossProfit']].\\\n",
    "#              groupby(['fy','Type of Firm'])['GrossProfit'].count()).reset_index()"
   ]
  },
  {
   "cell_type": "code",
   "execution_count": null,
   "metadata": {
    "collapsed": true,
    "scrolled": true
   },
   "outputs": [],
   "source": [
    "# # Mean of (Total Income / Assets) of firms in Public Administration\n",
    "# total_income_industry7_mean_scaled =\\\n",
    "# pd.DataFrame(total_income_industry7[total_income_industry7['Total_Income_scaled'].notnull()].\\\n",
    "#              loc[:,['cik','fy','Type of Firm','Total_Income_scaled']].\\\n",
    "#              groupby(['fy','Type of Firm'])['Total_Income_scaled'].mean()).reset_index()"
   ]
  },
  {
   "cell_type": "code",
   "execution_count": null,
   "metadata": {
    "collapsed": true,
    "scrolled": true
   },
   "outputs": [],
   "source": [
    "# # Difference of scaled mean between domestic firms and MNCs (Public Administration)\n",
    "# total_income_industry7_mean_diff = \\\n",
    "# total_income_industry7_mean_scaled.groupby('fy')['Total_Income_scaled'].\\\n",
    "# apply(lambda x: x.iloc[0] - x.iloc[1])\n",
    "\n",
    "# total_income_industry7_mean_diff = pd.DataFrame(total_income_industry7_mean_diff).reset_index()"
   ]
  },
  {
   "cell_type": "markdown",
   "metadata": {},
   "source": [
    "### Visualizations"
   ]
  },
  {
   "cell_type": "code",
   "execution_count": 110,
   "metadata": {
    "scrolled": true
   },
   "outputs": [
    {
     "data": {
      "image/png": "[encoded data removed]",
      "text/plain": [
       "<matplotlib.figure.Figure at 0x22ddb804828>"
      ]
     },
     "metadata": {},
     "output_type": "display_data"
    }
   ],
   "source": [
    "# Count of MNC and domestic firms throughout years for different industries\n",
    "\n",
    "f, ((ax1, ax2), (ax3, ax4),(ax5,ax6))= plt.subplots(3,2, figsize=(10,10))\n",
    "\n",
    "sns.barplot(x='fy',y='GrossProfit',hue='Type of Firm',data= total_income_industry1_count,ax=ax1)\n",
    "# ax1.set_yticklabels([0,100,200,300,400,500,600,700])\n",
    "ax1.set_ylabel('Count of firms')\n",
    "ax1.set_title('Count of firms (Mining and Construction)')\n",
    "\n",
    "sns.barplot(x='fy',y='GrossProfit',hue='Type of Firm',data= total_income_industry2_count,ax=ax2)\n",
    "# ax2.set_yticklabels([0,1,2,3,4,5,6])\n",
    "ax2.set_ylabel('Count of firms')\n",
    "ax2.set_title('Count of firms (Manufacturing)')\n",
    "\n",
    "sns.barplot(x='fy',y='GrossProfit',hue='Type of Firm',data= total_income_industry3_count,ax=ax3)\n",
    "# ax3.set_yticklabels([0,1,2,3,4,5])\n",
    "ax3.set_ylabel('Count of firms ')\n",
    "ax3.set_title('Count of firms (Transportation, Communication, Electric, Gas)')\n",
    "\n",
    "sns.barplot(x='fy',y='GrossProfit',hue='Type of Firm',data= total_income_industry4_count,ax=ax4)\n",
    "# ax4.set_yticklabels([0,10,20,30,40,50,60,70])\n",
    "ax4.set_ylabel('Count of firms ')\n",
    "ax4.set_title('Count of firms (Wholesale, Retail)')\n",
    "\n",
    "sns.barplot(x='fy',y='GrossProfit',hue='Type of Firm',data= total_income_industry5_count,ax=ax5)\n",
    "# ax4.set_yticklabels([0,10,20,30,40,50,60,70])\n",
    "ax5.set_ylabel('Count of firms')\n",
    "ax5.set_title('Count of firms (Financial, Insurance, Real Estate)')\n",
    "\n",
    "sns.barplot(x='fy',y='GrossProfit',hue='Type of Firm',data= total_income_industry6_count,ax=ax6)\n",
    "# ax4.set_yticklabels([0,10,20,30,40,50,60,70])\n",
    "ax6.set_ylabel('Count of firms')\n",
    "ax6.set_title('Count of firms (Services)')\n",
    "\n",
    "plt.tight_layout()"
   ]
  },
  {
   "cell_type": "code",
   "execution_count": 111,
   "metadata": {
    "scrolled": false
   },
   "outputs": [
    {
     "data": {
      "image/png": "[encoded data removed]",
      "text/plain": [
       "<matplotlib.figure.Figure at 0x22ddbba2b38>"
      ]
     },
     "metadata": {},
     "output_type": "display_data"
    }
   ],
   "source": [
    "# Mean of (Total Income / Assets) for MNC and domestic firms throughout years for different industries\n",
    "\n",
    "# plt.subplots(figsize=(5,5))\n",
    "\n",
    "# sns.barplot(x='fy',y='Liabilities_scaled',hue='Type of Firm',data= liabilities_industry1_mean_scaled,ax=ax1)\n",
    "# # ax1.set_yticklabels([0,100,200,300,400,500,600,700])\n",
    "# ax1.set_ylabel('Mean Liabilities scaled with Assets')\n",
    "# ax1.set_title('Mean Liabilities scaled with Assets (Mining and Construction)')\n",
    "\n",
    "sns.barplot(x='fy',y='Total_Income_scaled',hue='Type of Firm',data= total_income_industry2_mean_scaled)\n",
    "# ax2.set_yticklabels([0,1,2,3,4,5,6])\n",
    "plt.ylabel('Mean of Total Income scaled with Assets')\n",
    "plt.title('Mean of Total Income scaled with Assets (Manufacturing)')\n",
    "\n",
    "# sns.barplot(x='fy',y='Liabilities_scaled',hue='Type of Firm',data= liabilities_industry3_mean_scaled,ax=ax3)\n",
    "# # ax3.set_yticklabels([0,1,2,3,4,5])\n",
    "# ax3.set_ylabel('Mean Liabilities scaled with Assets')\n",
    "# ax3.set_title('Mean Liabilities scaled with Assets (Transportation, Communication, Electric, Gas)')\n",
    "\n",
    "# sns.barplot(x='fy',y='Liabilities_scaled',hue='Type of Firm',data= liabilities_industry4_mean_scaled,ax=ax4)\n",
    "# # ax4.set_yticklabels([0,10,20,30,40,50,60,70])\n",
    "# ax4.set_ylabel('Mean Liabilities scaled with Assets')\n",
    "# ax4.set_title('Mean Liabilities scaled with Assets (Wholesale, Retail)')\n",
    "\n",
    "# sns.barplot(x='fy',y='Liabilities_scaled',hue='Type of Firm',data= liabilities_industry5_mean_scaled,ax=ax5)\n",
    "# # ax4.set_yticklabels([0,10,20,30,40,50,60,70])\n",
    "# ax5.set_ylabel('Mean Liabilities scaled with Assets')\n",
    "# ax5.set_title('Mean Liabilities scaled with Assets (Financial, Insurance, Real Estate)')\n",
    "\n",
    "# sns.barplot(x='fy',y='Liabilities_scaled',hue='Type of Firm',data= liabilities_industry6_mean_scaled,ax=ax2)\n",
    "# # ax4.set_yticklabels([0,10,20,30,40,50,60,70])\n",
    "# ax2.set_ylabel('Mean Liabilities scaled with Assets')\n",
    "# ax2.set_title('Mean Liabilities scaled with Assets (Services)')\n",
    "\n",
    "# sns.barplot(x='fy',y='Liabilities_scaled',hue='Type of Firm',data= liabilities_industry7_mean_scaled,ax=ax7)\n",
    "# # ax4.set_yticklabels([0,10,20,30,40,50,60,70])\n",
    "# ax7.set_ylabel('Mean Liabilities scaled with Assets (by millions)')\n",
    "# ax7.set_title('Mean Liabilities scaled with Assets (Public Administration)')\n",
    "\n",
    "plt.tight_layout()"
   ]
  },
  {
   "cell_type": "markdown",
   "metadata": {},
   "source": [
    "Only Industry 2 (Manufacturing) have enough data points to analyze with (100+ observations for both domestic firms and MNCs), so we will be focusing on the manufacturing and will also plot the undistributed foreign earnings normalized by Assets below to see if the trend supports our hypothesis"
   ]
  },
  {
   "cell_type": "code",
   "execution_count": 112,
   "metadata": {
    "collapsed": true,
    "scrolled": true
   },
   "outputs": [],
   "source": [
    "total_income_industry2['UndistributedEarningsOfForeignSubsidiaries_scaled']=\\\n",
    "total_income_industry2['UndistributedEarningsOfForeignSubsidiaries']/total_income_industry2['Assets']"
   ]
  },
  {
   "cell_type": "code",
   "execution_count": 113,
   "metadata": {
    "scrolled": false
   },
   "outputs": [
    {
     "data": {
      "text/plain": [
       "Text(0.5,1,'Difference in Mean of normalized Total Income for Manufacturing Industry (MNCs - Domestic Firms)')"
      ]
     },
     "execution_count": 113,
     "metadata": {},
     "output_type": "execute_result"
    },
    {
     "data": {
      "image/png": "[encoded data removed]",
      "text/plain": [
       "<matplotlib.figure.Figure at 0x22ddb9520b8>"
      ]
     },
     "metadata": {},
     "output_type": "display_data"
    }
   ],
   "source": [
    "# Manufacturing industry : Difference of Mean normalized Total Income (MNCs - Domestic firms)\n",
    "plt.subplots(figsize=(7,5))\n",
    "sns.pointplot(x='fy',y='Total_Income_scaled',data= total_income_industry2_mean_diff)\n",
    "plt.ylabel('Difference in Mean of normalized Total Income')\n",
    "plt.title('Difference in Mean of normalized Total Income for Manufacturing Industry (MNCs - Domestic Firms)')"
   ]
  },
  {
   "cell_type": "code",
   "execution_count": 115,
   "metadata": {},
   "outputs": [
    {
     "data": {
      "text/plain": [
       "Text(0,0.5,'Mean of Total Income normalized')"
      ]
     },
     "execution_count": 115,
     "metadata": {},
     "output_type": "execute_result"
    },
    {
     "data": {
      "image/png": "[encoded data removed]",
      "text/plain": [
       "<matplotlib.figure.Figure at 0x22ddb8d6f60>"
      ]
     },
     "metadata": {},
     "output_type": "display_data"
    }
   ],
   "source": [
    "# Total Income normalized by Assets over time\n",
    "sns.pointplot(x='fy', y='Total_Income_scaled', hue='Type of Firm', data=total_income_industry2_mean_scaled)\n",
    "\n",
    "plt.title('Mean of Total Income normalized by Assets over time (Manufacturing)')\n",
    "plt.ylabel('Mean of Total Income normalized')"
   ]
  },
  {
   "cell_type": "code",
   "execution_count": 116,
   "metadata": {},
   "outputs": [
    {
     "data": {
      "text/plain": [
       "Text(0,0.5,'Mean of Total Income normalized')"
      ]
     },
     "execution_count": 116,
     "metadata": {},
     "output_type": "execute_result"
    },
    {
     "data": {
      "image/png": "[encoded data removed]",
      "text/plain": [
       "<matplotlib.figure.Figure at 0x22ddc352898>"
      ]
     },
     "metadata": {},
     "output_type": "display_data"
    }
   ],
   "source": [
    "# Total Income normalized by Assets of MNCs over time\n",
    "sns.pointplot(x='fy', y='Total_Income_scaled',\n",
    "              data=total_income_industry2_mean_scaled[total_income_industry2_mean_scaled['Type of Firm']=='Foreign'])\n",
    "\n",
    "plt.title('Mean of Total Income normalized by Assets of MNCs over time (Manufacturing)')\n",
    "plt.ylabel('Mean of Total Income normalized')"
   ]
  },
  {
   "cell_type": "code",
   "execution_count": 117,
   "metadata": {
    "scrolled": false
   },
   "outputs": [
    {
     "data": {
      "text/plain": [
       "Text(0.5,1,'Mean Undistributed Foreign Earnings normalized (Manufacturing)')"
      ]
     },
     "execution_count": 117,
     "metadata": {},
     "output_type": "execute_result"
    },
    {
     "data": {
      "image/png": "[encoded data removed]",
      "text/plain": [
       "<matplotlib.figure.Figure at 0x22ddc506fd0>"
      ]
     },
     "metadata": {},
     "output_type": "display_data"
    }
   ],
   "source": [
    "# Mean Normalized Undistributed Foreign Earnings of Manufacturing Industry\n",
    "\n",
    "sns.pointplot(x='fy',y='UndistributedEarningsOfForeignSubsidiaries_scaled',\n",
    "              data= pd.DataFrame(total_income_industry2[total_income_industry2['Type of Firm']=='Foreign'].\\\n",
    "             groupby(['fy'])['UndistributedEarningsOfForeignSubsidiaries_scaled'].mean()).reset_index())\n",
    "\n",
    "plt.ylabel('Mean Undistributed Foreign Earnings Expense normalized')\n",
    "plt.title('Mean Undistributed Foreign Earnings normalized (Manufacturing)')"
   ]
  }
 ],
 "metadata": {
  "kernelspec": {
   "display_name": "Python 3",
   "language": "python",
   "name": "python3"
  },
  "language_info": {
   "codemirror_mode": {
    "name": "ipython",
    "version": 3
   },
   "file_extension": ".py",
   "mimetype": "text/x-python",
   "name": "python",
   "nbconvert_exporter": "python",
   "pygments_lexer": "ipython3",
   "version": "3.6.3"
  }
 },
 "nbformat": 4,
 "nbformat_minor": 2
}
