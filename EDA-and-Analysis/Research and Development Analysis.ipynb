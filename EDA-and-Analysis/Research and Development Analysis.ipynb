{
 "cells": [
  {
   "cell_type": "code",
   "execution_count": 148,
   "metadata": {
    "collapsed": true
   },
   "outputs": [],
   "source": [
    "import pandas as pd\n",
    "import numpy as np\n",
    "import matplotlib.pyplot as plt\n",
    "import matplotlib as mp\n",
    "import seaborn as sns\n",
    "%matplotlib inline"
   ]
  },
  {
   "cell_type": "code",
   "execution_count": 149,
   "metadata": {
    "collapsed": true,
    "scrolled": true
   },
   "outputs": [],
   "source": [
    "df = pd.read_csv('josh_final_dataset_7.14.csv')"
   ]
  },
  {
   "cell_type": "code",
   "execution_count": 150,
   "metadata": {
    "collapsed": true
   },
   "outputs": [],
   "source": [
    "del df['Unnamed: 0']"
   ]
  },
  {
   "cell_type": "code",
   "execution_count": 151,
   "metadata": {
    "scrolled": false
   },
   "outputs": [
    {
     "name": "stdout",
     "output_type": "stream",
     "text": [
      "<class 'pandas.core.frame.DataFrame'>\n",
      "RangeIndex: 45604 entries, 0 to 45603\n",
      "Data columns (total 30 columns):\n",
      "Assets                                                                                                         39525 non-null float64\n",
      "adsh                                                                                                           39525 non-null object\n",
      "cik                                                                                                            45604 non-null int64\n",
      "coreg                                                                                                          54 non-null object\n",
      "ddate                                                                                                          39525 non-null float64\n",
      "ein                                                                                                            37612 non-null float64\n",
      "fy                                                                                                             45604 non-null float64\n",
      "fye                                                                                                            39525 non-null float64\n",
      "period                                                                                                         39525 non-null float64\n",
      "sic                                                                                                            39382 non-null float64\n",
      "PaymentsToAcquireOtherPropertyPlantAndEquipment                                                                116 non-null float64\n",
      "PropertyPlantAndEquipmentAdditions                                                                             89 non-null float64\n",
      "PropertyPlantAndEquipmentGross                                                                                 12628 non-null float64\n",
      "PropertyPlantAndEquipmentGrossExcludingCapitalLeasedAssets                                                     6 non-null float64\n",
      "PropertyPlantAndEquipmentGrossPeriodIncreaseDecrease                                                           10 non-null float64\n",
      "PropertyPlantAndEquipmentNet                                                                                   20341 non-null float64\n",
      "PropertyPlantAndEquipmentNetExcludingCapitalLeasedAssets                                                       14 non-null float64\n",
      "PropertyPlantAndEquipmentOwnedGross                                                                            2 non-null float64\n",
      "PropertyPlantAndEquipmentOwnedNet                                                                              8 non-null float64\n",
      "UndistributedEarningsOfForeignSubsidiaries                                                                     5457 non-null float64\n",
      "IncomeLossFromContinuingOperationsBeforeIncomeTaxesExtraordinaryItemsNoncontrollingInterest                    10344 non-null float64\n",
      "IncomeLossFromContinuingOperationsBeforeIncomeTaxesForeign                                                     11248 non-null float64\n",
      "IncomeLossFromContinuingOperationsBeforeIncomeTaxesMinorityInterestAndIncomeLossFromEquityMethodInvestments    18452 non-null float64\n",
      "ForeignEarningsRepatriated                                                                                     200 non-null float64\n",
      "IncomeLossFromContinuingOperationsBeforeIncomeTaxesDomestic                                                    4702 non-null float64\n",
      "ResearchAndDevelopmentExpense                                                                                  5948 non-null float64\n",
      "Liabilities                                                                                                    29959 non-null float64\n",
      "NetIncomeLoss                                                                                                  14910 non-null float64\n",
      "GrossProfit                                                                                                    12268 non-null float64\n",
      "ProfitLoss                                                                                                     6081 non-null float64\n",
      "dtypes: float64(27), int64(1), object(2)\n",
      "memory usage: 10.4+ MB\n"
     ]
    }
   ],
   "source": [
    "df.info()"
   ]
  },
  {
   "cell_type": "markdown",
   "metadata": {},
   "source": [
    "## Dividing (Identifying) which companies are foreign and domestic"
   ]
  },
  {
   "cell_type": "code",
   "execution_count": 152,
   "metadata": {
    "collapsed": true
   },
   "outputs": [],
   "source": [
    "df['check1']=np.where(df.IncomeLossFromContinuingOperationsBeforeIncomeTaxesForeign.isnull(),0,1)\n",
    "df['check2']=np.where(df.UndistributedEarningsOfForeignSubsidiaries.isnull(),0,1)\n",
    "df['check3']=np.where(df.ForeignEarningsRepatriated.isnull(),0,1)\n",
    "\n",
    "df['check']=df['check1']+df['check2']+df['check3']"
   ]
  },
  {
   "cell_type": "code",
   "execution_count": 153,
   "metadata": {
    "collapsed": true
   },
   "outputs": [],
   "source": [
    "del df['check1']\n",
    "del df['check2']\n",
    "del df['check3']"
   ]
  },
  {
   "cell_type": "code",
   "execution_count": 154,
   "metadata": {
    "collapsed": true
   },
   "outputs": [],
   "source": [
    "# Giving identifiers to companies as to whether each of them has foreign subsidiary(foreign operation) or not\n",
    "df['Type of Firm'] = np.where(df.check==0,'Domestic','Foreign')"
   ]
  },
  {
   "cell_type": "code",
   "execution_count": 155,
   "metadata": {
    "collapsed": true
   },
   "outputs": [],
   "source": [
    "del df['check']"
   ]
  },
  {
   "cell_type": "markdown",
   "metadata": {},
   "source": [
    "## Giving each company industry classification & Creating [R&D/Assets]"
   ]
  },
  {
   "cell_type": "code",
   "execution_count": 156,
   "metadata": {
    "collapsed": true
   },
   "outputs": [],
   "source": [
    "industry_count =\\\n",
    "pd.DataFrame([{'Mining and Construction':3551, 'Manufacturing':13162, 'Transportation, Communication, Electric, Gas':2889,\n",
    " 'Wholesale, Retail':3116,'Financial, Insurance, Real Estate':9625, 'Services':6725,'Public Administration':103}],index=['count'])\n",
    "\n",
    "# industry_count.to_csv('industry_count_breakdown.csv')"
   ]
  },
  {
   "cell_type": "code",
   "execution_count": 157,
   "metadata": {
    "scrolled": true
   },
   "outputs": [
    {
     "data": {
      "text/html": [
       "<div>\n",
       "<style>\n",
       "    .dataframe thead tr:only-child th {\n",
       "        text-align: right;\n",
       "    }\n",
       "\n",
       "    .dataframe thead th {\n",
       "        text-align: left;\n",
       "    }\n",
       "\n",
       "    .dataframe tbody tr th {\n",
       "        vertical-align: top;\n",
       "    }\n",
       "</style>\n",
       "<table border=\"1\" class=\"dataframe\">\n",
       "  <thead>\n",
       "    <tr style=\"text-align: right;\">\n",
       "      <th></th>\n",
       "      <th>Financial, Insurance, Real Estate</th>\n",
       "      <th>Manufacturing</th>\n",
       "      <th>Mining and Construction</th>\n",
       "      <th>Public Administration</th>\n",
       "      <th>Services</th>\n",
       "      <th>Transportation, Communication, Electric, Gas</th>\n",
       "      <th>Wholesale, Retail</th>\n",
       "    </tr>\n",
       "  </thead>\n",
       "  <tbody>\n",
       "    <tr>\n",
       "      <th>count</th>\n",
       "      <td>9625</td>\n",
       "      <td>13162</td>\n",
       "      <td>3551</td>\n",
       "      <td>103</td>\n",
       "      <td>6725</td>\n",
       "      <td>2889</td>\n",
       "      <td>3116</td>\n",
       "    </tr>\n",
       "  </tbody>\n",
       "</table>\n",
       "</div>"
      ],
      "text/plain": [
       "       Financial, Insurance, Real Estate  Manufacturing  \\\n",
       "count                               9625          13162   \n",
       "\n",
       "       Mining and Construction  Public Administration  Services  \\\n",
       "count                     3551                    103      6725   \n",
       "\n",
       "       Transportation, Communication, Electric, Gas  Wholesale, Retail  \n",
       "count                                          2889               3116  "
      ]
     },
     "execution_count": 157,
     "metadata": {},
     "output_type": "execute_result"
    }
   ],
   "source": [
    "industry_count"
   ]
  },
  {
   "cell_type": "code",
   "execution_count": 158,
   "metadata": {
    "collapsed": true
   },
   "outputs": [],
   "source": [
    "# bins = pd.IntervalIndex.from_tuples([(1000, 1999), (2000, 3999),(4000,4999),(5000,5999),\n",
    "#                                     (6000,6999),(7000,8999),(9000,9999)],closed='both')\n",
    "\n",
    "df['industry']=\\\n",
    "pd.cut(df.sic.tolist(),[1000,1999,3999,4999,5999,6999,8999,9999],include_lowest=True,\n",
    "             labels=['Mining and Construction','Manufacturing','Transportation, Communication, Electric, Gas',\n",
    "               'Wholesale, Retail','Financial, Insurance, Real Estate','Services','Public Administration'])"
   ]
  },
  {
   "cell_type": "code",
   "execution_count": 159,
   "metadata": {
    "collapsed": true
   },
   "outputs": [],
   "source": [
    "# Creating new variable (R&D / Assets)\n",
    "df['ResearchAndDevelopmentExpense_scaled']=\\\n",
    "df['ResearchAndDevelopmentExpense']/df['Assets']"
   ]
  },
  {
   "cell_type": "markdown",
   "metadata": {
    "collapsed": true
   },
   "source": [
    "## Research and Development Expenses - Simple Comparison"
   ]
  },
  {
   "cell_type": "code",
   "execution_count": 160,
   "metadata": {
    "collapsed": true,
    "scrolled": true
   },
   "outputs": [],
   "source": [
    "# Sum of domestic income per year by type\n",
    "r_and_d_sum_comparison =\\\n",
    "pd.DataFrame(df[df['ResearchAndDevelopmentExpense'].notnull()].\\\n",
    "             loc[:,['cik','fy','Type of Firm','ResearchAndDevelopmentExpense']].\\\n",
    "             groupby(['fy','Type of Firm'])['ResearchAndDevelopmentExpense'].sum()).reset_index()"
   ]
  },
  {
   "cell_type": "code",
   "execution_count": 161,
   "metadata": {
    "collapsed": true
   },
   "outputs": [],
   "source": [
    "# Number of firms per year by type\n",
    "r_and_d_number_of_companies_comparison=\\\n",
    "pd.DataFrame(df[df['ResearchAndDevelopmentExpense'].notnull()].\\\n",
    "             loc[:,['cik','fy','Type of Firm','ResearchAndDevelopmentExpense']].\\\n",
    "             groupby(['fy','Type of Firm'])['ResearchAndDevelopmentExpense'].count()).reset_index()"
   ]
  },
  {
   "cell_type": "code",
   "execution_count": 162,
   "metadata": {
    "scrolled": false
   },
   "outputs": [
    {
     "data": {
      "text/plain": [
       "Text(0.5,1,'Total R&D Expense of Firms by Type')"
      ]
     },
     "execution_count": 162,
     "metadata": {},
     "output_type": "execute_result"
    },
    {
     "data": {
      "image/png": "[encoded data removed]",
      "text/plain": [
       "<matplotlib.figure.Figure at 0x1f66c91c128>"
      ]
     },
     "metadata": {},
     "output_type": "display_data"
    }
   ],
   "source": [
    "plt.figure().add_subplot(111).set_yticklabels([0,25,50,75,100,125,150,175,200])\n",
    "sns.barplot(x='fy',y='ResearchAndDevelopmentExpense',hue='Type of Firm',data= r_and_d_sum_comparison)\n",
    "plt.xticks(rotation='vertical')\n",
    "plt.ylabel('Total R&D Expense (by billion)')\n",
    "plt.title('Total R&D Expense of Firms by Type')"
   ]
  },
  {
   "cell_type": "code",
   "execution_count": 163,
   "metadata": {
    "scrolled": true
   },
   "outputs": [
    {
     "data": {
      "text/plain": [
       "Text(0.5,1,'Number of Firms by Type')"
      ]
     },
     "execution_count": 163,
     "metadata": {},
     "output_type": "execute_result"
    },
    {
     "data": {
      "image/png": "[encoded data removed]",
      "text/plain": [
       "<matplotlib.figure.Figure at 0x1f66d7b4898>"
      ]
     },
     "metadata": {},
     "output_type": "display_data"
    }
   ],
   "source": [
    "sns.barplot(x='fy',y='ResearchAndDevelopmentExpense',hue='Type of Firm',data= r_and_d_number_of_companies_comparison)\n",
    "plt.xticks(rotation='vertical')\n",
    "plt.ylabel('Number of firms')\n",
    "plt.title('Number of Firms by Type')"
   ]
  },
  {
   "cell_type": "markdown",
   "metadata": {},
   "source": [
    "## Fixed Comparison - Fixing years(fy 2013-2016) and Binning by Asset Size"
   ]
  },
  {
   "cell_type": "markdown",
   "metadata": {},
   "source": [
    "### Dividing firms into 4 bins"
   ]
  },
  {
   "cell_type": "code",
   "execution_count": 164,
   "metadata": {
    "collapsed": true
   },
   "outputs": [],
   "source": [
    "# Data only from fy 2013 to fy 2016\n",
    "df_13_16 = df[(df.fy>=2013) & (df.fy<=2016)]"
   ]
  },
  {
   "cell_type": "code",
   "execution_count": 165,
   "metadata": {
    "collapsed": true
   },
   "outputs": [],
   "source": [
    "# Drop firms that have at least one missing Asset values from fy 2013-2016\n",
    "df_13_16 = df_13_16.groupby('cik').filter(lambda x: all(pd.notnull(x['Assets'])))"
   ]
  },
  {
   "cell_type": "code",
   "execution_count": 166,
   "metadata": {
    "collapsed": true
   },
   "outputs": [],
   "source": [
    "# Drop firms that have at least one missing R&D values from fy 2013-2016\n",
    "df_13_16 = df_13_16.groupby('cik').filter(lambda x: all(pd.notnull(x['ResearchAndDevelopmentExpense'])))"
   ]
  },
  {
   "cell_type": "code",
   "execution_count": 167,
   "metadata": {
    "collapsed": true,
    "scrolled": true
   },
   "outputs": [],
   "source": [
    "# Filter only the companies that have data for all fy years 2013 - 2016 (4 assets values per cik group)\n",
    "df_13_16 = df_13_16.groupby('cik').filter(lambda x: x['fy'].nunique()==4)"
   ]
  },
  {
   "cell_type": "code",
   "execution_count": 168,
   "metadata": {
    "collapsed": true
   },
   "outputs": [],
   "source": [
    "df_13_16_foreign = df_13_16.copy()[df_13_16.copy()['Type of Firm']=='Foreign']\n",
    "df_13_16_domestic = df_13_16.copy()[df_13_16.copy()['Type of Firm']=='Domestic']"
   ]
  },
  {
   "cell_type": "markdown",
   "metadata": {},
   "source": [
    "As we can see below, the problem is there are some firms that was domestic one year and was multinational for another year (inconsistent). We are going to drop those companies and exclude them from the analysis"
   ]
  },
  {
   "cell_type": "code",
   "execution_count": 169,
   "metadata": {
    "scrolled": true
   },
   "outputs": [
    {
     "name": "stdout",
     "output_type": "stream",
     "text": [
      "Foreign: fy\n",
      "2013.0    160\n",
      "2014.0    163\n",
      "2015.0    165\n",
      "2016.0    168\n",
      "dtype: int64 \n",
      "\n",
      " Domestic: fy\n",
      "2013.0    144\n",
      "2014.0    141\n",
      "2015.0    139\n",
      "2016.0    136\n",
      "dtype: int64\n"
     ]
    }
   ],
   "source": [
    "print(\"Foreign:\",df_13_16_foreign.groupby('fy').size(),\"\\n\\n\",\"Domestic:\", df_13_16_domestic.groupby('fy').size())"
   ]
  },
  {
   "cell_type": "code",
   "execution_count": 170,
   "metadata": {
    "collapsed": true
   },
   "outputs": [],
   "source": [
    "# Dropping MNCs that have missing UFEs for all years\n",
    "df_13_16_foreign = df_13_16_foreign.groupby('cik').filter(lambda x: all(pd.notnull(x['UndistributedEarningsOfForeignSubsidiaries'])))"
   ]
  },
  {
   "cell_type": "code",
   "execution_count": 171,
   "metadata": {
    "collapsed": true
   },
   "outputs": [],
   "source": [
    "df_13_16_foreign = df_13_16_foreign.groupby('cik').filter(lambda x: x['fy'].nunique()==4)\n",
    "df_13_16_domestic = df_13_16_domestic.groupby('cik').filter(lambda x: x['fy'].nunique()==4)"
   ]
  },
  {
   "cell_type": "code",
   "execution_count": 172,
   "metadata": {
    "scrolled": true
   },
   "outputs": [
    {
     "name": "stdout",
     "output_type": "stream",
     "text": [
      "Foreign: fy\n",
      "2013.0    80\n",
      "2014.0    80\n",
      "2015.0    80\n",
      "2016.0    80\n",
      "dtype: int64 \n",
      "\n",
      " Domestic: fy\n",
      "2013.0    133\n",
      "2014.0    133\n",
      "2015.0    133\n",
      "2016.0    133\n",
      "dtype: int64\n"
     ]
    }
   ],
   "source": [
    "# Now we have the same number of multinational firms and domestic firms throughout all years\n",
    "print(\"Foreign:\",df_13_16_foreign.groupby('fy').size(),\"\\n\\n\",\"Domestic:\", df_13_16_domestic.groupby('fy').size())"
   ]
  },
  {
   "cell_type": "code",
   "execution_count": 173,
   "metadata": {
    "collapsed": true
   },
   "outputs": [],
   "source": [
    "# Make a new dataframe df_13_16 with the modified foreign and domestic firms data\n",
    "df_13_16= df_13_16_foreign.append(df_13_16_domestic)"
   ]
  },
  {
   "cell_type": "markdown",
   "metadata": {},
   "source": [
    "We use fy = 2016 and the domestic firms as the base for determining the bin"
   ]
  },
  {
   "cell_type": "code",
   "execution_count": 174,
   "metadata": {
    "collapsed": true
   },
   "outputs": [],
   "source": [
    "# # pd.qcut(df_13_16_domestic.copy()[df_13_16_domestic.copy().fy==2016].Assets.tolist(),4,\n",
    "# #         labels=['0-25%','25-50%','50-75%','75-100%'],retbins=True)\n",
    "\n",
    "# domestic_fy2016_asset_bin = [ 2.50000000e+04,   3.53300000e+06,   1.09041730e+07, 4.05610000e+07,   5.77700000e+09]"
   ]
  },
  {
   "cell_type": "code",
   "execution_count": 175,
   "metadata": {
    "collapsed": true
   },
   "outputs": [],
   "source": [
    "# # Making data with only fy=2016 for classifying firms into bins\n",
    "# df_16 = df_13_16.copy()[df_13_16.copy().fy==2016]\n",
    "\n",
    "# # Making the \"Bin\" column in fy2016 \n",
    "# df_16['Bin'] =\\\n",
    "# pd.cut(df_16.Assets.tolist(),domestic_fy2016_asset_bin,include_lowest=True,labels=['0-25%','25-50%','50-75%','75-100%'])"
   ]
  },
  {
   "cell_type": "code",
   "execution_count": 176,
   "metadata": {
    "collapsed": true
   },
   "outputs": [],
   "source": [
    "# # Dividing CIKs into 4 different bins and storing their firm CIKs\n",
    "# df_13_16_quart1_cik = df_16.copy()[df_16.copy().Bin=='0-25%'].cik.tolist()\n",
    "# df_13_16_quart2_cik = df_16.copy()[df_16.copy().Bin=='25-50%'].cik.tolist()\n",
    "# df_13_16_quart3_cik = df_16.copy()[df_16.copy().Bin=='50-75%'].cik.tolist()\n",
    "# df_13_16_quart4_cik = df_16.copy()[df_16.copy().Bin=='75-100%'].cik.tolist()"
   ]
  },
  {
   "cell_type": "code",
   "execution_count": 177,
   "metadata": {
    "collapsed": true
   },
   "outputs": [],
   "source": [
    "# # Using the above CIKs classified into four bins to partion data into 4 bins\n",
    "# df_13_16_quart1 = df_13_16.copy()[df_13_16.copy().cik.isin(df_13_16_quart1_cik)]\n",
    "# df_13_16_quart2 = df_13_16.copy()[df_13_16.copy().cik.isin(df_13_16_quart2_cik)]\n",
    "# df_13_16_quart3 = df_13_16.copy()[df_13_16.copy().cik.isin(df_13_16_quart3_cik)]\n",
    "# df_13_16_quart4 = df_13_16.copy()[df_13_16.copy().cik.isin(df_13_16_quart4_cik)]"
   ]
  },
  {
   "cell_type": "code",
   "execution_count": 178,
   "metadata": {
    "scrolled": true
   },
   "outputs": [],
   "source": [
    "# #Checking if each bin has equal number of firms throughout years\n",
    "# df_13_16_quart1.groupby(['fy']).size(), df_13_16_quart2.groupby(['fy']).size(), df_13_16_quart3.groupby(['fy']).size(), \\\n",
    "# df_13_16_quart4.groupby(['fy']).size()"
   ]
  },
  {
   "cell_type": "markdown",
   "metadata": {},
   "source": [
    "### 0-25% percentile"
   ]
  },
  {
   "cell_type": "code",
   "execution_count": 179,
   "metadata": {
    "collapsed": true,
    "scrolled": true
   },
   "outputs": [],
   "source": [
    "# # Sum of R & D of firms in bin 0-25% per year by type \n",
    "# r_and_d_quart1_mean_comparison =\\\n",
    "# pd.DataFrame(df_13_16_quart1[df_13_16_quart1['ResearchAndDevelopmentExpense'].notnull()].\\\n",
    "#              loc[:,['cik','fy','Type of Firm','ResearchAndDevelopmentExpense']].\\\n",
    "#              groupby(['fy','Type of Firm'])['ResearchAndDevelopmentExpense'].mean()).reset_index()"
   ]
  },
  {
   "cell_type": "code",
   "execution_count": 180,
   "metadata": {
    "collapsed": true,
    "scrolled": true
   },
   "outputs": [],
   "source": [
    "# # Sum of R & D of firms in bin 0-25% per year by type \n",
    "# r_and_d_quart1_asset_mean_comparison =\\\n",
    "# pd.DataFrame(df_13_16_quart1[df_13_16_quart1['ResearchAndDevelopmentExpense'].notnull()].\\\n",
    "#              loc[:,['cik','fy','Assets','Type of Firm','ResearchAndDevelopmentExpense']].\\\n",
    "#              groupby(['fy','Type of Firm'])['Assets'].mean()).reset_index()"
   ]
  },
  {
   "cell_type": "code",
   "execution_count": 181,
   "metadata": {
    "collapsed": true
   },
   "outputs": [],
   "source": [
    "# # Number of firms in bin 0-25% per year by type\n",
    "# r_and_d_quart1_count_comparison=\\\n",
    "# pd.DataFrame(df_13_16_quart1[df_13_16_quart1['ResearchAndDevelopmentExpense'].notnull()].\\\n",
    "#              loc[:,['cik','fy','Type of Firm','ResearchAndDevelopmentExpense']].\\\n",
    "#              groupby(['fy','Type of Firm'])['ResearchAndDevelopmentExpense'].count()).reset_index()"
   ]
  },
  {
   "cell_type": "markdown",
   "metadata": {},
   "source": [
    "### 25-50% percentile"
   ]
  },
  {
   "cell_type": "code",
   "execution_count": 182,
   "metadata": {
    "collapsed": true,
    "scrolled": true
   },
   "outputs": [],
   "source": [
    "# # Sum of R & D of firms in bin 25-50% per year by type \n",
    "# r_and_d_quart2_mean_comparison =\\\n",
    "# pd.DataFrame(df_13_16_quart2[df_13_16_quart2['ResearchAndDevelopmentExpense'].notnull()].\\\n",
    "#              loc[:,['cik','fy','Type of Firm','ResearchAndDevelopmentExpense']].\\\n",
    "#              groupby(['fy','Type of Firm'])['ResearchAndDevelopmentExpense'].mean()).reset_index()"
   ]
  },
  {
   "cell_type": "code",
   "execution_count": 183,
   "metadata": {
    "scrolled": true
   },
   "outputs": [],
   "source": [
    "# # Difference between total R&D of multinational & domestic firms in 25-50% per year\n",
    "# r_and_d_quart2_mean_diff_comparison = \\\n",
    "# r_and_d_quart2_mean_comparison.groupby('fy')['ResearchAndDevelopmentExpense'].\\\n",
    "# apply(lambda x: (x.iloc[1] - x.iloc[0])*100/ x.iloc[1])\n",
    "\n",
    "# r_and_d_quart2_mean_diff_comparison = pd.DataFrame(r_and_d_quart2_mean_diff_comparison).reset_index()"
   ]
  },
  {
   "cell_type": "code",
   "execution_count": 184,
   "metadata": {
    "collapsed": true
   },
   "outputs": [],
   "source": [
    "# # Sum of R & D of firms in bin 25-50% per year by type \n",
    "# r_and_d_quart2_asset_mean_comparison =\\\n",
    "# pd.DataFrame(df_13_16_quart2[df_13_16_quart2['ResearchAndDevelopmentExpense'].notnull()].\\\n",
    "#              loc[:,['cik','fy','Assets','Type of Firm','ResearchAndDevelopmentExpense']].\\\n",
    "#              groupby(['fy','Type of Firm'])['Assets'].mean()).reset_index()"
   ]
  },
  {
   "cell_type": "code",
   "execution_count": 185,
   "metadata": {
    "collapsed": true
   },
   "outputs": [],
   "source": [
    "# # Number of firms in bin 25-50% per year by type\n",
    "# r_and_d_quart2_count_comparison=\\\n",
    "# pd.DataFrame(df_13_16_quart2[df_13_16_quart2['ResearchAndDevelopmentExpense'].notnull()].\\\n",
    "#              loc[:,['cik','fy','Type of Firm','ResearchAndDevelopmentExpense']].\\\n",
    "#              groupby(['fy','Type of Firm'])['ResearchAndDevelopmentExpense'].count()).reset_index()"
   ]
  },
  {
   "cell_type": "markdown",
   "metadata": {},
   "source": [
    "### 50-75% percentile"
   ]
  },
  {
   "cell_type": "code",
   "execution_count": 186,
   "metadata": {
    "collapsed": true,
    "scrolled": true
   },
   "outputs": [],
   "source": [
    "# # Sum of R & D of firms in bin 50-75% per year by type \n",
    "# r_and_d_quart3_mean_comparison =\\\n",
    "# pd.DataFrame(df_13_16_quart3[df_13_16_quart3['ResearchAndDevelopmentExpense'].notnull()].\\\n",
    "#              loc[:,['cik','fy','Type of Firm','ResearchAndDevelopmentExpense']].\\\n",
    "#              groupby(['fy','Type of Firm'])['ResearchAndDevelopmentExpense'].mean()).reset_index()"
   ]
  },
  {
   "cell_type": "code",
   "execution_count": 187,
   "metadata": {
    "collapsed": true
   },
   "outputs": [],
   "source": [
    "# # Difference between total R&D of multinational & domestic firms in 50-75% per year\n",
    "# r_and_d_quart3_mean_diff_comparison = \\\n",
    "# r_and_d_quart3_mean_comparison.groupby('fy')['ResearchAndDevelopmentExpense'].\\\n",
    "# apply(lambda x: (x.iloc[1] - x.iloc[0])*100/ x.iloc[1])\n",
    "\n",
    "# r_and_d_quart3_mean_diff_comparison = pd.DataFrame(r_and_d_quart3_mean_diff_comparison).reset_index()"
   ]
  },
  {
   "cell_type": "code",
   "execution_count": 188,
   "metadata": {
    "collapsed": true
   },
   "outputs": [],
   "source": [
    "# # Sum of R & D of firms in bin 50-75% per year by type \n",
    "# r_and_d_quart3_asset_mean_comparison =\\\n",
    "# pd.DataFrame(df_13_16_quart3[df_13_16_quart3['ResearchAndDevelopmentExpense'].notnull()].\\\n",
    "#              loc[:,['cik','fy','Assets','Type of Firm','ResearchAndDevelopmentExpense']].\\\n",
    "#              groupby(['fy','Type of Firm'])['Assets'].mean()).reset_index()"
   ]
  },
  {
   "cell_type": "code",
   "execution_count": 189,
   "metadata": {
    "collapsed": true
   },
   "outputs": [],
   "source": [
    "# # Number of firms in bin 50-75% per year by type\n",
    "# r_and_d_quart3_count_comparison=\\\n",
    "# pd.DataFrame(df_13_16_quart3[df_13_16_quart3['ResearchAndDevelopmentExpense'].notnull()].\\\n",
    "#              loc[:,['cik','fy','Type of Firm','ResearchAndDevelopmentExpense']].\\\n",
    "#              groupby(['fy','Type of Firm'])['ResearchAndDevelopmentExpense'].count()).reset_index()"
   ]
  },
  {
   "cell_type": "markdown",
   "metadata": {},
   "source": [
    "### 75-100% percentile"
   ]
  },
  {
   "cell_type": "code",
   "execution_count": 190,
   "metadata": {
    "collapsed": true,
    "scrolled": true
   },
   "outputs": [],
   "source": [
    "# # Sum of R & D of firms in bin 75-100% per year by type \n",
    "# r_and_d_quart4_mean_comparison =\\\n",
    "# pd.DataFrame(df_13_16_quart4[df_13_16_quart4['ResearchAndDevelopmentExpense'].notnull()].\\\n",
    "#              loc[:,['cik','fy','Type of Firm','ResearchAndDevelopmentExpense']].\\\n",
    "#              groupby(['fy','Type of Firm'])['ResearchAndDevelopmentExpense'].mean()).reset_index()"
   ]
  },
  {
   "cell_type": "code",
   "execution_count": 191,
   "metadata": {
    "collapsed": true
   },
   "outputs": [],
   "source": [
    "# # Difference between total R&D of multinational & domestic firms in 75-100% per year\n",
    "# r_and_d_quart4_mean_diff_comparison = \\\n",
    "# r_and_d_quart4_mean_comparison.groupby('fy')['ResearchAndDevelopmentExpense'].\\\n",
    "# apply(lambda x: (x.iloc[1] - x.iloc[0])*100/ x.iloc[1])\n",
    "\n",
    "# r_and_d_quart4_mean_diff_comparison = pd.DataFrame(r_and_d_quart4_mean_diff_comparison).reset_index()"
   ]
  },
  {
   "cell_type": "code",
   "execution_count": 192,
   "metadata": {
    "collapsed": true
   },
   "outputs": [],
   "source": [
    "# # Sum of R & D of firms in bin 75-100% per year by type \n",
    "# r_and_d_quart4_asset_mean_comparison =\\\n",
    "# pd.DataFrame(df_13_16_quart4[df_13_16_quart4['ResearchAndDevelopmentExpense'].notnull()].\\\n",
    "#              loc[:,['cik','fy','Assets','Type of Firm','ResearchAndDevelopmentExpense']].\\\n",
    "#              groupby(['fy','Type of Firm'])['Assets'].mean()).reset_index()"
   ]
  },
  {
   "cell_type": "code",
   "execution_count": 193,
   "metadata": {
    "collapsed": true
   },
   "outputs": [],
   "source": [
    "# # Number of firms in bin 75-100% per year by type\n",
    "# r_and_d_quart4_count_comparison=\\\n",
    "# pd.DataFrame(df_13_16_quart4[df_13_16_quart4['ResearchAndDevelopmentExpense'].notnull()].\\\n",
    "#              loc[:,['cik','fy','Type of Firm','ResearchAndDevelopmentExpense']].\\\n",
    "#              groupby(['fy','Type of Firm'])['ResearchAndDevelopmentExpense'].count()).reset_index()"
   ]
  },
  {
   "cell_type": "markdown",
   "metadata": {},
   "source": [
    "### Visualizations"
   ]
  },
  {
   "cell_type": "code",
   "execution_count": 194,
   "metadata": {
    "scrolled": true
   },
   "outputs": [],
   "source": [
    "# # Mean of R&D Expense for MNC and domestic firms throughout years\n",
    "\n",
    "# f, ((ax1, ax2), (ax3, ax4))= plt.subplots(2,2, figsize=(12,10))\n",
    "\n",
    "# sns.barplot(x='fy',y='ResearchAndDevelopmentExpense',hue='Type of Firm',data= r_and_d_quart1_mean_comparison,ax=ax1)\n",
    "# ax1.set_yticklabels([0,100,200,300,400,500,600,700])\n",
    "# ax1.set_ylabel('Mean R&D Expense (by thousands)')\n",
    "# ax1.set_title('Mean R&D Expense of Firms (0-25%)')\n",
    "\n",
    "# sns.barplot(x='fy',y='ResearchAndDevelopmentExpense',hue='Type of Firm',data= r_and_d_quart2_mean_comparison,ax=ax2)\n",
    "# ax2.set_yticklabels([0,1,2,3,4,5,6])\n",
    "# ax2.set_ylabel('Mean R&D Expense (by millions)')\n",
    "# ax2.set_title('Mean R&D Expense of Firms (25-50%)')\n",
    "\n",
    "# sns.barplot(x='fy',y='ResearchAndDevelopmentExpense',hue='Type of Firm',data= r_and_d_quart3_mean_comparison,ax=ax3)\n",
    "# ax3.set_yticklabels([0,1,2,3,4,5])\n",
    "# ax3.set_ylabel('Mean R&D Expense (by millions)')\n",
    "# ax3.set_title('Mean R&D Expense of Firms (50-75%)')\n",
    "\n",
    "# sns.barplot(x='fy',y='ResearchAndDevelopmentExpense',hue='Type of Firm',data= r_and_d_quart4_mean_comparison,ax=ax4)\n",
    "# ax4.set_yticklabels([0,10,20,30,40,50,60,70])\n",
    "# ax4.set_ylabel('Mean R&D Expense (by millions)')\n",
    "# ax4.set_title('Mean R&D Expense of Firms (75-100%)')\n",
    "\n",
    "# plt.tight_layout()"
   ]
  },
  {
   "cell_type": "code",
   "execution_count": 195,
   "metadata": {
    "scrolled": false
   },
   "outputs": [],
   "source": [
    "# # Percentage Difference in mean R&D Expense for MNC and domestic firms throughout years (MNC - domestic / MNC)\n",
    "\n",
    "# f, ((ax1, ax2), (ax3, ax4))= plt.subplots(2,2, figsize=(16,8))\n",
    "\n",
    "# # sns.pointplot(x='fy',y='ResearchAndDevelopmentExpense',data= r_and_d_quart1_mean_diff_comparison,ax=ax1)\n",
    "# # ax1.set_ylabel('Mean R&D Expense')\n",
    "# # ax1.set_title('Mean R&D Expense of Firms (0-25%)')\n",
    "\n",
    "# sns.pointplot(x='fy',y='ResearchAndDevelopmentExpense',data= r_and_d_quart2_mean_diff_comparison,ax=ax2)\n",
    "# ax2.set_ylabel('Difference of mean R&D expense')\n",
    "# ax2.set_title('Difference of mean R&D expense (MNC - Domestic Firms / MNC) (25-50%)')\n",
    "\n",
    "# sns.pointplot(x='fy',y='ResearchAndDevelopmentExpense',data= r_and_d_quart3_mean_diff_comparison,ax=ax3)\n",
    "# ax3.set_ylabel('Difference of mean R&D expense')\n",
    "# ax3.set_title('Difference of mean R&D expense (MNC - Domestic Firms / MNC) (50-75%)')\n",
    "\n",
    "# sns.pointplot(x='fy',y='ResearchAndDevelopmentExpense',data= r_and_d_quart4_mean_diff_comparison,ax=ax4)\n",
    "# ax4.set_ylabel('Difference of mean R&D expense')\n",
    "# ax4.set_title('Difference of mean R&D expense (MNC - Domestic Firms / MNC) (75-100%)')\n",
    "\n",
    "# plt.tight_layout()"
   ]
  },
  {
   "cell_type": "code",
   "execution_count": 196,
   "metadata": {
    "scrolled": true
   },
   "outputs": [],
   "source": [
    "# f, ((ax1, ax2), (ax3, ax4))= plt.subplots(2,2, figsize=(10,10))\n",
    "\n",
    "# sns.barplot(x='fy',y='ResearchAndDevelopmentExpense',hue='Type of Firm',data= r_and_d_quart1_count_comparison, ax=ax1)\n",
    "# ax1.set_ylabel('Number of firms')\n",
    "# ax1.set_title('Number of Firms (0-25%)')\n",
    "\n",
    "# sns.barplot(x='fy',y='ResearchAndDevelopmentExpense',hue='Type of Firm',data= r_and_d_quart2_count_comparison, ax=ax2)\n",
    "# ax2.set_ylabel('Number of firms')\n",
    "# ax2.set_title('Number of Firms (25-50%)')\n",
    "\n",
    "# sns.barplot(x='fy',y='ResearchAndDevelopmentExpense',hue='Type of Firm',data= r_and_d_quart3_count_comparison, ax=ax3)\n",
    "# ax3.set_ylabel('Number of firms')\n",
    "# ax3.set_title('Number of Firms (50-75%)')\n",
    "\n",
    "# sns.barplot(x='fy',y='ResearchAndDevelopmentExpense',hue='Type of Firm',data= r_and_d_quart4_count_comparison, ax=ax4)\n",
    "# ax4.set_ylabel('Number of firms')\n",
    "# ax4.set_title('Number of Firms (75-100%)')"
   ]
  },
  {
   "cell_type": "code",
   "execution_count": 197,
   "metadata": {
    "scrolled": true
   },
   "outputs": [],
   "source": [
    "# f, ((ax1, ax2), (ax3, ax4))= plt.subplots(2,2, figsize=(10,10))\n",
    "\n",
    "# sns.barplot(x='fy',y='Assets',hue='Type of Firm',data= r_and_d_quart1_asset_mean_comparison,ax=ax1)\n",
    "# ax1.set_ylabel('Mean Asset')\n",
    "# ax1.set_title('Mean Asset of Firms (0-25%)')\n",
    "\n",
    "# sns.barplot(x='fy',y='Assets',hue='Type of Firm',data= r_and_d_quart2_asset_mean_comparison,ax=ax2)\n",
    "# ax2.set_ylabel('Mean Asset')\n",
    "# ax2.set_title('Mean Asset of Firms (25-50%)')\n",
    "\n",
    "# sns.barplot(x='fy',y='Assets',hue='Type of Firm',data= r_and_d_quart3_asset_mean_comparison,ax=ax3)\n",
    "# ax3.set_ylabel('Mean Asset')\n",
    "# ax3.set_title('Mean Asset of Firms (50-75%)')\n",
    "\n",
    "# sns.barplot(x='fy',y='Assets',hue='Type of Firm',data= r_and_d_quart4_asset_mean_comparison,ax=ax4)\n",
    "# ax4.set_ylabel('Mean Asset')\n",
    "# ax4.set_title('Mean Asset of Firms (75-100%)')\n",
    "\n",
    "# plt.tight_layout()"
   ]
  },
  {
   "cell_type": "markdown",
   "metadata": {},
   "source": [
    "## Comparison by Industry"
   ]
  },
  {
   "cell_type": "markdown",
   "metadata": {},
   "source": [
    "- Industry1: 'Mining and Construction'\n",
    "- Industry2: 'Manufacturing'\n",
    "- Industry3: 'Transportation, Communication, Electric, Gas'\n",
    "- Industry4: 'Wholesale, Retail'\n",
    "- Industry5: 'Financial, Insurance, Real Estate'\n",
    "- Industry6: 'Services'\n",
    "- Industry7: 'Public Administration'"
   ]
  },
  {
   "cell_type": "code",
   "execution_count": 198,
   "metadata": {
    "collapsed": true
   },
   "outputs": [],
   "source": [
    "# Dividing data into 7 different industries\n",
    "\n",
    "r_and_d_industry1 = df_13_16.copy()[df_13_16.copy().industry=='Mining and Construction']\n",
    "r_and_d_industry2 = df_13_16.copy()[df_13_16.copy().industry=='Manufacturing']\n",
    "r_and_d_industry3 = df_13_16.copy()[df_13_16.copy().industry=='Transportation, Communication, Electric, Gas']\n",
    "r_and_d_industry4 = df_13_16.copy()[df_13_16.copy().industry=='Wholesale, Retail']\n",
    "r_and_d_industry5 = df_13_16.copy()[df_13_16.copy().industry=='Financial, Insurance, Real Estate']\n",
    "r_and_d_industry6 = df_13_16.copy()[df_13_16.copy().industry=='Services']\n",
    "r_and_d_industry7 = df_13_16.copy()[df_13_16.copy().industry=='Public Administration']"
   ]
  },
  {
   "cell_type": "code",
   "execution_count": 199,
   "metadata": {
    "collapsed": true
   },
   "outputs": [],
   "source": [
    "# Storing MNCs and Domestic Firms in Manufacturing in variables\n",
    "\n",
    "manuf_mnc = r_and_d_industry2[r_and_d_industry2['Type of Firm']=='Foreign']\n",
    "manuf_domest = r_and_d_industry2[r_and_d_industry2['Type of Firm']=='Domestic']"
   ]
  },
  {
   "cell_type": "code",
   "execution_count": 200,
   "metadata": {
    "collapsed": true
   },
   "outputs": [],
   "source": [
    "# # Saving MNCs and Domestic Firms in Manufacturing into csv files for future use\n",
    "# manuf_mnc.to_csv('manuf_mnc.csv')\n",
    "# manuf_domest.to_csv('manuf_domest.csv')"
   ]
  },
  {
   "cell_type": "code",
   "execution_count": 201,
   "metadata": {},
   "outputs": [],
   "source": [
    "# # Number of firms in bin 0-25% for different industries\n",
    "# r_and_d_quart1_industry_count_comparison=\\\n",
    "# pd.DataFrame(df_13_16_quart1[df_13_16_quart1['ResearchAndDevelopmentExpense'].notnull()].\\\n",
    "#              loc[:,['cik','industry','Type of Firm','ResearchAndDevelopmentExpense']].\\\n",
    "#              groupby(['industry','Type of Firm'])['ResearchAndDevelopmentExpense'].count()).reset_index()"
   ]
  },
  {
   "cell_type": "code",
   "execution_count": 202,
   "metadata": {
    "collapsed": true
   },
   "outputs": [],
   "source": [
    "# # Number of firms in bin 25-50% for different industries\n",
    "# r_and_d_quart2_industry_count_comparison=\\\n",
    "# pd.DataFrame(df_13_16_quart2[df_13_16_quart2['ResearchAndDevelopmentExpense'].notnull()].\\\n",
    "#              loc[:,['cik','industry','Type of Firm','ResearchAndDevelopmentExpense']].\\\n",
    "#              groupby(['industry','Type of Firm'])['ResearchAndDevelopmentExpense'].count()).reset_index()"
   ]
  },
  {
   "cell_type": "code",
   "execution_count": 203,
   "metadata": {
    "collapsed": true
   },
   "outputs": [],
   "source": [
    "# # Number of firms in bin 50-75% for different industries\n",
    "# r_and_d_quart3_industry_count_comparison=\\\n",
    "# pd.DataFrame(df_13_16_quart3[df_13_16_quart3['ResearchAndDevelopmentExpense'].notnull()].\\\n",
    "#              loc[:,['cik','industry','Type of Firm','ResearchAndDevelopmentExpense']].\\\n",
    "#              groupby(['industry','Type of Firm'])['ResearchAndDevelopmentExpense'].count()).reset_index()"
   ]
  },
  {
   "cell_type": "code",
   "execution_count": 204,
   "metadata": {
    "collapsed": true
   },
   "outputs": [],
   "source": [
    "# # Number of firms in bin 75-100% for different industries\n",
    "# r_and_d_quart4_industry_count_comparison=\\\n",
    "# pd.DataFrame(df_13_16_quart4[df_13_16_quart4['ResearchAndDevelopmentExpense'].notnull()].\\\n",
    "#              loc[:,['cik','industry','Type of Firm','ResearchAndDevelopmentExpense']].\\\n",
    "#              groupby(['industry','Type of Firm'])['ResearchAndDevelopmentExpense'].count()).reset_index()"
   ]
  },
  {
   "cell_type": "markdown",
   "metadata": {},
   "source": [
    "### Industry 1: Mining and Construction"
   ]
  },
  {
   "cell_type": "code",
   "execution_count": 205,
   "metadata": {
    "collapsed": true
   },
   "outputs": [],
   "source": [
    "# Count of firms in industry 1\n",
    "r_and_d_industry1_count =\\\n",
    "pd.DataFrame(r_and_d_industry1[r_and_d_industry1['ResearchAndDevelopmentExpense'].notnull()].\\\n",
    "             loc[:,['cik','fy','Type of Firm','ResearchAndDevelopmentExpense']].\\\n",
    "             groupby(['fy','Type of Firm'])['ResearchAndDevelopmentExpense'].count()).reset_index()"
   ]
  },
  {
   "cell_type": "code",
   "execution_count": 206,
   "metadata": {
    "collapsed": true,
    "scrolled": true
   },
   "outputs": [],
   "source": [
    "# Mean of (R & D / Assets) of firms in industry1 per year\n",
    "r_and_d_industry1_mean_scaled =\\\n",
    "pd.DataFrame(r_and_d_industry1[r_and_d_industry1['ResearchAndDevelopmentExpense_scaled'].notnull()].\\\n",
    "             loc[:,['cik','fy','Type of Firm','ResearchAndDevelopmentExpense_scaled']].\\\n",
    "             groupby(['fy','Type of Firm'])['ResearchAndDevelopmentExpense_scaled'].mean()).reset_index()"
   ]
  },
  {
   "cell_type": "code",
   "execution_count": 207,
   "metadata": {
    "collapsed": true,
    "scrolled": true
   },
   "outputs": [],
   "source": [
    "# Difference of scaled mean between domestic firms and MNCs (Mining and Construction)\n",
    "r_and_d_industry1_mean_diff = \\\n",
    "r_and_d_industry1_mean_scaled.groupby('fy')['ResearchAndDevelopmentExpense_scaled'].\\\n",
    "apply(lambda x: x.iloc[0] - x.iloc[1])\n",
    "\n",
    "r_and_d_industry1_mean_diff = pd.DataFrame(r_and_d_industry1_mean_diff).reset_index()"
   ]
  },
  {
   "cell_type": "markdown",
   "metadata": {},
   "source": [
    "### Industry 2: Manufacturing"
   ]
  },
  {
   "cell_type": "code",
   "execution_count": 208,
   "metadata": {
    "collapsed": true
   },
   "outputs": [],
   "source": [
    "# Mean of (R & D / Assets) of firms in industry 2 per year\n",
    "r_and_d_industry2_mean_scaled =\\\n",
    "pd.DataFrame(r_and_d_industry2[r_and_d_industry2['ResearchAndDevelopmentExpense_scaled'].notnull()].\\\n",
    "             loc[:,['cik','fy','Type of Firm','ResearchAndDevelopmentExpense_scaled']].\\\n",
    "             groupby(['fy','Type of Firm'])['ResearchAndDevelopmentExpense_scaled'].mean()).reset_index()"
   ]
  },
  {
   "cell_type": "code",
   "execution_count": 209,
   "metadata": {
    "collapsed": true
   },
   "outputs": [],
   "source": [
    "# Count of firms in industry 2\n",
    "r_and_d_industry2_count =\\\n",
    "pd.DataFrame(r_and_d_industry2[r_and_d_industry2['ResearchAndDevelopmentExpense'].notnull()].\\\n",
    "             loc[:,['cik','fy','Type of Firm','ResearchAndDevelopmentExpense']].\\\n",
    "             groupby(['fy','Type of Firm'])['ResearchAndDevelopmentExpense'].count()).reset_index()"
   ]
  },
  {
   "cell_type": "code",
   "execution_count": 210,
   "metadata": {
    "collapsed": true
   },
   "outputs": [],
   "source": [
    "# Difference of scaled mean between domestic firms and MNCs (Manufacturing)\n",
    "r_and_d_industry2_mean_diff = \\\n",
    "r_and_d_industry2_mean_scaled.groupby('fy')['ResearchAndDevelopmentExpense_scaled'].\\\n",
    "apply(lambda x: x.iloc[1] - x.iloc[0])\n",
    "\n",
    "r_and_d_industry2_mean_diff = pd.DataFrame(r_and_d_industry2_mean_diff).reset_index()"
   ]
  },
  {
   "cell_type": "markdown",
   "metadata": {},
   "source": [
    "### Industry 3: Transportation, Communication, Electric, Gas"
   ]
  },
  {
   "cell_type": "code",
   "execution_count": 211,
   "metadata": {
    "collapsed": true
   },
   "outputs": [],
   "source": [
    "# Mean of (R & D / Assets) of firms in industry3 per year\n",
    "r_and_d_industry3_mean_scaled =\\\n",
    "pd.DataFrame(r_and_d_industry3[r_and_d_industry3['ResearchAndDevelopmentExpense_scaled'].notnull()].\\\n",
    "             loc[:,['cik','fy','Type of Firm','ResearchAndDevelopmentExpense_scaled']].\\\n",
    "             groupby(['fy','Type of Firm'])['ResearchAndDevelopmentExpense_scaled'].mean()).reset_index()"
   ]
  },
  {
   "cell_type": "code",
   "execution_count": 212,
   "metadata": {
    "collapsed": true
   },
   "outputs": [],
   "source": [
    "# Count of firms in industry 3\n",
    "r_and_d_industry3_count =\\\n",
    "pd.DataFrame(r_and_d_industry3[r_and_d_industry3['ResearchAndDevelopmentExpense'].notnull()].\\\n",
    "             loc[:,['cik','fy','Type of Firm','ResearchAndDevelopmentExpense']].\\\n",
    "             groupby(['fy','Type of Firm'])['ResearchAndDevelopmentExpense'].count()).reset_index()"
   ]
  },
  {
   "cell_type": "markdown",
   "metadata": {},
   "source": [
    "### Industry 4: Wholesale, Retail"
   ]
  },
  {
   "cell_type": "code",
   "execution_count": 213,
   "metadata": {
    "collapsed": true
   },
   "outputs": [],
   "source": [
    "# Mean of (R & D / Assets) of firms in industry4 per year\n",
    "r_and_d_industry4_mean_scaled =\\\n",
    "pd.DataFrame(r_and_d_industry4[r_and_d_industry4['ResearchAndDevelopmentExpense_scaled'].notnull()].\\\n",
    "             loc[:,['cik','fy','Type of Firm','ResearchAndDevelopmentExpense_scaled']].\\\n",
    "             groupby(['fy','Type of Firm'])['ResearchAndDevelopmentExpense_scaled'].mean()).reset_index()"
   ]
  },
  {
   "cell_type": "code",
   "execution_count": 214,
   "metadata": {
    "collapsed": true
   },
   "outputs": [],
   "source": [
    "# Count of firms in industry 4\n",
    "r_and_d_industry4_count =\\\n",
    "pd.DataFrame(r_and_d_industry4[r_and_d_industry4['ResearchAndDevelopmentExpense'].notnull()].\\\n",
    "             loc[:,['cik','fy','Type of Firm','ResearchAndDevelopmentExpense']].\\\n",
    "             groupby(['fy','Type of Firm'])['ResearchAndDevelopmentExpense'].count()).reset_index()"
   ]
  },
  {
   "cell_type": "markdown",
   "metadata": {},
   "source": [
    "### Industry 4: Wholesale, Retail"
   ]
  },
  {
   "cell_type": "markdown",
   "metadata": {},
   "source": [
    "### Industry 5: Financial, Insurance, Real Estate"
   ]
  },
  {
   "cell_type": "code",
   "execution_count": 215,
   "metadata": {
    "collapsed": true
   },
   "outputs": [],
   "source": [
    "# Mean of (R & D / Assets) of firms in industry 5 per year\n",
    "r_and_d_industry5_mean_scaled =\\\n",
    "pd.DataFrame(r_and_d_industry5[r_and_d_industry5['ResearchAndDevelopmentExpense_scaled'].notnull()].\\\n",
    "             loc[:,['cik','fy','Type of Firm','ResearchAndDevelopmentExpense_scaled']].\\\n",
    "             groupby(['fy','Type of Firm'])['ResearchAndDevelopmentExpense_scaled'].mean()).reset_index()"
   ]
  },
  {
   "cell_type": "code",
   "execution_count": 216,
   "metadata": {
    "collapsed": true
   },
   "outputs": [],
   "source": [
    "# Count of firms in industry 5\n",
    "r_and_d_industry5_count =\\\n",
    "pd.DataFrame(r_and_d_industry5[r_and_d_industry5['ResearchAndDevelopmentExpense'].notnull()].\\\n",
    "             loc[:,['cik','fy','Type of Firm','ResearchAndDevelopmentExpense']].\\\n",
    "             groupby(['fy','Type of Firm'])['ResearchAndDevelopmentExpense'].count()).reset_index()"
   ]
  },
  {
   "cell_type": "markdown",
   "metadata": {},
   "source": [
    "### Industry 6: Services"
   ]
  },
  {
   "cell_type": "code",
   "execution_count": 217,
   "metadata": {
    "collapsed": true
   },
   "outputs": [],
   "source": [
    "# Mean of (R & D / Assets) of firms in industry 5 per year\n",
    "r_and_d_industry6_mean_scaled =\\\n",
    "pd.DataFrame(r_and_d_industry6[r_and_d_industry6['ResearchAndDevelopmentExpense_scaled'].notnull()].\\\n",
    "             loc[:,['cik','fy','Type of Firm','ResearchAndDevelopmentExpense_scaled']].\\\n",
    "             groupby(['fy','Type of Firm'])['ResearchAndDevelopmentExpense_scaled'].mean()).reset_index()"
   ]
  },
  {
   "cell_type": "code",
   "execution_count": 218,
   "metadata": {
    "collapsed": true
   },
   "outputs": [],
   "source": [
    "# Count of firms in industry 6\n",
    "r_and_d_industry6_count =\\\n",
    "pd.DataFrame(r_and_d_industry6[r_and_d_industry6['ResearchAndDevelopmentExpense'].notnull()].\\\n",
    "             loc[:,['cik','fy','Type of Firm','ResearchAndDevelopmentExpense']].\\\n",
    "             groupby(['fy','Type of Firm'])['ResearchAndDevelopmentExpense'].count()).reset_index()"
   ]
  },
  {
   "cell_type": "markdown",
   "metadata": {},
   "source": [
    "### Industry 7: Public Administration"
   ]
  },
  {
   "cell_type": "code",
   "execution_count": 219,
   "metadata": {
    "collapsed": true
   },
   "outputs": [],
   "source": [
    "# Mean of (R & D / Assets) of firms in industry 7 per year\n",
    "r_and_d_industry7_mean_scaled =\\\n",
    "pd.DataFrame(r_and_d_industry7[r_and_d_industry7['ResearchAndDevelopmentExpense_scaled'].notnull()].\\\n",
    "             loc[:,['cik','fy','Type of Firm','ResearchAndDevelopmentExpense_scaled']].\\\n",
    "             groupby(['fy','Type of Firm'])['ResearchAndDevelopmentExpense_scaled'].mean()).reset_index()"
   ]
  },
  {
   "cell_type": "code",
   "execution_count": 220,
   "metadata": {},
   "outputs": [
    {
     "data": {
      "text/html": [
       "<div>\n",
       "<style>\n",
       "    .dataframe thead tr:only-child th {\n",
       "        text-align: right;\n",
       "    }\n",
       "\n",
       "    .dataframe thead th {\n",
       "        text-align: left;\n",
       "    }\n",
       "\n",
       "    .dataframe tbody tr th {\n",
       "        vertical-align: top;\n",
       "    }\n",
       "</style>\n",
       "<table border=\"1\" class=\"dataframe\">\n",
       "  <thead>\n",
       "    <tr style=\"text-align: right;\">\n",
       "      <th></th>\n",
       "      <th>fy</th>\n",
       "      <th>Type of Firm</th>\n",
       "      <th>ResearchAndDevelopmentExpense_scaled</th>\n",
       "    </tr>\n",
       "  </thead>\n",
       "  <tbody>\n",
       "  </tbody>\n",
       "</table>\n",
       "</div>"
      ],
      "text/plain": [
       "Empty DataFrame\n",
       "Columns: [fy, Type of Firm, ResearchAndDevelopmentExpense_scaled]\n",
       "Index: []"
      ]
     },
     "execution_count": 220,
     "metadata": {},
     "output_type": "execute_result"
    }
   ],
   "source": [
    "r_and_d_industry7_mean_scaled"
   ]
  },
  {
   "cell_type": "markdown",
   "metadata": {},
   "source": [
    "### Visualizations"
   ]
  },
  {
   "cell_type": "code",
   "execution_count": 221,
   "metadata": {
    "collapsed": true,
    "scrolled": true
   },
   "outputs": [],
   "source": [
    "# # Count of firms in quartile bins for different industries\n",
    "# f, ((ax1, ax2), (ax3, ax4))= plt.subplots(2,2, figsize=(20,10))\n",
    "\n",
    "# sns.barplot(y='industry',x='ResearchAndDevelopmentExpense',hue='Type of Firm',data= r_and_d_quart1_industry_count_comparison, ax=ax1)\n",
    "# ax1.set_ylabel('Number of firms')\n",
    "# ax1.set_title('Number of Firms (0-25%)')\n",
    "\n",
    "# sns.barplot(y='industry',x='ResearchAndDevelopmentExpense',hue='Type of Firm',data= r_and_d_quart2_industry_count_comparison, ax=ax2)\n",
    "# ax2.set_ylabel('Number of firms')\n",
    "# ax2.set_title('Number of Firms (25-50%)')\n",
    "\n",
    "# sns.barplot(y='industry',x='ResearchAndDevelopmentExpense',hue='Type of Firm',data= r_and_d_quart3_industry_count_comparison, ax=ax3)\n",
    "# ax3.set_ylabel('Number of firms')\n",
    "# ax3.set_title('Number of Firms (50-75%)')\n",
    "\n",
    "# sns.barplot(y='industry',x='ResearchAndDevelopmentExpense',hue='Type of Firm',data= r_and_d_quart4_industry_count_comparison, ax=ax4)\n",
    "# ax4.set_ylabel('Number of firms')\n",
    "# ax4.set_title('Number of Firms (75-100%)')\n",
    "\n",
    "# plt.tight_layout()"
   ]
  },
  {
   "cell_type": "code",
   "execution_count": 222,
   "metadata": {
    "scrolled": true
   },
   "outputs": [
    {
     "data": {
      "image/png": "[encoded data removed]",
      "text/plain": [
       "<matplotlib.figure.Figure at 0x1f66d8f4b00>"
      ]
     },
     "metadata": {},
     "output_type": "display_data"
    }
   ],
   "source": [
    "# Mean of (R&D / Assets) for MNC and domestic firms throughout years for different industries\n",
    "\n",
    "f, ((ax1, ax2), (ax3, ax4),(ax5,ax6))= plt.subplots(3,2, figsize=(10,10))\n",
    "\n",
    "sns.barplot(x='fy',y='ResearchAndDevelopmentExpense',hue='Type of Firm',data= r_and_d_industry1_count,ax=ax1)\n",
    "# ax1.set_yticklabels([0,100,200,300,400,500,600,700])\n",
    "ax1.set_ylabel('Count of firms')\n",
    "ax1.set_title('Count of firms (Mining and Construction)')\n",
    "\n",
    "sns.barplot(x='fy',y='ResearchAndDevelopmentExpense',hue='Type of Firm',data= r_and_d_industry2_count,ax=ax2)\n",
    "# ax2.set_yticklabels([0,1,2,3,4,5,6])\n",
    "ax2.set_ylabel('Count of firms')\n",
    "ax2.set_title('Count of firms (Manufacturing)')\n",
    "\n",
    "sns.barplot(x='fy',y='ResearchAndDevelopmentExpense',hue='Type of Firm',data= r_and_d_industry3_count,ax=ax3)\n",
    "# ax3.set_yticklabels([0,1,2,3,4,5])\n",
    "ax3.set_ylabel('Count of firms ')\n",
    "ax3.set_title('Count of firms (Transportation, Communication, Electric, Gas)')\n",
    "\n",
    "sns.barplot(x='fy',y='ResearchAndDevelopmentExpense',hue='Type of Firm',data= r_and_d_industry4_count,ax=ax4)\n",
    "# ax4.set_yticklabels([0,10,20,30,40,50,60,70])\n",
    "ax4.set_ylabel('Count of firms ')\n",
    "ax4.set_title('Count of firms (Wholesale, Retail)')\n",
    "\n",
    "sns.barplot(x='fy',y='ResearchAndDevelopmentExpense',hue='Type of Firm',data= r_and_d_industry5_count,ax=ax5)\n",
    "# ax4.set_yticklabels([0,10,20,30,40,50,60,70])\n",
    "ax5.set_ylabel('Count of firms')\n",
    "ax5.set_title('Count of firms (Financial, Insurance, Real Estate)')\n",
    "\n",
    "sns.barplot(x='fy',y='ResearchAndDevelopmentExpense',hue='Type of Firm',data= r_and_d_industry6_count,ax=ax6)\n",
    "# ax4.set_yticklabels([0,10,20,30,40,50,60,70])\n",
    "ax6.set_ylabel('Count of firms')\n",
    "ax6.set_title('Count of firms (Services)')\n",
    "\n",
    "# sns.barplot(x='fy',y='ResearchAndDevelopmentExpense_scaled',hue='Type of Firm',data= r_and_d_industry7_mean_scaled,ax=ax7)\n",
    "# # ax4.set_yticklabels([0,10,20,30,40,50,60,70])\n",
    "# ax7.set_ylabel('Mean R&D Expense scaled with Assets (by millions)')\n",
    "# ax7.set_title('Mean R&D Expense scaled with Assets (Public Administration)')\n",
    "\n",
    "plt.tight_layout()"
   ]
  },
  {
   "cell_type": "code",
   "execution_count": 223,
   "metadata": {
    "scrolled": true
   },
   "outputs": [
    {
     "data": {
      "image/png": "[encoded data removed]",
      "text/plain": [
       "<matplotlib.figure.Figure at 0x1f66d8f4898>"
      ]
     },
     "metadata": {},
     "output_type": "display_data"
    }
   ],
   "source": [
    "# Mean of (R&D / Assets) for MNC and domestic firms throughout years for different industries\n",
    "\n",
    "f, ((ax1, ax2), (ax3, ax4),(ax5,ax6))= plt.subplots(3,2, figsize=(15,15))\n",
    "\n",
    "sns.barplot(x='fy',y='ResearchAndDevelopmentExpense_scaled',hue='Type of Firm',data= r_and_d_industry1_mean_scaled,ax=ax1)\n",
    "# ax1.set_yticklabels([0,100,200,300,400,500,600,700])\n",
    "ax1.set_ylabel('Mean R&D Expense scaled with Assets')\n",
    "ax1.set_title('Mean R&D Expense scaled with Assets (Mining and Construction)')\n",
    "\n",
    "sns.barplot(x='fy',y='ResearchAndDevelopmentExpense_scaled',hue='Type of Firm',data= r_and_d_industry2_mean_scaled,ax=ax2)\n",
    "# ax2.set_yticklabels([0,1,2,3,4,5,6])\n",
    "ax2.set_ylabel('Mean R&D Expense scaled with Assets')\n",
    "ax2.set_title('Mean R&D Expense scaled with Assets (Manufacturing)')\n",
    "\n",
    "sns.barplot(x='fy',y='ResearchAndDevelopmentExpense_scaled',hue='Type of Firm',data= r_and_d_industry3_mean_scaled,ax=ax3)\n",
    "# ax3.set_yticklabels([0,1,2,3,4,5])\n",
    "ax3.set_ylabel('Mean R&D Expense scaled with Assets')\n",
    "ax3.set_title('Mean R&D Expense scaled with Assets (Transportation, Communication, Electric, Gas)')\n",
    "\n",
    "sns.barplot(x='fy',y='ResearchAndDevelopmentExpense_scaled',hue='Type of Firm',data= r_and_d_industry4_mean_scaled,ax=ax4)\n",
    "# ax4.set_yticklabels([0,10,20,30,40,50,60,70])\n",
    "ax4.set_ylabel('Mean R&D Expense scaled with Assets')\n",
    "ax4.set_title('Mean R&D Expense scaled with Assets (Wholesale, Retail)')\n",
    "\n",
    "sns.barplot(x='fy',y='ResearchAndDevelopmentExpense_scaled',hue='Type of Firm',data= r_and_d_industry5_mean_scaled,ax=ax5)\n",
    "# ax4.set_yticklabels([0,10,20,30,40,50,60,70])\n",
    "ax5.set_ylabel('Mean R&D Expense scaled with Assets')\n",
    "ax5.set_title('Mean R&D Expense scaled with Assets (Financial, Insurance, Real Estate)')\n",
    "\n",
    "sns.barplot(x='fy',y='ResearchAndDevelopmentExpense_scaled',hue='Type of Firm',data= r_and_d_industry6_mean_scaled,ax=ax6)\n",
    "# ax4.set_yticklabels([0,10,20,30,40,50,60,70])\n",
    "ax6.set_ylabel('Mean R&D Expense scaled with Assets')\n",
    "ax6.set_title('Mean R&D Expense scaled with Assets (Services)')\n",
    "\n",
    "# sns.barplot(x='fy',y='ResearchAndDevelopmentExpense_scaled',hue='Type of Firm',data= r_and_d_industry7_mean_scaled,ax=ax7)\n",
    "# # ax4.set_yticklabels([0,10,20,30,40,50,60,70])\n",
    "# ax7.set_ylabel('Mean R&D Expense scaled with Assets (by millions)')\n",
    "# ax7.set_title('Mean R&D Expense scaled with Assets (Public Administration)')\n",
    "\n",
    "plt.tight_layout()"
   ]
  },
  {
   "cell_type": "markdown",
   "metadata": {},
   "source": [
    "Industry 2 (Manufacturing) is the only industry that we have some data points to analyze with (246 observations), so we will be focusing on the manufacturing industry and will also plot the undistributed foreign earnings normalized by Assets below to see if the trend supports our hypothesis"
   ]
  },
  {
   "cell_type": "code",
   "execution_count": 224,
   "metadata": {
    "scrolled": false
   },
   "outputs": [
    {
     "data": {
      "text/plain": [
       "Text(0,0.5,'Mean R&D Expense normalized')"
      ]
     },
     "execution_count": 224,
     "metadata": {},
     "output_type": "execute_result"
    },
    {
     "data": {
      "image/png": "[encoded data removed]",
      "text/plain": [
       "<matplotlib.figure.Figure at 0x1f66d7c19e8>"
      ]
     },
     "metadata": {},
     "output_type": "display_data"
    }
   ],
   "source": [
    "# Mean R&D Expense normalized by Assets over time\n",
    "plt.subplots(figsize=(5,5))\n",
    "sns.pointplot(x='fy', y='ResearchAndDevelopmentExpense_scaled', \n",
    "              hue='Type of Firm', data=r_and_d_industry2_mean_scaled)\n",
    "\n",
    "plt.title('Mean R&D Expense normalized by Assets over time (Manufacturing)')\n",
    "plt.ylabel('Mean R&D Expense normalized')"
   ]
  },
  {
   "cell_type": "code",
   "execution_count": 225,
   "metadata": {},
   "outputs": [
    {
     "data": {
      "text/plain": [
       "Text(0,0.5,'Mean R&D Expense normalized')"
      ]
     },
     "execution_count": 225,
     "metadata": {},
     "output_type": "execute_result"
    },
    {
     "data": {
      "image/png": "[encoded data removed]",
      "text/plain": [
       "<matplotlib.figure.Figure at 0x1f66d9ee3c8>"
      ]
     },
     "metadata": {},
     "output_type": "display_data"
    }
   ],
   "source": [
    "# Mean R&D Expense normalized by Assets of MNCs over time\n",
    "plt.subplots(figsize=(5,5))\n",
    "sns.pointplot(x='fy', y='ResearchAndDevelopmentExpense_scaled',\n",
    "              data=r_and_d_industry2_mean_scaled[r_and_d_industry2_mean_scaled['Type of Firm']=='Foreign'])\n",
    "\n",
    "plt.title('Mean R&D Expense normalized by Assets of MNCs over time (Manufacturing)')\n",
    "plt.ylabel('Mean R&D Expense normalized')"
   ]
  },
  {
   "cell_type": "code",
   "execution_count": 226,
   "metadata": {
    "scrolled": false
   },
   "outputs": [
    {
     "data": {
      "text/plain": [
       "Text(0.5,1,'Difference in Mean of normalized R&D Expense for Manufacturing Industry (MNCs - Domestic Firms)')"
      ]
     },
     "execution_count": 226,
     "metadata": {},
     "output_type": "execute_result"
    },
    {
     "data": {
      "image/png": "[encoded data removed]",
      "text/plain": [
       "<matplotlib.figure.Figure at 0x1f66e4fbd68>"
      ]
     },
     "metadata": {},
     "output_type": "display_data"
    }
   ],
   "source": [
    "# Manufacturing industry : difference in Mean R&D  (MNCs - domestic firms) \n",
    "\n",
    "sns.pointplot(x='fy',y='ResearchAndDevelopmentExpense_scaled',data= r_and_d_industry2_mean_diff)\n",
    "plt.ylabel('Difference in Mean R&D Expense')\n",
    "plt.title('Difference in Mean of normalized R&D Expense for Manufacturing Industry (MNCs - Domestic Firms)')"
   ]
  },
  {
   "cell_type": "code",
   "execution_count": 227,
   "metadata": {
    "collapsed": true,
    "scrolled": true
   },
   "outputs": [],
   "source": [
    "r_and_d_industry2['UndistributedEarningsOfForeignSubsidiaries_scaled']=\\\n",
    "r_and_d_industry2['UndistributedEarningsOfForeignSubsidiaries']/r_and_d_industry2['Assets']"
   ]
  },
  {
   "cell_type": "code",
   "execution_count": 228,
   "metadata": {
    "scrolled": true
   },
   "outputs": [
    {
     "data": {
      "text/plain": [
       "Text(0.5,1,'Mean Undistributed Foreign Earnings normalized (Manufacturing)')"
      ]
     },
     "execution_count": 228,
     "metadata": {},
     "output_type": "execute_result"
    },
    {
     "data": {
      "image/png": "[encoded data removed]",
      "text/plain": [
       "<matplotlib.figure.Figure at 0x1f66db95ef0>"
      ]
     },
     "metadata": {},
     "output_type": "display_data"
    }
   ],
   "source": [
    "# Normalized Mean Undistributed Foreign Earnings of Manufacturing Industry\n",
    "sns.pointplot(x='fy',y='UndistributedEarningsOfForeignSubsidiaries_scaled',\n",
    "              data= pd.DataFrame(r_and_d_industry2[r_and_d_industry2['Type of Firm']=='Foreign'].\\\n",
    "             groupby(['fy'])['UndistributedEarningsOfForeignSubsidiaries_scaled'].mean()).reset_index())\n",
    "plt.ylabel('Mean Undistributed Foreign Earnings Expense normalized')\n",
    "plt.title('Mean Undistributed Foreign Earnings normalized (Manufacturing)')"
   ]
  },
  {
   "cell_type": "code",
   "execution_count": 229,
   "metadata": {
    "scrolled": true
   },
   "outputs": [
    {
     "data": {
      "text/plain": [
       "Type of Firm  fy    \n",
       "Domestic      2013.0     98\n",
       "              2014.0    103\n",
       "              2015.0    102\n",
       "              2016.0    103\n",
       "Foreign       2013.0     71\n",
       "              2014.0     71\n",
       "              2015.0     71\n",
       "              2016.0     71\n",
       "dtype: int64"
      ]
     },
     "execution_count": 229,
     "metadata": {},
     "output_type": "execute_result"
    }
   ],
   "source": [
    "r_and_d_industry2.groupby(['Type of Firm','fy']).size()"
   ]
  }
 ],
 "metadata": {
  "kernelspec": {
   "display_name": "Python 3",
   "language": "python",
   "name": "python3"
  },
  "language_info": {
   "codemirror_mode": {
    "name": "ipython",
    "version": 3
   },
   "file_extension": ".py",
   "mimetype": "text/x-python",
   "name": "python",
   "nbconvert_exporter": "python",
   "pygments_lexer": "ipython3",
   "version": "3.6.3"
  }
 },
 "nbformat": 4,
 "nbformat_minor": 2
}
