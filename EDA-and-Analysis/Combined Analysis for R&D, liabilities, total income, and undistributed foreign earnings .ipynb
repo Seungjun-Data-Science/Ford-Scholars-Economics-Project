{
 "cells": [
  {
   "cell_type": "code",
   "execution_count": 1,
   "metadata": {
    "collapsed": true
   },
   "outputs": [],
   "source": [
    "import pandas as pd\n",
    "import numpy as np\n",
    "import matplotlib.pyplot as plt\n",
    "import matplotlib as mp\n",
    "import seaborn as sns\n",
    "%matplotlib inline"
   ]
  },
  {
   "cell_type": "code",
   "execution_count": 2,
   "metadata": {
    "collapsed": true
   },
   "outputs": [],
   "source": [
    "df = pd.read_csv('josh_final_dataset_7.14.csv')"
   ]
  },
  {
   "cell_type": "code",
   "execution_count": 3,
   "metadata": {
    "collapsed": true
   },
   "outputs": [],
   "source": [
    "del df['Unnamed: 0']"
   ]
  },
  {
   "cell_type": "code",
   "execution_count": 4,
   "metadata": {
    "scrolled": false
   },
   "outputs": [
    {
     "name": "stdout",
     "output_type": "stream",
     "text": [
      "<class 'pandas.core.frame.DataFrame'>\n",
      "RangeIndex: 45604 entries, 0 to 45603\n",
      "Data columns (total 30 columns):\n",
      "Assets                                                                                                         39525 non-null float64\n",
      "adsh                                                                                                           39525 non-null object\n",
      "cik                                                                                                            45604 non-null int64\n",
      "coreg                                                                                                          54 non-null object\n",
      "ddate                                                                                                          39525 non-null float64\n",
      "ein                                                                                                            37612 non-null float64\n",
      "fy                                                                                                             45604 non-null float64\n",
      "fye                                                                                                            39525 non-null float64\n",
      "period                                                                                                         39525 non-null float64\n",
      "sic                                                                                                            39382 non-null float64\n",
      "PaymentsToAcquireOtherPropertyPlantAndEquipment                                                                116 non-null float64\n",
      "PropertyPlantAndEquipmentAdditions                                                                             89 non-null float64\n",
      "PropertyPlantAndEquipmentGross                                                                                 12628 non-null float64\n",
      "PropertyPlantAndEquipmentGrossExcludingCapitalLeasedAssets                                                     6 non-null float64\n",
      "PropertyPlantAndEquipmentGrossPeriodIncreaseDecrease                                                           10 non-null float64\n",
      "PropertyPlantAndEquipmentNet                                                                                   20341 non-null float64\n",
      "PropertyPlantAndEquipmentNetExcludingCapitalLeasedAssets                                                       14 non-null float64\n",
      "PropertyPlantAndEquipmentOwnedGross                                                                            2 non-null float64\n",
      "PropertyPlantAndEquipmentOwnedNet                                                                              8 non-null float64\n",
      "UndistributedEarningsOfForeignSubsidiaries                                                                     5457 non-null float64\n",
      "IncomeLossFromContinuingOperationsBeforeIncomeTaxesExtraordinaryItemsNoncontrollingInterest                    10344 non-null float64\n",
      "IncomeLossFromContinuingOperationsBeforeIncomeTaxesForeign                                                     11248 non-null float64\n",
      "IncomeLossFromContinuingOperationsBeforeIncomeTaxesMinorityInterestAndIncomeLossFromEquityMethodInvestments    18452 non-null float64\n",
      "ForeignEarningsRepatriated                                                                                     200 non-null float64\n",
      "IncomeLossFromContinuingOperationsBeforeIncomeTaxesDomestic                                                    4702 non-null float64\n",
      "ResearchAndDevelopmentExpense                                                                                  5948 non-null float64\n",
      "Liabilities                                                                                                    29959 non-null float64\n",
      "NetIncomeLoss                                                                                                  14910 non-null float64\n",
      "GrossProfit                                                                                                    12268 non-null float64\n",
      "ProfitLoss                                                                                                     6081 non-null float64\n",
      "dtypes: float64(27), int64(1), object(2)\n",
      "memory usage: 10.4+ MB\n"
     ]
    }
   ],
   "source": [
    "df.info()"
   ]
  },
  {
   "cell_type": "markdown",
   "metadata": {},
   "source": [
    "## Dividing (Identifying) which companies are foreign and domestic"
   ]
  },
  {
   "cell_type": "code",
   "execution_count": 5,
   "metadata": {
    "collapsed": true
   },
   "outputs": [],
   "source": [
    "df['check1']=np.where(df.IncomeLossFromContinuingOperationsBeforeIncomeTaxesForeign.isnull(),0,1)\n",
    "df['check2']=np.where(df.UndistributedEarningsOfForeignSubsidiaries.isnull(),0,1)\n",
    "df['check3']=np.where(df.ForeignEarningsRepatriated.isnull(),0,1)\n",
    "\n",
    "df['check']=df['check1']+df['check2']+df['check3']"
   ]
  },
  {
   "cell_type": "code",
   "execution_count": 6,
   "metadata": {
    "collapsed": true
   },
   "outputs": [],
   "source": [
    "del df['check1']\n",
    "del df['check2']\n",
    "del df['check3']"
   ]
  },
  {
   "cell_type": "code",
   "execution_count": 7,
   "metadata": {
    "collapsed": true
   },
   "outputs": [],
   "source": [
    "# Giving identifiers to companies as to whether each of them has foreign subsidiary(foreign operation) or not\n",
    "df['Type of Firm'] = np.where(df.check==0,'Domestic','Foreign')"
   ]
  },
  {
   "cell_type": "code",
   "execution_count": 8,
   "metadata": {
    "collapsed": true
   },
   "outputs": [],
   "source": [
    "del df['check']"
   ]
  },
  {
   "cell_type": "markdown",
   "metadata": {},
   "source": [
    "## Fixing years and number of companies for analysis constant"
   ]
  },
  {
   "cell_type": "code",
   "execution_count": 9,
   "metadata": {
    "collapsed": true
   },
   "outputs": [],
   "source": [
    "# Data only from fy 2013 to fy 2016\n",
    "df_13_16 = df[(df.fy>=2013) & (df.fy<=2016)]\n",
    "\n",
    "# Drop firms that have at least one missing Asset values from fy 2013-2016\n",
    "df_13_16 = df_13_16.groupby('cik').filter(lambda x: all(pd.notnull(x['Assets'])))\n",
    "\n",
    "# Drop firms that have at least one missing Liabilities values from fy 2013-2016\n",
    "df_13_16 = df_13_16.groupby('cik').filter(lambda x: all(pd.notnull(x['Liabilities'])))\n",
    "\n",
    "# Drop firms that have at least one missing Gross Profit(total income) values from fy 2013-2016\n",
    "df_13_16 = df_13_16.groupby('cik').filter(lambda x: all(pd.notnull(x['GrossProfit'])))\n",
    "\n",
    "df_13_16 = df_13_16.groupby('cik').filter(lambda x: all(pd.notnull(x['ResearchAndDevelopmentExpense'])))\n",
    "\n",
    "# Drop firms that have Asset value of 0 for at least one of the year\n",
    "df_13_16 = df_13_16.groupby('cik').filter(lambda x: all(x['Assets']!=0.0))"
   ]
  },
  {
   "cell_type": "code",
   "execution_count": 10,
   "metadata": {
    "collapsed": true
   },
   "outputs": [],
   "source": [
    "# # Filter only the companies that have data for all fy years 2013 - 2016 (4 assets values per cik group)\n",
    "# df_13_16 = df_13_16.groupby('cik').filter(lambda x: x['fy'].nunique()==4)\n",
    "\n",
    "df_13_16_foreign = df_13_16.copy()[df_13_16.copy()['Type of Firm']=='Foreign']\n",
    "df_13_16_domestic = df_13_16.copy()[df_13_16.copy()['Type of Firm']=='Domestic']"
   ]
  },
  {
   "cell_type": "markdown",
   "metadata": {},
   "source": [
    "As we can see below, the problem is there are some firms that was domestic one year and was multinational for another year (inconsistent). We are going to drop those companies and exclude them from the analysis"
   ]
  },
  {
   "cell_type": "code",
   "execution_count": 11,
   "metadata": {},
   "outputs": [
    {
     "name": "stdout",
     "output_type": "stream",
     "text": [
      "Foreign: fy\n",
      "2013.0    74\n",
      "2014.0    68\n",
      "2015.0    61\n",
      "2016.0    71\n",
      "dtype: int64 \n",
      "\n",
      " Domestic: fy\n",
      "2013.0    72\n",
      "2014.0    62\n",
      "2015.0    43\n",
      "2016.0    38\n",
      "dtype: int64\n"
     ]
    }
   ],
   "source": [
    "print(\"Foreign:\",df_13_16_foreign.groupby('fy').size(),\"\\n\\n\",\"Domestic:\", df_13_16_domestic.groupby('fy').size())"
   ]
  },
  {
   "cell_type": "code",
   "execution_count": 12,
   "metadata": {
    "collapsed": true
   },
   "outputs": [],
   "source": [
    "# Dropping MNCs that have missing UFEs for all years\n",
    "df_13_16_foreign = df_13_16_foreign.groupby('cik').filter(lambda x: all(pd.notnull(x['UndistributedEarningsOfForeignSubsidiaries'])))"
   ]
  },
  {
   "cell_type": "code",
   "execution_count": 13,
   "metadata": {},
   "outputs": [
    {
     "name": "stdout",
     "output_type": "stream",
     "text": [
      "Foreign: fy\n",
      "2013.0    26\n",
      "2014.0    26\n",
      "2015.0    26\n",
      "2016.0    26\n",
      "dtype: int64 \n",
      "\n",
      " Domestic: fy\n",
      "2013.0    16\n",
      "2014.0    16\n",
      "2015.0    16\n",
      "2016.0    16\n",
      "dtype: int64\n"
     ]
    }
   ],
   "source": [
    "df_13_16_foreign = df_13_16_foreign.groupby('cik').filter(lambda x: x['fy'].nunique()==4)\n",
    "df_13_16_domestic = df_13_16_domestic.groupby('cik').filter(lambda x: x['fy'].nunique()==4)\n",
    "\n",
    "# Now we have the same number of multinational firms and domestic firms throughout all years\n",
    "print(\"Foreign:\",df_13_16_foreign.groupby('fy').size(),\"\\n\\n\",\"Domestic:\", df_13_16_domestic.groupby('fy').size())"
   ]
  },
  {
   "cell_type": "code",
   "execution_count": 14,
   "metadata": {
    "collapsed": true
   },
   "outputs": [],
   "source": [
    "# Make a new dataframe df_13_16 with the modified foreign and domestic firms data\n",
    "df_13_16= df_13_16_foreign.append(df_13_16_domestic)"
   ]
  },
  {
   "cell_type": "markdown",
   "metadata": {},
   "source": [
    "## Creating new variables [field]/Assets"
   ]
  },
  {
   "cell_type": "code",
   "execution_count": 15,
   "metadata": {
    "collapsed": true
   },
   "outputs": [],
   "source": [
    "# Creating new variable (total income / Assets)\n",
    "df_13_16['Total_Income_scaled']=\\\n",
    "df_13_16['GrossProfit']/df_13_16['Assets']"
   ]
  },
  {
   "cell_type": "code",
   "execution_count": 16,
   "metadata": {
    "collapsed": true
   },
   "outputs": [],
   "source": [
    "# Creating new variable (Liabilties / Assets)\n",
    "df_13_16['Liabilities_scaled']=\\\n",
    "df_13_16['Liabilities']/df_13_16['Assets']"
   ]
  },
  {
   "cell_type": "code",
   "execution_count": 17,
   "metadata": {
    "collapsed": true
   },
   "outputs": [],
   "source": [
    "# Creating new variable (R&D / Assets)\n",
    "df_13_16['ResearchAndDevelopmentExpense_scaled']=\\\n",
    "df_13_16['ResearchAndDevelopmentExpense']/df_13_16['Assets']"
   ]
  },
  {
   "cell_type": "markdown",
   "metadata": {},
   "source": [
    "## Giving each company industry classification"
   ]
  },
  {
   "cell_type": "code",
   "execution_count": 18,
   "metadata": {
    "collapsed": true
   },
   "outputs": [],
   "source": [
    "industry_count =\\\n",
    "pd.DataFrame([{'Mining and Construction':3551, 'Manufacturing':13162, 'Transportation, Communication, Electric, Gas':2889,\n",
    " 'Wholesale, Retail':3116,'Financial, Insurance, Real Estate':9625, 'Services':6725,'Public Administration':103}],index=['count'])\n",
    "\n",
    "# industry_count.to_csv('industry_count_breakdown.csv')"
   ]
  },
  {
   "cell_type": "code",
   "execution_count": 19,
   "metadata": {
    "scrolled": true
   },
   "outputs": [
    {
     "data": {
      "text/html": [
       "<div>\n",
       "<style>\n",
       "    .dataframe thead tr:only-child th {\n",
       "        text-align: right;\n",
       "    }\n",
       "\n",
       "    .dataframe thead th {\n",
       "        text-align: left;\n",
       "    }\n",
       "\n",
       "    .dataframe tbody tr th {\n",
       "        vertical-align: top;\n",
       "    }\n",
       "</style>\n",
       "<table border=\"1\" class=\"dataframe\">\n",
       "  <thead>\n",
       "    <tr style=\"text-align: right;\">\n",
       "      <th></th>\n",
       "      <th>Financial, Insurance, Real Estate</th>\n",
       "      <th>Manufacturing</th>\n",
       "      <th>Mining and Construction</th>\n",
       "      <th>Public Administration</th>\n",
       "      <th>Services</th>\n",
       "      <th>Transportation, Communication, Electric, Gas</th>\n",
       "      <th>Wholesale, Retail</th>\n",
       "    </tr>\n",
       "  </thead>\n",
       "  <tbody>\n",
       "    <tr>\n",
       "      <th>count</th>\n",
       "      <td>9625</td>\n",
       "      <td>13162</td>\n",
       "      <td>3551</td>\n",
       "      <td>103</td>\n",
       "      <td>6725</td>\n",
       "      <td>2889</td>\n",
       "      <td>3116</td>\n",
       "    </tr>\n",
       "  </tbody>\n",
       "</table>\n",
       "</div>"
      ],
      "text/plain": [
       "       Financial, Insurance, Real Estate  Manufacturing  \\\n",
       "count                               9625          13162   \n",
       "\n",
       "       Mining and Construction  Public Administration  Services  \\\n",
       "count                     3551                    103      6725   \n",
       "\n",
       "       Transportation, Communication, Electric, Gas  Wholesale, Retail  \n",
       "count                                          2889               3116  "
      ]
     },
     "execution_count": 19,
     "metadata": {},
     "output_type": "execute_result"
    }
   ],
   "source": [
    "industry_count"
   ]
  },
  {
   "cell_type": "code",
   "execution_count": 20,
   "metadata": {
    "collapsed": true
   },
   "outputs": [],
   "source": [
    "# bins = pd.IntervalIndex.from_tuples([(1000, 1999), (2000, 3999),(4000,4999),(5000,5999),\n",
    "#                                     (6000,6999),(7000,8999),(9000,9999)],closed='both')\n",
    "\n",
    "df_13_16['industry']=\\\n",
    "pd.cut(df_13_16.sic.tolist(),[1000,1999,3999,4999,5999,6999,8999,9999],include_lowest=True,\n",
    "             labels=['Mining and Construction','Manufacturing','Transportation, Communication, Electric, Gas',\n",
    "               'Wholesale, Retail','Financial, Insurance, Real Estate','Services','Public Administration'])"
   ]
  },
  {
   "cell_type": "markdown",
   "metadata": {},
   "source": [
    "## Comparison by Industry"
   ]
  },
  {
   "cell_type": "markdown",
   "metadata": {},
   "source": [
    "- Industry1: 'Mining and Construction'\n",
    "- Industry2: 'Manufacturing'\n",
    "- Industry3: 'Transportation, Communication, Electric, Gas'\n",
    "- Industry4: 'Wholesale, Retail'\n",
    "- Industry5: 'Financial, Insurance, Real Estate'\n",
    "- Industry6: 'Services'\n",
    "- Industry7: 'Public Administration'"
   ]
  },
  {
   "cell_type": "code",
   "execution_count": 21,
   "metadata": {
    "collapsed": true
   },
   "outputs": [],
   "source": [
    "# Dividing data into 7 different industries\n",
    "\n",
    "industry1 = df_13_16.copy()[df_13_16.copy().industry=='Mining and Construction']\n",
    "industry2 = df_13_16.copy()[df_13_16.copy().industry=='Manufacturing']\n",
    "industry3 = df_13_16.copy()[df_13_16.copy().industry=='Transportation, Communication, Electric, Gas']\n",
    "industry4 = df_13_16.copy()[df_13_16.copy().industry=='Wholesale, Retail']\n",
    "industry5 = df_13_16.copy()[df_13_16.copy().industry=='Financial, Insurance, Real Estate']\n",
    "industry6 = df_13_16.copy()[df_13_16.copy().industry=='Services']\n",
    "industry7 = df_13_16.copy()[df_13_16.copy().industry=='Public Administration']"
   ]
  },
  {
   "cell_type": "code",
   "execution_count": 22,
   "metadata": {},
   "outputs": [
    {
     "data": {
      "text/plain": [
       "Foreign     100\n",
       "Domestic     56\n",
       "Name: Type of Firm, dtype: int64"
      ]
     },
     "execution_count": 22,
     "metadata": {},
     "output_type": "execute_result"
    }
   ],
   "source": [
    "industry2['Type of Firm'].value_counts()"
   ]
  },
  {
   "cell_type": "markdown",
   "metadata": {},
   "source": [
    "### Manufacturing"
   ]
  },
  {
   "cell_type": "markdown",
   "metadata": {},
   "source": [
    "**Undistributed Foreign Earnings**"
   ]
  },
  {
   "cell_type": "code",
   "execution_count": 23,
   "metadata": {
    "collapsed": true
   },
   "outputs": [],
   "source": [
    "industry2['UndistributedEarningsOfForeignSubsidiaries_scaled']=\\\n",
    "industry2['UndistributedEarningsOfForeignSubsidiaries']/industry2['Assets']"
   ]
  },
  {
   "cell_type": "code",
   "execution_count": 24,
   "metadata": {
    "scrolled": false
   },
   "outputs": [
    {
     "data": {
      "text/plain": [
       "Text(0.5,1,'Mean Undistributed Foreign Earnings normalized (Manufacturing)')"
      ]
     },
     "execution_count": 24,
     "metadata": {},
     "output_type": "execute_result"
    },
    {
     "data": {
      "image/png": "[encoded data removed]",
      "text/plain": [
       "<matplotlib.figure.Figure at 0x24bf87e6a20>"
      ]
     },
     "metadata": {},
     "output_type": "display_data"
    }
   ],
   "source": [
    "# Mean Normalized Undistributed Foreign Earnings of Manufacturing Industry\n",
    "\n",
    "sns.pointplot(x='fy',y='UndistributedEarningsOfForeignSubsidiaries_scaled',\n",
    "              data= pd.DataFrame(industry2[industry2['Type of Firm']=='Foreign'].\\\n",
    "             groupby(['fy'])['UndistributedEarningsOfForeignSubsidiaries_scaled'].mean()).reset_index())\n",
    "\n",
    "plt.ylabel('Mean Undistributed Foreign Earnings Expense normalized')\n",
    "plt.title('Mean Undistributed Foreign Earnings normalized (Manufacturing)')"
   ]
  },
  {
   "cell_type": "markdown",
   "metadata": {},
   "source": [
    "**Total Income**"
   ]
  },
  {
   "cell_type": "code",
   "execution_count": 25,
   "metadata": {
    "collapsed": true,
    "scrolled": true
   },
   "outputs": [],
   "source": [
    "# Mean of (Total Income/ Assets) of firms in Manufacturing per year\n",
    "total_income_industry2_mean_scaled =\\\n",
    "pd.DataFrame(industry2[industry2['Total_Income_scaled'].notnull()].\\\n",
    "             loc[:,['cik','fy','Type of Firm','Total_Income_scaled']].\\\n",
    "             groupby(['fy','Type of Firm'])['Total_Income_scaled'].mean()).reset_index()"
   ]
  },
  {
   "cell_type": "code",
   "execution_count": 26,
   "metadata": {},
   "outputs": [
    {
     "data": {
      "text/plain": [
       "Text(0,0.5,'Mean of Total Income normalized')"
      ]
     },
     "execution_count": 26,
     "metadata": {},
     "output_type": "execute_result"
    },
    {
     "data": {
      "image/png": "[encoded data removed]",
      "text/plain": [
       "<matplotlib.figure.Figure at 0x24bf7f3e908>"
      ]
     },
     "metadata": {},
     "output_type": "display_data"
    }
   ],
   "source": [
    "# Total Income normalized by Assets of MNCs over time\n",
    "sns.pointplot(x=total_income_industry2_mean_scaled[total_income_industry2_mean_scaled['Type of Firm']=='Foreign'].fy,\n",
    "         y=total_income_industry2_mean_scaled[total_income_industry2_mean_scaled['Type of Firm']=='Foreign'].Total_Income_scaled)\n",
    "\n",
    "plt.title('Mean of Total Income normalized by Assets of MNCs over time (Manufacturing)')\n",
    "plt.ylabel('Mean of Total Income normalized')"
   ]
  },
  {
   "cell_type": "code",
   "execution_count": 27,
   "metadata": {},
   "outputs": [
    {
     "data": {
      "text/plain": [
       "Text(0,0.5,'Mean of Total Income normalized')"
      ]
     },
     "execution_count": 27,
     "metadata": {},
     "output_type": "execute_result"
    },
    {
     "data": {
      "image/png": "[encoded data removed]",
      "text/plain": [
       "<matplotlib.figure.Figure at 0x24bf8b42dd8>"
      ]
     },
     "metadata": {},
     "output_type": "display_data"
    }
   ],
   "source": [
    "# Total Income normalized by Assets over time\n",
    "sns.pointplot(x='fy', y='Total_Income_scaled', hue='Type of Firm', data=total_income_industry2_mean_scaled)\n",
    "\n",
    "plt.title('Mean of Total Income normalized by Assets over time (Manufacturing)')\n",
    "plt.ylabel('Mean of Total Income normalized')"
   ]
  },
  {
   "cell_type": "markdown",
   "metadata": {},
   "source": [
    "**R&D**"
   ]
  },
  {
   "cell_type": "code",
   "execution_count": 28,
   "metadata": {
    "collapsed": true
   },
   "outputs": [],
   "source": [
    "# Mean of (R & D / Assets) of firms in industry 2 per year\n",
    "r_and_d_industry2_mean_scaled =\\\n",
    "pd.DataFrame(industry2[industry2['ResearchAndDevelopmentExpense_scaled'].notnull()].\\\n",
    "             loc[:,['cik','fy','Type of Firm','ResearchAndDevelopmentExpense_scaled']].\\\n",
    "             groupby(['fy','Type of Firm'])['ResearchAndDevelopmentExpense_scaled'].mean()).reset_index()"
   ]
  },
  {
   "cell_type": "code",
   "execution_count": 29,
   "metadata": {},
   "outputs": [
    {
     "data": {
      "text/plain": [
       "Text(0,0.5,'Mean of R&D Expense normalized')"
      ]
     },
     "execution_count": 29,
     "metadata": {},
     "output_type": "execute_result"
    },
    {
     "data": {
      "image/png": "[encoded data removed]",
      "text/plain": [
       "<matplotlib.figure.Figure at 0x24bf8b4af98>"
      ]
     },
     "metadata": {},
     "output_type": "display_data"
    }
   ],
   "source": [
    "# R & D normalized by Assets of MNCs over time\n",
    "sns.pointplot(x=r_and_d_industry2_mean_scaled[r_and_d_industry2_mean_scaled['Type of Firm']=='Foreign'].fy,\n",
    "         y=r_and_d_industry2_mean_scaled[r_and_d_industry2_mean_scaled['Type of Firm']=='Foreign'].ResearchAndDevelopmentExpense_scaled)\n",
    "\n",
    "plt.title('Mean of R&D Expense normalized by Assets of MNCs over time (Manufacturing)')\n",
    "plt.ylabel('Mean of R&D Expense normalized')"
   ]
  },
  {
   "cell_type": "code",
   "execution_count": 30,
   "metadata": {},
   "outputs": [
    {
     "data": {
      "text/plain": [
       "Text(0,0.5,'Mean of R&D Expense normalized')"
      ]
     },
     "execution_count": 30,
     "metadata": {},
     "output_type": "execute_result"
    },
    {
     "data": {
      "image/png": "[encoded data removed]",
      "text/plain": [
       "<matplotlib.figure.Figure at 0x24bf8e8f358>"
      ]
     },
     "metadata": {},
     "output_type": "display_data"
    }
   ],
   "source": [
    "# R & D normalized by Assets over time\n",
    "sns.pointplot(x='fy', y='ResearchAndDevelopmentExpense_scaled',hue='Type of Firm', data=r_and_d_industry2_mean_scaled)\n",
    "\n",
    "plt.title('Mean of R&D Expense normalized by Assets over time (Manufacturing)')\n",
    "plt.ylabel('Mean of R&D Expense normalized')"
   ]
  },
  {
   "cell_type": "markdown",
   "metadata": {},
   "source": [
    "**Liabilities**"
   ]
  },
  {
   "cell_type": "code",
   "execution_count": 31,
   "metadata": {
    "collapsed": true
   },
   "outputs": [],
   "source": [
    "# Mean of (Liabilities/ Assets) of firms in Manufacturing per year\n",
    "liabilities_industry2_mean_scaled =\\\n",
    "pd.DataFrame(industry2[industry2['Liabilities_scaled'].notnull()].\\\n",
    "             loc[:,['cik','fy','Type of Firm','Liabilities_scaled']].\\\n",
    "             groupby(['fy','Type of Firm'])['Liabilities_scaled'].mean()).reset_index()"
   ]
  },
  {
   "cell_type": "code",
   "execution_count": 32,
   "metadata": {
    "scrolled": true
   },
   "outputs": [
    {
     "data": {
      "text/plain": [
       "Text(0,0.5,'Mean of Liabilities normalized')"
      ]
     },
     "execution_count": 32,
     "metadata": {},
     "output_type": "execute_result"
    },
    {
     "data": {
      "image/png": "[encoded data removed]",
      "text/plain": [
       "<matplotlib.figure.Figure at 0x24bf8edca20>"
      ]
     },
     "metadata": {},
     "output_type": "display_data"
    }
   ],
   "source": [
    "# Liabilities normalized by Assets of MNCs over time\n",
    "sns.pointplot(x=liabilities_industry2_mean_scaled[liabilities_industry2_mean_scaled['Type of Firm']=='Foreign'].fy,\n",
    "y=liabilities_industry2_mean_scaled[liabilities_industry2_mean_scaled['Type of Firm']=='Foreign'].Liabilities_scaled)\n",
    "\n",
    "plt.title('Mean of Liabilities normalized by Assets of MNCs over time (Manufacturing)')\n",
    "plt.ylabel('Mean of Liabilities normalized')"
   ]
  },
  {
   "cell_type": "code",
   "execution_count": 33,
   "metadata": {},
   "outputs": [
    {
     "data": {
      "text/plain": [
       "Text(0,0.5,'Mean of Liabilities normalized')"
      ]
     },
     "execution_count": 33,
     "metadata": {},
     "output_type": "execute_result"
    },
    {
     "data": {
      "image/png": "[encoded data removed]",
      "text/plain": [
       "<matplotlib.figure.Figure at 0x24bf8f30668>"
      ]
     },
     "metadata": {},
     "output_type": "display_data"
    }
   ],
   "source": [
    "# Liabilities normalized by Assets  over time\n",
    "sns.pointplot(x='fy', y= 'Liabilities_scaled', hue='Type of Firm', data=liabilities_industry2_mean_scaled)\n",
    "\n",
    "plt.title('Mean of Liabilities normalized by Assets over time (Manufacturing)')\n",
    "plt.ylabel('Mean of Liabilities normalized')"
   ]
  },
  {
   "cell_type": "markdown",
   "metadata": {},
   "source": [
    "#### Foreign Income"
   ]
  },
  {
   "cell_type": "code",
   "execution_count": 34,
   "metadata": {
    "collapsed": true
   },
   "outputs": [],
   "source": [
    "manu_mnc = industry2.copy()[industry2.copy()['Type of Firm']=='Foreign']"
   ]
  },
  {
   "cell_type": "code",
   "execution_count": 35,
   "metadata": {
    "collapsed": true
   },
   "outputs": [],
   "source": [
    "manu_mnc['Foreign_Income_scaled'] = manu_mnc['IncomeLossFromContinuingOperationsBeforeIncomeTaxesForeign'] / manu_mnc['Assets']"
   ]
  },
  {
   "cell_type": "code",
   "execution_count": 36,
   "metadata": {},
   "outputs": [
    {
     "data": {
      "text/plain": [
       "Text(0,0.5,'Foreign Income of MCNs')"
      ]
     },
     "execution_count": 36,
     "metadata": {},
     "output_type": "execute_result"
    },
    {
     "data": {
      "image/png": "[encoded data removed]",
      "text/plain": [
       "<matplotlib.figure.Figure at 0x24bf8f78e80>"
      ]
     },
     "metadata": {},
     "output_type": "display_data"
    }
   ],
   "source": [
    "sns.pointplot(x='fy',\n",
    "              y='Foreign_Income_scaled',\n",
    "             data=manu_mnc[manu_mnc.Foreign_Income_scaled.notnull()].groupby('fy').Foreign_Income_scaled.mean().reset_index())\n",
    "\n",
    "plt.title('Foreign Income of MCNs over time')\n",
    "plt.ylabel('Foreign Income of MCNs')"
   ]
  },
  {
   "cell_type": "code",
   "execution_count": 42,
   "metadata": {
    "scrolled": false
   },
   "outputs": [
    {
     "data": {
      "text/html": [
       "<div>\n",
       "<style>\n",
       "    .dataframe thead tr:only-child th {\n",
       "        text-align: right;\n",
       "    }\n",
       "\n",
       "    .dataframe thead th {\n",
       "        text-align: left;\n",
       "    }\n",
       "\n",
       "    .dataframe tbody tr th {\n",
       "        vertical-align: top;\n",
       "    }\n",
       "</style>\n",
       "<table border=\"1\" class=\"dataframe\">\n",
       "  <thead>\n",
       "    <tr style=\"text-align: right;\">\n",
       "      <th></th>\n",
       "      <th>Assets</th>\n",
       "      <th>adsh</th>\n",
       "      <th>cik</th>\n",
       "      <th>coreg</th>\n",
       "      <th>ddate</th>\n",
       "      <th>ein</th>\n",
       "      <th>fy</th>\n",
       "      <th>fye</th>\n",
       "      <th>period</th>\n",
       "      <th>sic</th>\n",
       "      <th>...</th>\n",
       "      <th>IncomeLossFromContinuingOperationsBeforeIncomeTaxesForeign</th>\n",
       "      <th>IncomeLossFromContinuingOperationsBeforeIncomeTaxesMinorityInterestAndIncomeLossFromEquityMethodInvestments</th>\n",
       "      <th>ForeignEarningsRepatriated</th>\n",
       "      <th>IncomeLossFromContinuingOperationsBeforeIncomeTaxesDomestic</th>\n",
       "      <th>ResearchAndDevelopmentExpense</th>\n",
       "      <th>Liabilities</th>\n",
       "      <th>NetIncomeLoss</th>\n",
       "      <th>GrossProfit</th>\n",
       "      <th>ProfitLoss</th>\n",
       "      <th>Type of Firm</th>\n",
       "    </tr>\n",
       "  </thead>\n",
       "  <tbody>\n",
       "    <tr>\n",
       "      <th>0</th>\n",
       "      <td>1.703727e+09</td>\n",
       "      <td>0001047469-11-006302</td>\n",
       "      <td>1750</td>\n",
       "      <td>NaN</td>\n",
       "      <td>20110531.0</td>\n",
       "      <td>362334820.0</td>\n",
       "      <td>2011.0</td>\n",
       "      <td>531.0</td>\n",
       "      <td>20110531.0</td>\n",
       "      <td>3720.0</td>\n",
       "      <td>...</td>\n",
       "      <td>NaN</td>\n",
       "      <td>NaN</td>\n",
       "      <td>NaN</td>\n",
       "      <td>NaN</td>\n",
       "      <td>NaN</td>\n",
       "      <td>NaN</td>\n",
       "      <td>69826000.0</td>\n",
       "      <td>NaN</td>\n",
       "      <td>NaN</td>\n",
       "      <td>Domestic</td>\n",
       "    </tr>\n",
       "    <tr>\n",
       "      <th>1</th>\n",
       "      <td>2.195700e+09</td>\n",
       "      <td>0001104659-12-065381</td>\n",
       "      <td>1750</td>\n",
       "      <td>NaN</td>\n",
       "      <td>20120531.0</td>\n",
       "      <td>362334820.0</td>\n",
       "      <td>2012.0</td>\n",
       "      <td>531.0</td>\n",
       "      <td>20120531.0</td>\n",
       "      <td>3720.0</td>\n",
       "      <td>...</td>\n",
       "      <td>NaN</td>\n",
       "      <td>NaN</td>\n",
       "      <td>NaN</td>\n",
       "      <td>NaN</td>\n",
       "      <td>NaN</td>\n",
       "      <td>NaN</td>\n",
       "      <td>NaN</td>\n",
       "      <td>NaN</td>\n",
       "      <td>NaN</td>\n",
       "      <td>Domestic</td>\n",
       "    </tr>\n",
       "    <tr>\n",
       "      <th>2</th>\n",
       "      <td>2.136900e+09</td>\n",
       "      <td>0001104659-13-072128</td>\n",
       "      <td>1750</td>\n",
       "      <td>NaN</td>\n",
       "      <td>20130531.0</td>\n",
       "      <td>362334820.0</td>\n",
       "      <td>2013.0</td>\n",
       "      <td>531.0</td>\n",
       "      <td>20130531.0</td>\n",
       "      <td>3720.0</td>\n",
       "      <td>...</td>\n",
       "      <td>NaN</td>\n",
       "      <td>NaN</td>\n",
       "      <td>NaN</td>\n",
       "      <td>NaN</td>\n",
       "      <td>NaN</td>\n",
       "      <td>NaN</td>\n",
       "      <td>NaN</td>\n",
       "      <td>NaN</td>\n",
       "      <td>NaN</td>\n",
       "      <td>Domestic</td>\n",
       "    </tr>\n",
       "    <tr>\n",
       "      <th>3</th>\n",
       "      <td>2.199500e+09</td>\n",
       "      <td>0001104659-14-067921</td>\n",
       "      <td>1750</td>\n",
       "      <td>NaN</td>\n",
       "      <td>20140531.0</td>\n",
       "      <td>362334820.0</td>\n",
       "      <td>2014.0</td>\n",
       "      <td>531.0</td>\n",
       "      <td>20140531.0</td>\n",
       "      <td>3720.0</td>\n",
       "      <td>...</td>\n",
       "      <td>NaN</td>\n",
       "      <td>NaN</td>\n",
       "      <td>NaN</td>\n",
       "      <td>NaN</td>\n",
       "      <td>NaN</td>\n",
       "      <td>NaN</td>\n",
       "      <td>NaN</td>\n",
       "      <td>NaN</td>\n",
       "      <td>NaN</td>\n",
       "      <td>Domestic</td>\n",
       "    </tr>\n",
       "    <tr>\n",
       "      <th>4</th>\n",
       "      <td>1.515000e+09</td>\n",
       "      <td>0001047469-15-006136</td>\n",
       "      <td>1750</td>\n",
       "      <td>NaN</td>\n",
       "      <td>20150531.0</td>\n",
       "      <td>362334820.0</td>\n",
       "      <td>2015.0</td>\n",
       "      <td>531.0</td>\n",
       "      <td>20150531.0</td>\n",
       "      <td>3720.0</td>\n",
       "      <td>...</td>\n",
       "      <td>NaN</td>\n",
       "      <td>NaN</td>\n",
       "      <td>NaN</td>\n",
       "      <td>NaN</td>\n",
       "      <td>NaN</td>\n",
       "      <td>NaN</td>\n",
       "      <td>10200000.0</td>\n",
       "      <td>1.593000e+08</td>\n",
       "      <td>1.040000e+07</td>\n",
       "      <td>Domestic</td>\n",
       "    </tr>\n",
       "    <tr>\n",
       "      <th>5</th>\n",
       "      <td>1.442100e+09</td>\n",
       "      <td>0001047469-16-014299</td>\n",
       "      <td>1750</td>\n",
       "      <td>NaN</td>\n",
       "      <td>20160531.0</td>\n",
       "      <td>362334820.0</td>\n",
       "      <td>2016.0</td>\n",
       "      <td>531.0</td>\n",
       "      <td>20160531.0</td>\n",
       "      <td>3720.0</td>\n",
       "      <td>...</td>\n",
       "      <td>NaN</td>\n",
       "      <td>NaN</td>\n",
       "      <td>NaN</td>\n",
       "      <td>NaN</td>\n",
       "      <td>NaN</td>\n",
       "      <td>NaN</td>\n",
       "      <td>47700000.0</td>\n",
       "      <td>2.369000e+08</td>\n",
       "      <td>4.770000e+07</td>\n",
       "      <td>Domestic</td>\n",
       "    </tr>\n",
       "    <tr>\n",
       "      <th>6</th>\n",
       "      <td>1.504100e+09</td>\n",
       "      <td>0001047469-17-004528</td>\n",
       "      <td>1750</td>\n",
       "      <td>NaN</td>\n",
       "      <td>20170531.0</td>\n",
       "      <td>362334820.0</td>\n",
       "      <td>2017.0</td>\n",
       "      <td>531.0</td>\n",
       "      <td>20170531.0</td>\n",
       "      <td>3720.0</td>\n",
       "      <td>...</td>\n",
       "      <td>NaN</td>\n",
       "      <td>NaN</td>\n",
       "      <td>NaN</td>\n",
       "      <td>NaN</td>\n",
       "      <td>NaN</td>\n",
       "      <td>NaN</td>\n",
       "      <td>56500000.0</td>\n",
       "      <td>2.765000e+08</td>\n",
       "      <td>5.650000e+07</td>\n",
       "      <td>Domestic</td>\n",
       "    </tr>\n",
       "    <tr>\n",
       "      <th>7</th>\n",
       "      <td>5.241662e+10</td>\n",
       "      <td>0001047469-10-001018</td>\n",
       "      <td>1800</td>\n",
       "      <td>NaN</td>\n",
       "      <td>20091231.0</td>\n",
       "      <td>360698440.0</td>\n",
       "      <td>2009.0</td>\n",
       "      <td>1231.0</td>\n",
       "      <td>20091231.0</td>\n",
       "      <td>2834.0</td>\n",
       "      <td>...</td>\n",
       "      <td>NaN</td>\n",
       "      <td>NaN</td>\n",
       "      <td>NaN</td>\n",
       "      <td>NaN</td>\n",
       "      <td>NaN</td>\n",
       "      <td>5.694000e+09</td>\n",
       "      <td>NaN</td>\n",
       "      <td>NaN</td>\n",
       "      <td>5.745838e+09</td>\n",
       "      <td>Domestic</td>\n",
       "    </tr>\n",
       "    <tr>\n",
       "      <th>8</th>\n",
       "      <td>5.946227e+10</td>\n",
       "      <td>0001047469-11-001056</td>\n",
       "      <td>1800</td>\n",
       "      <td>NaN</td>\n",
       "      <td>20101231.0</td>\n",
       "      <td>360698440.0</td>\n",
       "      <td>2010.0</td>\n",
       "      <td>1231.0</td>\n",
       "      <td>20101231.0</td>\n",
       "      <td>2834.0</td>\n",
       "      <td>...</td>\n",
       "      <td>5.692000e+09</td>\n",
       "      <td>NaN</td>\n",
       "      <td>NaN</td>\n",
       "      <td>-275000000.0</td>\n",
       "      <td>NaN</td>\n",
       "      <td>NaN</td>\n",
       "      <td>NaN</td>\n",
       "      <td>5.922800e+09</td>\n",
       "      <td>4.626172e+09</td>\n",
       "      <td>Foreign</td>\n",
       "    </tr>\n",
       "    <tr>\n",
       "      <th>9</th>\n",
       "      <td>6.027689e+10</td>\n",
       "      <td>0001047469-12-001216</td>\n",
       "      <td>1800</td>\n",
       "      <td>NaN</td>\n",
       "      <td>20111231.0</td>\n",
       "      <td>360698440.0</td>\n",
       "      <td>2011.0</td>\n",
       "      <td>1231.0</td>\n",
       "      <td>20111231.0</td>\n",
       "      <td>2834.0</td>\n",
       "      <td>...</td>\n",
       "      <td>4.835000e+09</td>\n",
       "      <td>NaN</td>\n",
       "      <td>NaN</td>\n",
       "      <td>364000000.0</td>\n",
       "      <td>NaN</td>\n",
       "      <td>NaN</td>\n",
       "      <td>NaN</td>\n",
       "      <td>6.539600e+09</td>\n",
       "      <td>NaN</td>\n",
       "      <td>Foreign</td>\n",
       "    </tr>\n",
       "  </tbody>\n",
       "</table>\n",
       "<p>10 rows × 31 columns</p>\n",
       "</div>"
      ],
      "text/plain": [
       "         Assets                  adsh   cik coreg       ddate          ein  \\\n",
       "0  1.703727e+09  0001047469-11-006302  1750   NaN  20110531.0  362334820.0   \n",
       "1  2.195700e+09  0001104659-12-065381  1750   NaN  20120531.0  362334820.0   \n",
       "2  2.136900e+09  0001104659-13-072128  1750   NaN  20130531.0  362334820.0   \n",
       "3  2.199500e+09  0001104659-14-067921  1750   NaN  20140531.0  362334820.0   \n",
       "4  1.515000e+09  0001047469-15-006136  1750   NaN  20150531.0  362334820.0   \n",
       "5  1.442100e+09  0001047469-16-014299  1750   NaN  20160531.0  362334820.0   \n",
       "6  1.504100e+09  0001047469-17-004528  1750   NaN  20170531.0  362334820.0   \n",
       "7  5.241662e+10  0001047469-10-001018  1800   NaN  20091231.0  360698440.0   \n",
       "8  5.946227e+10  0001047469-11-001056  1800   NaN  20101231.0  360698440.0   \n",
       "9  6.027689e+10  0001047469-12-001216  1800   NaN  20111231.0  360698440.0   \n",
       "\n",
       "       fy     fye      period     sic      ...       \\\n",
       "0  2011.0   531.0  20110531.0  3720.0      ...        \n",
       "1  2012.0   531.0  20120531.0  3720.0      ...        \n",
       "2  2013.0   531.0  20130531.0  3720.0      ...        \n",
       "3  2014.0   531.0  20140531.0  3720.0      ...        \n",
       "4  2015.0   531.0  20150531.0  3720.0      ...        \n",
       "5  2016.0   531.0  20160531.0  3720.0      ...        \n",
       "6  2017.0   531.0  20170531.0  3720.0      ...        \n",
       "7  2009.0  1231.0  20091231.0  2834.0      ...        \n",
       "8  2010.0  1231.0  20101231.0  2834.0      ...        \n",
       "9  2011.0  1231.0  20111231.0  2834.0      ...        \n",
       "\n",
       "   IncomeLossFromContinuingOperationsBeforeIncomeTaxesForeign  \\\n",
       "0                                                NaN            \n",
       "1                                                NaN            \n",
       "2                                                NaN            \n",
       "3                                                NaN            \n",
       "4                                                NaN            \n",
       "5                                                NaN            \n",
       "6                                                NaN            \n",
       "7                                                NaN            \n",
       "8                                       5.692000e+09            \n",
       "9                                       4.835000e+09            \n",
       "\n",
       "   IncomeLossFromContinuingOperationsBeforeIncomeTaxesMinorityInterestAndIncomeLossFromEquityMethodInvestments  \\\n",
       "0                                                NaN                                                             \n",
       "1                                                NaN                                                             \n",
       "2                                                NaN                                                             \n",
       "3                                                NaN                                                             \n",
       "4                                                NaN                                                             \n",
       "5                                                NaN                                                             \n",
       "6                                                NaN                                                             \n",
       "7                                                NaN                                                             \n",
       "8                                                NaN                                                             \n",
       "9                                                NaN                                                             \n",
       "\n",
       "   ForeignEarningsRepatriated  \\\n",
       "0                         NaN   \n",
       "1                         NaN   \n",
       "2                         NaN   \n",
       "3                         NaN   \n",
       "4                         NaN   \n",
       "5                         NaN   \n",
       "6                         NaN   \n",
       "7                         NaN   \n",
       "8                         NaN   \n",
       "9                         NaN   \n",
       "\n",
       "   IncomeLossFromContinuingOperationsBeforeIncomeTaxesDomestic  \\\n",
       "0                                                NaN             \n",
       "1                                                NaN             \n",
       "2                                                NaN             \n",
       "3                                                NaN             \n",
       "4                                                NaN             \n",
       "5                                                NaN             \n",
       "6                                                NaN             \n",
       "7                                                NaN             \n",
       "8                                       -275000000.0             \n",
       "9                                        364000000.0             \n",
       "\n",
       "   ResearchAndDevelopmentExpense   Liabilities  NetIncomeLoss   GrossProfit  \\\n",
       "0                            NaN           NaN     69826000.0           NaN   \n",
       "1                            NaN           NaN            NaN           NaN   \n",
       "2                            NaN           NaN            NaN           NaN   \n",
       "3                            NaN           NaN            NaN           NaN   \n",
       "4                            NaN           NaN     10200000.0  1.593000e+08   \n",
       "5                            NaN           NaN     47700000.0  2.369000e+08   \n",
       "6                            NaN           NaN     56500000.0  2.765000e+08   \n",
       "7                            NaN  5.694000e+09            NaN           NaN   \n",
       "8                            NaN           NaN            NaN  5.922800e+09   \n",
       "9                            NaN           NaN            NaN  6.539600e+09   \n",
       "\n",
       "     ProfitLoss  Type of Firm  \n",
       "0           NaN      Domestic  \n",
       "1           NaN      Domestic  \n",
       "2           NaN      Domestic  \n",
       "3           NaN      Domestic  \n",
       "4  1.040000e+07      Domestic  \n",
       "5  4.770000e+07      Domestic  \n",
       "6  5.650000e+07      Domestic  \n",
       "7  5.745838e+09      Domestic  \n",
       "8  4.626172e+09       Foreign  \n",
       "9           NaN       Foreign  \n",
       "\n",
       "[10 rows x 31 columns]"
      ]
     },
     "execution_count": 42,
     "metadata": {},
     "output_type": "execute_result"
    }
   ],
   "source": [
    "df.head(10)"
   ]
  },
  {
   "cell_type": "code",
   "execution_count": null,
   "metadata": {
    "collapsed": true
   },
   "outputs": [],
   "source": []
  }
 ],
 "metadata": {
  "kernelspec": {
   "display_name": "Python 3",
   "language": "python",
   "name": "python3"
  },
  "language_info": {
   "codemirror_mode": {
    "name": "ipython",
    "version": 3
   },
   "file_extension": ".py",
   "mimetype": "text/x-python",
   "name": "python",
   "nbconvert_exporter": "python",
   "pygments_lexer": "ipython3",
   "version": "3.6.6"
  }
 },
 "nbformat": 4,
 "nbformat_minor": 2
}
